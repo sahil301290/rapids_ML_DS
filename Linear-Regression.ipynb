{
 "cells": [
  {
   "cell_type": "code",
   "execution_count": 1,
   "id": "321d4ead",
   "metadata": {
    "_cell_guid": "b1076dfc-b9ad-4769-8c92-a6c4dae69d19",
    "_uuid": "8f2839f25d086af736a60e9eeb907d3b93b6e0e5",
    "execution": {
     "iopub.execute_input": "2022-02-14T12:22:19.354985Z",
     "iopub.status.busy": "2022-02-14T12:22:19.353501Z",
     "iopub.status.idle": "2022-02-14T12:22:25.473869Z",
     "shell.execute_reply": "2022-02-14T12:22:25.474288Z",
     "shell.execute_reply.started": "2022-02-14T12:17:23.341039Z"
    },
    "papermill": {
     "duration": 6.134611,
     "end_time": "2022-02-14T12:22:25.474524",
     "exception": false,
     "start_time": "2022-02-14T12:22:19.339913",
     "status": "completed"
    },
    "tags": []
   },
   "outputs": [
    {
     "data": {
      "text/html": [
       "<div>\n",
       "<style scoped>\n",
       "    .dataframe tbody tr th:only-of-type {\n",
       "        vertical-align: middle;\n",
       "    }\n",
       "\n",
       "    .dataframe tbody tr th {\n",
       "        vertical-align: top;\n",
       "    }\n",
       "\n",
       "    .dataframe thead th {\n",
       "        text-align: right;\n",
       "    }\n",
       "</style>\n",
       "<table border=\"1\" class=\"dataframe\">\n",
       "  <thead>\n",
       "    <tr style=\"text-align: right;\">\n",
       "      <th></th>\n",
       "      <th>CRIM</th>\n",
       "      <th>ZN</th>\n",
       "      <th>INDUS</th>\n",
       "      <th>CHAS</th>\n",
       "      <th>NOX</th>\n",
       "      <th>RM</th>\n",
       "      <th>AGE</th>\n",
       "      <th>DIS</th>\n",
       "      <th>RAD</th>\n",
       "      <th>TAX</th>\n",
       "      <th>PTRATIO</th>\n",
       "      <th>B</th>\n",
       "      <th>LSTAT</th>\n",
       "      <th>target</th>\n",
       "    </tr>\n",
       "  </thead>\n",
       "  <tbody>\n",
       "    <tr>\n",
       "      <th>0</th>\n",
       "      <td>0.00632</td>\n",
       "      <td>18.0</td>\n",
       "      <td>2.31</td>\n",
       "      <td>0.0</td>\n",
       "      <td>0.538</td>\n",
       "      <td>6.575</td>\n",
       "      <td>65.2</td>\n",
       "      <td>4.0900</td>\n",
       "      <td>1.0</td>\n",
       "      <td>296.0</td>\n",
       "      <td>15.3</td>\n",
       "      <td>396.90</td>\n",
       "      <td>4.98</td>\n",
       "      <td>24.0</td>\n",
       "    </tr>\n",
       "    <tr>\n",
       "      <th>1</th>\n",
       "      <td>0.02731</td>\n",
       "      <td>0.0</td>\n",
       "      <td>7.07</td>\n",
       "      <td>0.0</td>\n",
       "      <td>0.469</td>\n",
       "      <td>6.421</td>\n",
       "      <td>78.9</td>\n",
       "      <td>4.9671</td>\n",
       "      <td>2.0</td>\n",
       "      <td>242.0</td>\n",
       "      <td>17.8</td>\n",
       "      <td>396.90</td>\n",
       "      <td>9.14</td>\n",
       "      <td>21.6</td>\n",
       "    </tr>\n",
       "    <tr>\n",
       "      <th>2</th>\n",
       "      <td>0.02729</td>\n",
       "      <td>0.0</td>\n",
       "      <td>7.07</td>\n",
       "      <td>0.0</td>\n",
       "      <td>0.469</td>\n",
       "      <td>7.185</td>\n",
       "      <td>61.1</td>\n",
       "      <td>4.9671</td>\n",
       "      <td>2.0</td>\n",
       "      <td>242.0</td>\n",
       "      <td>17.8</td>\n",
       "      <td>392.83</td>\n",
       "      <td>4.03</td>\n",
       "      <td>34.7</td>\n",
       "    </tr>\n",
       "    <tr>\n",
       "      <th>3</th>\n",
       "      <td>0.03237</td>\n",
       "      <td>0.0</td>\n",
       "      <td>2.18</td>\n",
       "      <td>0.0</td>\n",
       "      <td>0.458</td>\n",
       "      <td>6.998</td>\n",
       "      <td>45.8</td>\n",
       "      <td>6.0622</td>\n",
       "      <td>3.0</td>\n",
       "      <td>222.0</td>\n",
       "      <td>18.7</td>\n",
       "      <td>394.63</td>\n",
       "      <td>2.94</td>\n",
       "      <td>33.4</td>\n",
       "    </tr>\n",
       "    <tr>\n",
       "      <th>4</th>\n",
       "      <td>0.06905</td>\n",
       "      <td>0.0</td>\n",
       "      <td>2.18</td>\n",
       "      <td>0.0</td>\n",
       "      <td>0.458</td>\n",
       "      <td>7.147</td>\n",
       "      <td>54.2</td>\n",
       "      <td>6.0622</td>\n",
       "      <td>3.0</td>\n",
       "      <td>222.0</td>\n",
       "      <td>18.7</td>\n",
       "      <td>396.90</td>\n",
       "      <td>5.33</td>\n",
       "      <td>36.2</td>\n",
       "    </tr>\n",
       "  </tbody>\n",
       "</table>\n",
       "</div>"
      ],
      "text/plain": [
       "      CRIM    ZN  INDUS  CHAS    NOX     RM   AGE     DIS  RAD    TAX  \\\n",
       "0  0.00632  18.0   2.31   0.0  0.538  6.575  65.2  4.0900  1.0  296.0   \n",
       "1  0.02731   0.0   7.07   0.0  0.469  6.421  78.9  4.9671  2.0  242.0   \n",
       "2  0.02729   0.0   7.07   0.0  0.469  7.185  61.1  4.9671  2.0  242.0   \n",
       "3  0.03237   0.0   2.18   0.0  0.458  6.998  45.8  6.0622  3.0  222.0   \n",
       "4  0.06905   0.0   2.18   0.0  0.458  7.147  54.2  6.0622  3.0  222.0   \n",
       "\n",
       "   PTRATIO       B  LSTAT  target  \n",
       "0     15.3  396.90   4.98    24.0  \n",
       "1     17.8  396.90   9.14    21.6  \n",
       "2     17.8  392.83   4.03    34.7  \n",
       "3     18.7  394.63   2.94    33.4  \n",
       "4     18.7  396.90   5.33    36.2  "
      ]
     },
     "execution_count": 1,
     "metadata": {},
     "output_type": "execute_result"
    }
   ],
   "source": [
    "import cudf as pd\n",
    "from sklearn.datasets import load_boston\n",
    "boston = load_boston()\n",
    "df = pd.DataFrame(data=boston.data, columns = ['CRIM', 'ZN', 'INDUS', 'CHAS', 'NOX', 'RM', 'AGE', 'DIS', 'RAD',\n",
    "        'TAX', 'PTRATIO', 'B', 'LSTAT'])\n",
    "df['target'] = boston.target\n",
    "df.head(5)"
   ]
  },
  {
   "cell_type": "code",
   "execution_count": 2,
   "id": "a3fc165a",
   "metadata": {
    "execution": {
     "iopub.execute_input": "2022-02-14T12:22:25.504277Z",
     "iopub.status.busy": "2022-02-14T12:22:25.503474Z",
     "iopub.status.idle": "2022-02-14T12:22:25.735724Z",
     "shell.execute_reply": "2022-02-14T12:22:25.735293Z",
     "shell.execute_reply.started": "2022-02-14T12:17:30.989249Z"
    },
    "papermill": {
     "duration": 0.249266,
     "end_time": "2022-02-14T12:22:25.735888",
     "exception": false,
     "start_time": "2022-02-14T12:22:25.486622",
     "status": "completed"
    },
    "tags": []
   },
   "outputs": [],
   "source": [
    "import cupy as np\n",
    "X=df.iloc[:,0:13]\n",
    "Y=df.iloc[:,13]\n",
    "Y=np.array(Y)\n",
    "Y=Y.reshape(-1,1)"
   ]
  },
  {
   "cell_type": "code",
   "execution_count": 3,
   "id": "4f77c006",
   "metadata": {
    "execution": {
     "iopub.execute_input": "2022-02-14T12:22:25.760791Z",
     "iopub.status.busy": "2022-02-14T12:22:25.760005Z",
     "iopub.status.idle": "2022-02-14T12:22:25.764846Z",
     "shell.execute_reply": "2022-02-14T12:22:25.764401Z",
     "shell.execute_reply.started": "2022-02-14T12:17:31.383266Z"
    },
    "papermill": {
     "duration": 0.019019,
     "end_time": "2022-02-14T12:22:25.764955",
     "exception": false,
     "start_time": "2022-02-14T12:22:25.745936",
     "status": "completed"
    },
    "tags": []
   },
   "outputs": [],
   "source": [
    "from sklearn.preprocessing import StandardScaler\n",
    "scaler=StandardScaler()\n",
    "X_scaled=scaler.fit_transform(X.as_matrix())"
   ]
  },
  {
   "cell_type": "code",
   "execution_count": 4,
   "id": "2b727580",
   "metadata": {
    "execution": {
     "iopub.execute_input": "2022-02-14T12:22:25.790133Z",
     "iopub.status.busy": "2022-02-14T12:22:25.789493Z",
     "iopub.status.idle": "2022-02-14T12:22:25.792255Z",
     "shell.execute_reply": "2022-02-14T12:22:25.792688Z",
     "shell.execute_reply.started": "2022-02-14T12:17:31.400053Z"
    },
    "papermill": {
     "duration": 0.018215,
     "end_time": "2022-02-14T12:22:25.792825",
     "exception": false,
     "start_time": "2022-02-14T12:22:25.774610",
     "status": "completed"
    },
    "tags": []
   },
   "outputs": [
    {
     "data": {
      "text/plain": [
       "array([[-0.41978194,  0.28482986, -1.2879095 , ..., -1.45900038,\n",
       "         0.44105193, -1.0755623 ],\n",
       "       [-0.41733926, -0.48772236, -0.59338101, ..., -0.30309415,\n",
       "         0.44105193, -0.49243937],\n",
       "       [-0.41734159, -0.48772236, -0.59338101, ..., -0.30309415,\n",
       "         0.39642699, -1.2087274 ],\n",
       "       ...,\n",
       "       [-0.41344658, -0.48772236,  0.11573841, ...,  1.17646583,\n",
       "         0.44105193, -0.98304761],\n",
       "       [-0.40776407, -0.48772236,  0.11573841, ...,  1.17646583,\n",
       "         0.4032249 , -0.86530163],\n",
       "       [-0.41500016, -0.48772236,  0.11573841, ...,  1.17646583,\n",
       "         0.44105193, -0.66905833]])"
      ]
     },
     "execution_count": 4,
     "metadata": {},
     "output_type": "execute_result"
    }
   ],
   "source": [
    "X_scaled"
   ]
  },
  {
   "cell_type": "code",
   "execution_count": 5,
   "id": "90f45bb4",
   "metadata": {
    "execution": {
     "iopub.execute_input": "2022-02-14T12:22:25.817680Z",
     "iopub.status.busy": "2022-02-14T12:22:25.816935Z",
     "iopub.status.idle": "2022-02-14T12:22:26.079023Z",
     "shell.execute_reply": "2022-02-14T12:22:26.078512Z",
     "shell.execute_reply.started": "2022-02-14T12:17:31.413200Z"
    },
    "papermill": {
     "duration": 0.27629,
     "end_time": "2022-02-14T12:22:26.079154",
     "exception": false,
     "start_time": "2022-02-14T12:22:25.802864",
     "status": "completed"
    },
    "tags": []
   },
   "outputs": [],
   "source": [
    "from sklearn.model_selection import train_test_split\n",
    "X_train, X_test, y_train, y_test = train_test_split(X_scaled, Y, test_size=0.3, random_state=42)"
   ]
  },
  {
   "cell_type": "code",
   "execution_count": 6,
   "id": "d8c33f2e",
   "metadata": {
    "execution": {
     "iopub.execute_input": "2022-02-14T12:22:26.104349Z",
     "iopub.status.busy": "2022-02-14T12:22:26.103675Z",
     "iopub.status.idle": "2022-02-14T12:22:26.106617Z",
     "shell.execute_reply": "2022-02-14T12:22:26.107050Z",
     "shell.execute_reply.started": "2022-02-14T12:17:31.748508Z"
    },
    "papermill": {
     "duration": 0.017596,
     "end_time": "2022-02-14T12:22:26.107172",
     "exception": false,
     "start_time": "2022-02-14T12:22:26.089576",
     "status": "completed"
    },
    "tags": []
   },
   "outputs": [
    {
     "name": "stdout",
     "output_type": "stream",
     "text": [
      "(354, 13)\n",
      "(152, 13)\n",
      "(354, 1)\n",
      "(152, 1)\n"
     ]
    }
   ],
   "source": [
    "print(X_train.shape)\n",
    "print(X_test.shape)\n",
    "print(y_train.shape)\n",
    "print(y_test.shape)"
   ]
  },
  {
   "cell_type": "code",
   "execution_count": 7,
   "id": "b446c3cd",
   "metadata": {
    "execution": {
     "iopub.execute_input": "2022-02-14T12:22:26.131831Z",
     "iopub.status.busy": "2022-02-14T12:22:26.131233Z",
     "iopub.status.idle": "2022-02-14T12:22:26.612355Z",
     "shell.execute_reply": "2022-02-14T12:22:26.611908Z",
     "shell.execute_reply.started": "2022-02-14T12:17:31.761105Z"
    },
    "papermill": {
     "duration": 0.49459,
     "end_time": "2022-02-14T12:22:26.612473",
     "exception": false,
     "start_time": "2022-02-14T12:22:26.117883",
     "status": "completed"
    },
    "tags": []
   },
   "outputs": [],
   "source": [
    "import cuml\n",
    "from cuml import LinearRegression"
   ]
  },
  {
   "cell_type": "code",
   "execution_count": 8,
   "id": "e3c74664",
   "metadata": {
    "execution": {
     "iopub.execute_input": "2022-02-14T12:22:28.031658Z",
     "iopub.status.busy": "2022-02-14T12:22:28.030329Z",
     "iopub.status.idle": "2022-02-14T12:22:31.699437Z",
     "shell.execute_reply": "2022-02-14T12:22:31.699924Z",
     "shell.execute_reply.started": "2022-02-14T12:17:32.329178Z"
    },
    "papermill": {
     "duration": 5.076754,
     "end_time": "2022-02-14T12:22:31.700092",
     "exception": false,
     "start_time": "2022-02-14T12:22:26.623338",
     "status": "completed"
    },
    "tags": []
   },
   "outputs": [
    {
     "name": "stdout",
     "output_type": "stream",
     "text": [
      "Coefficients:\n",
      "[-1.14691411  0.83432605  0.33940694  0.79163612 -1.784727    2.84783949\n",
      " -0.30429306 -2.91562521  2.11140045 -1.46519951 -1.9696347   1.07567771\n",
      " -3.90310727]\n",
      "Intercept:\n",
      "22.50945471291038\n",
      "Predictions:\n",
      "[28.64896005 36.49501384 15.4111932  25.40321303 18.85527988 23.14668944\n",
      " 17.3921241  14.07859899 23.03692679 20.59943345 24.82286159 18.53057049\n",
      " -6.86543527 21.80172334 19.22571177 26.19191985 20.27733882  5.61596432\n",
      " 40.44887974 17.57695918 27.44319095 30.1715964  10.94055823 24.02083139\n",
      " 18.07693812 15.934748   23.12614028 14.56052142 22.33482544 19.3257627\n",
      " 22.16564973 25.19476081 25.31372473 18.51345025 16.6223286  17.50268505\n",
      " 30.94992991 20.19201752 23.90440431 24.86975466 13.93767876 31.82504715\n",
      " 42.56978796 17.62323805 27.01963242 17.19006621 13.80594006 26.10356557\n",
      " 20.31516118 30.08649576 21.3124053  34.15739602 15.60444981 26.11247588\n",
      " 39.31613646 22.99282065 18.95764781 33.05555669 24.85114223 12.91729352\n",
      " 22.68101452 30.80336295 31.63522027 16.29833689 21.07379993 16.57699669\n",
      " 20.36362023 26.15615896 31.06833034 11.98679953 20.42550472 27.55676301\n",
      " 10.94316981 16.82660609 23.92909733  5.28065815 21.43504661 41.33684993\n",
      " 18.22211675  9.48269245 21.19857446 12.95001331 21.64822797  9.3845568\n",
      " 23.06060014 31.95762512 19.16662892 25.59942257 29.35043558 20.13138581\n",
      " 25.57297369  5.42970803 20.23169356 15.1949595  14.03241742 20.91078077\n",
      " 24.82249135 -0.47712079 13.70520524 15.69525576 22.06972676 24.64152943\n",
      " 10.7382866  19.68622564 23.63678009 12.07974981 18.47894211 25.52713393\n",
      " 20.93461307 24.6955941   7.59054562 19.01046053 21.9444339  27.22319977\n",
      " 32.18608828 15.27826455 34.39190421 12.96314168 21.01681316 28.57880911\n",
      " 15.86300844 24.85124135  3.37937111 23.90465773 25.81792146 23.11020547\n",
      " 25.33489201 33.35545176 20.60724498 38.4772665  13.97398533 25.21923987\n",
      " 17.80946626 20.63437371  9.80267398 21.07953576 22.3378417  32.32381854\n",
      " 31.48694863 15.46621287 16.86242766 28.99330526 24.95467894 16.73633557\n",
      "  6.12858395 26.65990044 23.34007187 17.40367164 13.38594123 39.98342478\n",
      " 16.68286302 18.28561759]\n",
      "MSE:\n",
      "139.59932404504923\n",
      "R2 Score:\n",
      "0.711226005748492\n",
      "MAE:\n",
      "8.983415627235035\n"
     ]
    }
   ],
   "source": [
    "lr = LinearRegression(fit_intercept = True, normalize = False, algorithm = 'eig')\n",
    "reg = lr.fit(X_train,y_train)\n",
    "print(\"Coefficients:\")\n",
    "print(reg.coef_)\n",
    "print(\"Intercept:\")\n",
    "print(reg.intercept_)\n",
    "preds = lr.predict(X_test)\n",
    "print(\"Predictions:\")\n",
    "print(preds)\n",
    "print(\"MSE:\")\n",
    "print(cuml.metrics.regression.mean_squared_error(y_test,preds))\n",
    "print(\"R2 Score:\")\n",
    "print(cuml.metrics.regression.r2_score(y_test,preds))\n",
    "print(\"MAE:\")\n",
    "print(cuml.metrics.regression.mean_absolute_error(y_test,preds))"
   ]
  },
  {
   "cell_type": "code",
   "execution_count": 9,
   "id": "1c6412b8",
   "metadata": {
    "execution": {
     "iopub.execute_input": "2022-02-14T12:22:31.727510Z",
     "iopub.status.busy": "2022-02-14T12:22:31.726865Z",
     "iopub.status.idle": "2022-02-14T12:22:31.729453Z",
     "shell.execute_reply": "2022-02-14T12:22:31.729000Z",
     "shell.execute_reply.started": "2022-02-14T12:17:38.412827Z"
    },
    "papermill": {
     "duration": 0.017566,
     "end_time": "2022-02-14T12:22:31.729557",
     "exception": false,
     "start_time": "2022-02-14T12:22:31.711991",
     "status": "completed"
    },
    "tags": []
   },
   "outputs": [],
   "source": [
    "algorithm = ['svd', 'eig', 'qr', 'svd-qr', 'svd-jacobi']"
   ]
  },
  {
   "cell_type": "code",
   "execution_count": 10,
   "id": "e1395e0d",
   "metadata": {
    "execution": {
     "iopub.execute_input": "2022-02-14T12:22:31.759549Z",
     "iopub.status.busy": "2022-02-14T12:22:31.758516Z",
     "iopub.status.idle": "2022-02-14T12:22:32.040565Z",
     "shell.execute_reply": "2022-02-14T12:22:32.041530Z",
     "shell.execute_reply.started": "2022-02-14T12:17:38.423353Z"
    },
    "papermill": {
     "duration": 0.300467,
     "end_time": "2022-02-14T12:22:32.041753",
     "exception": false,
     "start_time": "2022-02-14T12:22:31.741286",
     "status": "completed"
    },
    "tags": []
   },
   "outputs": [
    {
     "name": "stdout",
     "output_type": "stream",
     "text": [
      "Algorithm:\n",
      "svd\n",
      "MSE:\n",
      "139.59932404504897\n",
      "R2 Score:\n",
      "0.7112260057484925\n",
      "MAE:\n",
      "8.983415627235024\n",
      "Algorithm:\n",
      "eig\n",
      "MSE:\n",
      "139.59932404504923\n",
      "R2 Score:\n",
      "0.711226005748492\n",
      "MAE:\n",
      "8.983415627235035\n",
      "Algorithm:\n",
      "qr\n",
      "MSE:\n",
      "139.59932404504897\n",
      "R2 Score:\n",
      "0.7112260057484925\n",
      "MAE:\n",
      "8.983415627235024\n",
      "Algorithm:\n",
      "svd-qr\n",
      "MSE:\n",
      "77.29709884147577\n",
      "R2 Score:\n",
      "-0.06387682173517528\n",
      "MAE:\n",
      "6.538584813856789\n",
      "Algorithm:\n",
      "svd-jacobi\n",
      "MSE:\n",
      "77.29709884147577\n",
      "R2 Score:\n",
      "-0.06387682173517528\n",
      "MAE:\n",
      "6.538584813856789\n"
     ]
    }
   ],
   "source": [
    "for i in algorithm:\n",
    "    print(\"Algorithm:\")\n",
    "    print(i)\n",
    "    lr = LinearRegression(fit_intercept = True, normalize = False, algorithm = i)\n",
    "    reg = lr.fit(X_train,y_train)\n",
    "    preds = lr.predict(X_test)\n",
    "    print(\"MSE:\")\n",
    "    print(cuml.metrics.regression.mean_squared_error(y_test,preds))\n",
    "    print(\"R2 Score:\")\n",
    "    print(cuml.metrics.regression.r2_score(y_test,preds))\n",
    "    print(\"MAE:\")\n",
    "    print(cuml.metrics.regression.mean_absolute_error(y_test,preds))"
   ]
  }
 ],
 "metadata": {
  "kernelspec": {
   "display_name": "Python 3",
   "language": "python",
   "name": "python3"
  },
  "language_info": {
   "codemirror_mode": {
    "name": "ipython",
    "version": 3
   },
   "file_extension": ".py",
   "mimetype": "text/x-python",
   "name": "python",
   "nbconvert_exporter": "python",
   "pygments_lexer": "ipython3",
   "version": "3.7.12"
  },
  "papermill": {
   "default_parameters": {},
   "duration": 22.229766,
   "end_time": "2022-02-14T12:22:33.679813",
   "environment_variables": {},
   "exception": null,
   "input_path": "__notebook__.ipynb",
   "output_path": "__notebook__.ipynb",
   "parameters": {},
   "start_time": "2022-02-14T12:22:11.450047",
   "version": "2.3.3"
  }
 },
 "nbformat": 4,
 "nbformat_minor": 5
}
