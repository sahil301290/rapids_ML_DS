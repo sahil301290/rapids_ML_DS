{
  "cells": [
    {
      "cell_type": "markdown",
      "metadata": {
        "id": "view-in-github",
        "colab_type": "text"
      },
      "source": [
        "<a href=\"https://colab.research.google.com/github/sahil301290/rapids_ML_DS/blob/main/Unit_4_NLP_10_Soundex.ipynb\" target=\"_parent\"><img src=\"https://colab.research.google.com/assets/colab-badge.svg\" alt=\"Open In Colab\"/></a>"
      ]
    },
    {
      "cell_type": "markdown",
      "metadata": {
        "id": "0dkfBNlyfOTA"
      },
      "source": [
        "## Soundex"
      ]
    },
    {
      "cell_type": "markdown",
      "metadata": {
        "id": "WS_iscLOfOTG"
      },
      "source": [
        "Let's create a function which calculates the soundex of any given string "
      ]
    },
    {
      "cell_type": "code",
      "execution_count": 1,
      "metadata": {
        "id": "edET-hTpfOTH"
      },
      "outputs": [],
      "source": [
        "def get_soundex(token):\n",
        "    \"\"\"Get the soundex code for the string\"\"\"\n",
        "    token = token.upper()\n",
        "\n",
        "    soundex = \"\"\n",
        "    \n",
        "    # first letter of input is always the first letter of soundex\n",
        "    soundex += token[0]\n",
        "    \n",
        "    # create a dictionary which maps letters to respective soundex codes. Vowels and 'H', 'W' and 'Y' will be represented by '.'\n",
        "    dictionary = {\"BFPV\": \"1\", \"CGJKQSXZ\":\"2\", \"DT\":\"3\", \"L\":\"4\", \"MN\":\"5\", \"R\":\"6\", \"AEIOUHWY\":\".\"}\n",
        "    \n",
        "    for char in token[1:]:\n",
        "        for key in dictionary.keys():\n",
        "            if char in key:\n",
        "                code = dictionary[key] \n",
        "                if code != '.': \n",
        "                    if code != soundex[-1]: \n",
        "                        soundex += code \n",
        "                    \n",
        "    \n",
        "    # trim or pad to make soundex a 4-character code\n",
        "    soundex = soundex[:4].ljust(4, \"0\")\n",
        "        \n",
        "    return soundex"
      ]
    },
    {
      "cell_type": "markdown",
      "metadata": {
        "id": "WuO4p3KrfOTJ"
      },
      "source": [
        "Let's see what's the soudex of 'Bombay' and 'Bambai'"
      ]
    },
    {
      "cell_type": "code",
      "execution_count": 2,
      "metadata": {
        "colab": {
          "base_uri": "https://localhost:8080/"
        },
        "id": "mTrIW8o5fOTK",
        "outputId": "9b7a844b-4117-40cd-89b8-4527fdec4f42"
      },
      "outputs": [
        {
          "output_type": "stream",
          "name": "stdout",
          "text": [
            "S300\n",
            "A261\n"
          ]
        }
      ],
      "source": [
        "print(get_soundex(\"STOUT\"))\n",
        "print(get_soundex(\"Ashcraft\"))"
      ]
    },
    {
      "cell_type": "code",
      "execution_count": 3,
      "metadata": {
        "colab": {
          "base_uri": "https://localhost:8080/"
        },
        "id": "zn_sjKH7fOTL",
        "outputId": "8ba7c10a-06f6-4d00-acb7-8d6f5fd2e044"
      },
      "outputs": [
        {
          "output_type": "stream",
          "name": "stdout",
          "text": [
            "S300\n",
            "A261\n"
          ]
        }
      ],
      "source": [
        "print(get_soundex(\"STOUT\"))\n",
        "print(get_soundex(\"Ashcraft\"))"
      ]
    },
    {
      "cell_type": "markdown",
      "metadata": {
        "id": "CqlaI9vifOTL"
      },
      "source": [
        "Let's see soundex of 'Aggrawal', 'Agrawal', 'Aggarwal' and 'Agarwal'"
      ]
    },
    {
      "cell_type": "code",
      "execution_count": 4,
      "metadata": {
        "colab": {
          "base_uri": "https://localhost:8080/"
        },
        "id": "vvf10IZwfOTM",
        "outputId": "4e5aa38f-0843-4b2a-ad40-98ea2f352fae"
      },
      "outputs": [
        {
          "output_type": "stream",
          "name": "stdout",
          "text": [
            "A264\n",
            "A264\n",
            "A264\n",
            "A264\n"
          ]
        }
      ],
      "source": [
        "print(get_soundex(\"Aggrawal\"))\n",
        "print(get_soundex(\"Agrawal\"))\n",
        "print(get_soundex(\"Aggarwal\"))\n",
        "print(get_soundex(\"Agarwal\"))"
      ]
    },
    {
      "cell_type": "code",
      "source": [
        "print(get_soundex(\"Patiala\"))\n",
        "print(get_soundex(\"Patiyala\"))\n",
        "print(get_soundex(\"Mohali\"))\n",
        "print(get_soundex(\"Mahali\"))\n",
        "print(get_soundex(\"Mississippi\"))\n",
        "print(get_soundex(\"Modelling\"))\n",
        "print(get_soundex(\"Modeling\"))"
      ],
      "metadata": {
        "colab": {
          "base_uri": "https://localhost:8080/"
        },
        "id": "btE5N1tEfYB1",
        "outputId": "71100d94-7b54-4af6-b8b2-45c7ea9a9adf"
      },
      "execution_count": 5,
      "outputs": [
        {
          "output_type": "stream",
          "name": "stdout",
          "text": [
            "P340\n",
            "P340\n",
            "M400\n",
            "M400\n",
            "M210\n",
            "M345\n",
            "M345\n"
          ]
        }
      ]
    }
  ],
  "metadata": {
    "kernelspec": {
      "display_name": "Python 3",
      "language": "python",
      "name": "python3"
    },
    "language_info": {
      "codemirror_mode": {
        "name": "ipython",
        "version": 3
      },
      "file_extension": ".py",
      "mimetype": "text/x-python",
      "name": "python",
      "nbconvert_exporter": "python",
      "pygments_lexer": "ipython3",
      "version": "3.7.3"
    },
    "colab": {
      "name": "Unit_4_NLP_10_Soundex.ipynb",
      "provenance": [],
      "include_colab_link": true
    }
  },
  "nbformat": 4,
  "nbformat_minor": 0
}