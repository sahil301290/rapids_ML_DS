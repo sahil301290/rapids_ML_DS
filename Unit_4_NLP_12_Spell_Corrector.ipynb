{
  "cells": [
    {
      "cell_type": "markdown",
      "metadata": {
        "id": "view-in-github",
        "colab_type": "text"
      },
      "source": [
        "<a href=\"https://colab.research.google.com/github/sahil301290/rapids_ML_DS/blob/main/Unit_4_NLP_12_Spell_Corrector.ipynb\" target=\"_parent\"><img src=\"https://colab.research.google.com/assets/colab-badge.svg\" alt=\"Open In Colab\"/></a>"
      ]
    },
    {
      "cell_type": "code",
      "execution_count": 1,
      "metadata": {
        "collapsed": true,
        "id": "Fq7-iuEC2JTB"
      },
      "outputs": [],
      "source": [
        "import re\n",
        "from collections import Counter"
      ]
    },
    {
      "cell_type": "code",
      "execution_count": 2,
      "metadata": {
        "collapsed": true,
        "id": "I8W3763c2JTL"
      },
      "outputs": [],
      "source": [
        "# function to tokenise words\n",
        "def words(document):\n",
        "    \"Convert text to lower case and tokenise the document\"\n",
        "    return re.findall(r'\\w+', document.lower())"
      ]
    },
    {
      "cell_type": "code",
      "execution_count": 3,
      "metadata": {
        "collapsed": true,
        "id": "2E5B2U1l2JTM"
      },
      "outputs": [],
      "source": [
        "# create a frequency table of all the words of the document\n",
        "all_words = Counter(words(open('sample_spell.txt').read()))"
      ]
    },
    {
      "cell_type": "code",
      "execution_count": 4,
      "metadata": {
        "colab": {
          "base_uri": "https://localhost:8080/"
        },
        "id": "6oLYZuNr2JTN",
        "outputId": "9ccfd62b-9e17-4241-8f1e-63fd90745fc6"
      },
      "outputs": [
        {
          "output_type": "execute_result",
          "data": {
            "text/plain": [
              "135"
            ]
          },
          "metadata": {},
          "execution_count": 4
        }
      ],
      "source": [
        "# check frequency of a random word, say, 'chair'\n",
        "all_words['chair']"
      ]
    },
    {
      "cell_type": "code",
      "execution_count": 5,
      "metadata": {
        "colab": {
          "base_uri": "https://localhost:8080/"
        },
        "id": "BmPxD60w2JTO",
        "outputId": "3988de6f-8a13-4394-ebeb-ac9c00551489"
      },
      "outputs": [
        {
          "output_type": "execute_result",
          "data": {
            "text/plain": [
              "[('the', 79809),\n",
              " ('of', 40024),\n",
              " ('and', 38312),\n",
              " ('to', 28765),\n",
              " ('in', 22023),\n",
              " ('a', 21124),\n",
              " ('that', 12512),\n",
              " ('he', 12401),\n",
              " ('was', 11410),\n",
              " ('it', 10681)]"
            ]
          },
          "metadata": {},
          "execution_count": 5
        }
      ],
      "source": [
        "# look at top 10 frequent words\n",
        "all_words.most_common(10)"
      ]
    },
    {
      "cell_type": "code",
      "execution_count": 6,
      "metadata": {
        "collapsed": true,
        "id": "j49upknv2JTO"
      },
      "outputs": [],
      "source": [
        "def edits_one(word):\n",
        "    \"Create all edits that are one edit away from `word`.\"\n",
        "    alphabets    = 'abcdefghijklmnopqrstuvwxyz'\n",
        "    splits     = [(word[:i], word[i:])                   for i in range(len(word) + 1)]\n",
        "    deletes    = [left + right[1:]                       for left, right in splits if right]\n",
        "    inserts    = [left + c + right                       for left, right in splits for c in alphabets]\n",
        "    replaces   = [left + c + right[1:]                   for left, right in splits if right for c in alphabets]\n",
        "    transposes = [left + right[1] + right[0] + right[2:] for left, right in splits if len(right)>1]\n",
        "    return set(deletes + inserts + replaces + transposes)"
      ]
    },
    {
      "cell_type": "code",
      "execution_count": 7,
      "metadata": {
        "collapsed": true,
        "id": "XZUp-yTo2JTP"
      },
      "outputs": [],
      "source": [
        "def edits_two(word):\n",
        "    \"Create all edits that are two edits away from `word`.\"\n",
        "    return (e2 for e1 in edits_one(word) for e2 in edits_one(e1))"
      ]
    },
    {
      "cell_type": "code",
      "execution_count": 8,
      "metadata": {
        "collapsed": true,
        "id": "f2iQ2Xtf2JTQ"
      },
      "outputs": [],
      "source": [
        "def known(words):\n",
        "    \"The subset of `words` that appear in the `all_words`.\"\n",
        "    return set(word for word in words if word in all_words)"
      ]
    },
    {
      "cell_type": "code",
      "execution_count": 9,
      "metadata": {
        "collapsed": true,
        "id": "KxmmxL2Z2JTR"
      },
      "outputs": [],
      "source": [
        "def possible_corrections(word):\n",
        "    \"Generate possible spelling corrections for word.\"\n",
        "    return (known([word]) or known(edits_one(word)) or known(edits_two(word)) or [word])"
      ]
    },
    {
      "cell_type": "code",
      "execution_count": 10,
      "metadata": {
        "collapsed": true,
        "id": "gYt4mtK12JTS"
      },
      "outputs": [],
      "source": [
        "def prob(word, N=sum(all_words.values())): \n",
        "    \"Probability of `word`: Number of appearances of 'word' / total number of tokens\"\n",
        "    return all_words[word] / N"
      ]
    },
    {
      "cell_type": "code",
      "execution_count": 11,
      "metadata": {
        "colab": {
          "base_uri": "https://localhost:8080/"
        },
        "id": "KqILSod42JTS",
        "outputId": "d5bdf0fa-ca07-401b-f50c-1d80eede3dcd"
      },
      "outputs": [
        {
          "output_type": "stream",
          "name": "stdout",
          "text": [
            "336\n",
            "{'monnev', 'mohnney', 'mbnney', 'monneys', 'moncney', 'mwnney', 'monhney', 'moynney', 'moenney', 'uonney', 'monnuey', 'minney', 'monbney', 'mmnney', 'dmonney', 'monxey', 'mrnney', 'mojnney', 'monnoey', 'monnewy', 'monnezy', 'money', 'monnej', 'monnel', 'molnney', 'yonney', 'mondey', 'mjonney', 'mouney', 'mononey', 'mohney', 'monnvy', 'moniney', 'monaey', 'monnef', 'ponney', 'monnby', 'monnfy', 'monneyz', 'monnsy', 'monnjey', 'mnonney', 'monnemy', 'monneay', 'mobnney', 'wmonney', 'mtonney', 'hmonney', 'monley', 'mconney', 'monneg', 'moanney', 'monmney', 'monnfey', 'monneyt', 'monneya', 'mocney', 'monneiy', 'monnry', 'monnay', 'monnety', 'monnez', 'motney', 'monneyj', 'monkey', 'monnery', 'monneyu', 'msonney', 'monnoy', 'mongney', 'monzey', 'monnkey', 'mdonney', 'monneyb', 'mqonney', 'moeney', 'monnepy', 'monnem', 'gonney', 'monaney', 'monneey', 'moneey', 'monniy', 'monfney', 'amonney', 'mojney', 'monrney', 'monnvey', 'movnney', 'myonney', 'monnegy', 'mknney', 'monnejy', 'monneyx', 'monkney', 'monrey', 'tmonney', 'mnnney', 'momney', 'ronney', 'monnaey', 'monnek', 'monnefy', 'monndey', 'gmonney', 'monneyn', 'monneyo', 'monny', 'mgnney', 'cmonney', 'modney', 'muonney', 'mnoney', 'monnyy', 'monnye', 'monnhey', 'monner', 'moknney', 'maonney', 'mofney', 'monnpey', 'monneyw', 'monwney', 'monnqy', 'mooney', 'mgonney', 'movney', 'monyey', 'monnea', 'mongey', 'moinney', 'monnecy', 'monnevy', 'mynney', 'monngy', 'monjney', 'moqney', 'monnep', 'momnney', 'monvney', 'rmonney', 'monpey', 'oonney', 'mlonney', 'monneyi', 'monnsey', 'omonney', 'monzney', 'monoey', 'monneyf', 'montey', 'mzonney', 'monnely', 'monnex', 'mopnney', 'vonney', 'monnqey', 'qmonney', 'monneq', 'mowney', 'monncey', 'mofnney', 'monnhy', 'mvnney', 'monuney', 'monncy', 'monney', 'monnehy', 'monneyv', 'mlnney', 'mogney', 'manney', 'mosnney', 'mvonney', 'moyney', 'monneyk', 'monnbey', 'monnwy', 'munney', 'monneb', 'monneh', 'jonney', 'nonney', 'emonney', 'ymonney', 'bonney', 'xonney', 'nmonney', 'moncey', 'mqnney', 'molney', 'monnzy', 'monndy', 'mozney', 'monnty', 'monnyey', 'monnei', 'monbey', 'monjey', 'motnney', 'moonney', 'mionney', 'conney', 'monnly', 'monnrey', 'monneyr', 'omnney', 'donney', 'monneo', 'monnwey', 'honney', 'eonney', 'kmonney', 'monyney', 'monntey', 'monne', 'mponney', 'mronney', 'mwonney', 'bmonney', 'moxnney', 'monneyl', 'monneym', 'monnuy', 'monvey', 'mkonney', 'monneyq', 'ionney', 'monnec', 'mxnney', 'umonney', 'monuey', 'monneyg', 'monnexy', 'monnew', 'mnney', 'pmonney', 'mobney', 'monniey', 'qonney', 'mognney', 'monneyh', 'mopney', 'monmey', 'monneyp', 'mhonney', 'monnxey', 'mownney', 'monnxy', 'mdnney', 'monhey', 'monngey', 'monnpy', 'tonney', 'monwey', 'monneny', 'onney', 'moiney', 'monqey', 'aonney', 'mosney', 'monnzey', 'monnen', 'monneby', 'mounney', 'mpnney', 'sonney', 'zonney', 'monneky', 'monneyd', 'monqney', 'mbonney', 'moneney', 'moniey', 'monnet', 'meonney', 'monnley', 'monnny', 'monneyc', 'monlney', 'monpney', 'monsey', 'mtnney', 'jmonney', 'imonney', 'monnmey', 'monfey', 'moznney', 'smonney', 'mornney', 'zmonney', 'mznney', 'monnesy', 'morney', 'mxonney', 'wonney', 'monnjy', 'monneyy', 'mfonney', 'lmonney', 'monneoy', 'mfnney', 'monneuy', 'mocnney', 'vmonney', 'moqnney', 'fmonney', 'mondney', 'mmonney', 'menney', 'mjnney', 'moneny', 'monnmy', 'monned', 'montney', 'monxney', 'monneye', 'modnney', 'monnedy', 'monnee', 'monneqy', 'lonney', 'monnes', 'konney', 'monsney', 'msnney', 'monneu', 'mcnney', 'moxney', 'monnky', 'fonney', 'mokney', 'xmonney', 'monnney', 'mhnney', 'moaney'}\n"
          ]
        }
      ],
      "source": [
        "print(len(set(edits_one(\"monney\"))))\n",
        "print(edits_one(\"monney\"))"
      ]
    },
    {
      "cell_type": "code",
      "execution_count": 12,
      "metadata": {
        "colab": {
          "base_uri": "https://localhost:8080/"
        },
        "id": "zDmMxuaJ2JTT",
        "outputId": "e5c51b63-6840-493d-8d96-772f1e69fb1c"
      },
      "outputs": [
        {
          "output_type": "stream",
          "name": "stdout",
          "text": [
            "{'money', 'monkey'}\n"
          ]
        }
      ],
      "source": [
        "print(known(edits_one(\"monney\")))"
      ]
    },
    {
      "cell_type": "code",
      "execution_count": 13,
      "metadata": {
        "colab": {
          "base_uri": "https://localhost:8080/"
        },
        "id": "aSs279i82JTT",
        "outputId": "af2ce180-86e8-4610-cce9-83b76c173ebb"
      },
      "outputs": [
        {
          "output_type": "stream",
          "name": "stdout",
          "text": [
            "51013\n",
            "{'money', 'monkey'}\n"
          ]
        }
      ],
      "source": [
        "# Let's look at words that are two edits away\n",
        "print(len(set(edits_two(\"monney\"))))\n",
        "print(known(edits_one(\"monney\")))"
      ]
    },
    {
      "cell_type": "code",
      "execution_count": 14,
      "metadata": {
        "colab": {
          "base_uri": "https://localhost:8080/"
        },
        "id": "CETRPvC22JTT",
        "outputId": "8ffef292-7fba-44a6-9ca9-d57b5b2feeba"
      },
      "outputs": [
        {
          "output_type": "stream",
          "name": "stdout",
          "text": [
            "{'money', 'monkey'}\n"
          ]
        }
      ],
      "source": [
        "# Let's look at possible corrections of a word\n",
        "print(possible_corrections(\"monney\"))"
      ]
    },
    {
      "cell_type": "code",
      "execution_count": 15,
      "metadata": {
        "colab": {
          "base_uri": "https://localhost:8080/"
        },
        "id": "QQNJYNJ42JTU",
        "outputId": "e526c9bc-82e0-4839-a93c-061f44ae9d3f"
      },
      "outputs": [
        {
          "output_type": "stream",
          "name": "stdout",
          "text": [
            "0.0002922233626303688\n",
            "5.378344097491451e-06\n"
          ]
        }
      ],
      "source": [
        "# Let's look at probability of a word\n",
        "print(prob(\"money\"))\n",
        "print(prob(\"monkey\"))"
      ]
    },
    {
      "cell_type": "code",
      "execution_count": 16,
      "metadata": {
        "id": "qHRCQsMw2JTU"
      },
      "outputs": [],
      "source": [
        "def spell_check(word):\n",
        "    \"Print the most probable spelling correction for `word` out of all the `possible_corrections`\"\n",
        "    correct_word = max(possible_corrections(word), key=prob)\n",
        "    if correct_word != word:\n",
        "        return \"Did you mean \" + correct_word + \"?\"\n",
        "    else:\n",
        "        return \"Correct spelling.\""
      ]
    },
    {
      "cell_type": "code",
      "execution_count": 17,
      "metadata": {
        "colab": {
          "base_uri": "https://localhost:8080/"
        },
        "id": "sVEQdD2t2JTV",
        "outputId": "8a2eea4e-34cc-4e94-ed23-af4c2c7d3831"
      },
      "outputs": [
        {
          "output_type": "stream",
          "name": "stdout",
          "text": [
            "Did you mean money?\n"
          ]
        }
      ],
      "source": [
        "# test spell check\n",
        "print(spell_check(\"monney\"))"
      ]
    }
  ],
  "metadata": {
    "kernelspec": {
      "display_name": "Python 3",
      "language": "python",
      "name": "python3"
    },
    "language_info": {
      "codemirror_mode": {
        "name": "ipython",
        "version": 3
      },
      "file_extension": ".py",
      "mimetype": "text/x-python",
      "name": "python",
      "nbconvert_exporter": "python",
      "pygments_lexer": "ipython3",
      "version": "3.6.4"
    },
    "colab": {
      "name": "Unit_4_NLP_12_Spell_Corrector.ipynb",
      "provenance": [],
      "include_colab_link": true
    }
  },
  "nbformat": 4,
  "nbformat_minor": 0
}