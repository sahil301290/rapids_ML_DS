{
  "nbformat": 4,
  "nbformat_minor": 0,
  "metadata": {
    "colab": {
      "name": "Unit_4_NLP_1_Encoding.ipynb",
      "provenance": [],
      "authorship_tag": "ABX9TyMzq+H3jA55If/KzciNfDQH",
      "include_colab_link": true
    },
    "kernelspec": {
      "name": "python3",
      "display_name": "Python 3"
    },
    "language_info": {
      "name": "python"
    }
  },
  "cells": [
    {
      "cell_type": "markdown",
      "metadata": {
        "id": "view-in-github",
        "colab_type": "text"
      },
      "source": [
        "<a href=\"https://colab.research.google.com/github/sahil301290/rapids_ML_DS/blob/main/Unit_4_NLP_1_Encoding.ipynb\" target=\"_parent\"><img src=\"https://colab.research.google.com/assets/colab-badge.svg\" alt=\"Open In Colab\"/></a>"
      ]
    },
    {
      "cell_type": "code",
      "execution_count": 1,
      "metadata": {
        "colab": {
          "base_uri": "https://localhost:8080/"
        },
        "id": "aN1Kir6Idi6d",
        "outputId": "37dd6673-ef0f-4a39-a5df-7a913da01ad4"
      },
      "outputs": [
        {
          "output_type": "stream",
          "name": "stdout",
          "text": [
            "Default string:  ₹50 \n",
            " Type of string <class 'str'> \n",
            "\n",
            "Encoded to UTF-8:  b'\\xe2\\x82\\xb950' \n",
            " Type of string <class 'bytes'> \n",
            "\n",
            "Decoded from UTF-8:  ₹50 \n",
            " Type of string <class 'str'> \n",
            "\n"
          ]
        }
      ],
      "source": [
        "# create a string\n",
        "amount = u\"₹50\"\n",
        "print('Default string: ', amount, '\\n', 'Type of string', type(amount), '\\n')\n",
        "\n",
        "# encode to UTF-8 byte format\n",
        "amount_encoded = amount.encode('utf-8')\n",
        "print('Encoded to UTF-8: ', amount_encoded, '\\n', 'Type of string', type(amount_encoded), '\\n')\n",
        "\n",
        "\n",
        "# sometime later in another computer...\n",
        "# decode from UTF-8 byte format\n",
        "amount_decoded = amount_encoded.decode('utf-8')\n",
        "print('Decoded from UTF-8: ', amount_decoded, '\\n', 'Type of string', type(amount_decoded), '\\n')"
      ]
    },
    {
      "cell_type": "code",
      "source": [
        ""
      ],
      "metadata": {
        "id": "9R0XHnKwdnlM"
      },
      "execution_count": null,
      "outputs": []
    }
  ]
}