{
 "cells": [
  {
   "cell_type": "code",
   "execution_count": 1,
   "id": "dd9d4a4a",
   "metadata": {
    "execution": {
     "iopub.execute_input": "2022-02-28T05:36:43.634882Z",
     "iopub.status.busy": "2022-02-28T05:36:43.634268Z",
     "iopub.status.idle": "2022-02-28T05:37:03.448456Z",
     "shell.execute_reply": "2022-02-28T05:37:03.449158Z",
     "shell.execute_reply.started": "2022-02-28T05:30:17.011827Z"
    },
    "papermill": {
     "duration": 19.85179,
     "end_time": "2022-02-28T05:37:03.449547",
     "exception": false,
     "start_time": "2022-02-28T05:36:43.597757",
     "status": "completed"
    },
    "tags": []
   },
   "outputs": [
    {
     "name": "stdout",
     "output_type": "stream",
     "text": [
      "ipyplot installed sucessfully!!\n"
     ]
    }
   ],
   "source": [
    "#Import Libraries\n",
    "import cudf as pd\n",
    "import cupy as cp\n",
    "from cuml.linear_model import LogisticRegression\n",
    "from cuml.multiclass import MulticlassClassifier\n",
    "from cuml.multiclass import OneVsRestClassifier\n",
    "from cuml.datasets.classification import make_classification\n",
    "from cuml.metrics.confusion_matrix import confusion_matrix\n",
    "from sklearn.metrics import accuracy_score\n",
    "from tensorflow.keras.datasets import fashion_mnist\n",
    "!pip install ipyplot &> /dev/null\n",
    "print (\"ipyplot installed sucessfully!!\")\n",
    "import matplotlib.pyplot as plt\n",
    "import ipyplot"
   ]
  },
  {
   "cell_type": "code",
   "execution_count": 2,
   "id": "998b8841",
   "metadata": {
    "execution": {
     "iopub.execute_input": "2022-02-28T05:37:03.491308Z",
     "iopub.status.busy": "2022-02-28T05:37:03.490318Z",
     "iopub.status.idle": "2022-02-28T05:37:04.795669Z",
     "shell.execute_reply": "2022-02-28T05:37:04.796394Z",
     "shell.execute_reply.started": "2022-02-28T05:30:34.755568Z"
    },
    "papermill": {
     "duration": 1.327142,
     "end_time": "2022-02-28T05:37:04.796606",
     "exception": false,
     "start_time": "2022-02-28T05:37:03.469464",
     "status": "completed"
    },
    "tags": []
   },
   "outputs": [
    {
     "name": "stdout",
     "output_type": "stream",
     "text": [
      "Downloading data from https://storage.googleapis.com/tensorflow/tf-keras-datasets/train-labels-idx1-ubyte.gz\n",
      "32768/29515 [=================================] - 0s 0us/step\n",
      "40960/29515 [=========================================] - 0s 0us/step\n",
      "Downloading data from https://storage.googleapis.com/tensorflow/tf-keras-datasets/train-images-idx3-ubyte.gz\n",
      "26427392/26421880 [==============================] - 0s 0us/step\n",
      "26435584/26421880 [==============================] - 0s 0us/step\n",
      "Downloading data from https://storage.googleapis.com/tensorflow/tf-keras-datasets/t10k-labels-idx1-ubyte.gz\n",
      "16384/5148 [===============================================================================================] - 0s 0us/step\n",
      "Downloading data from https://storage.googleapis.com/tensorflow/tf-keras-datasets/t10k-images-idx3-ubyte.gz\n",
      "4423680/4422102 [==============================] - 0s 0us/step\n",
      "4431872/4422102 [==============================] - 0s 0us/step\n"
     ]
    }
   ],
   "source": [
    "(x_train, y_train), (x_test, y_test) = fashion_mnist.load_data()"
   ]
  },
  {
   "cell_type": "code",
   "execution_count": 3,
   "id": "02b9db19",
   "metadata": {
    "execution": {
     "iopub.execute_input": "2022-02-28T05:37:04.848477Z",
     "iopub.status.busy": "2022-02-28T05:37:04.847571Z",
     "iopub.status.idle": "2022-02-28T05:37:04.850958Z",
     "shell.execute_reply": "2022-02-28T05:37:04.851608Z",
     "shell.execute_reply.started": "2022-02-28T05:30:35.939559Z"
    },
    "papermill": {
     "duration": 0.03155,
     "end_time": "2022-02-28T05:37:04.851805",
     "exception": false,
     "start_time": "2022-02-28T05:37:04.820255",
     "status": "completed"
    },
    "tags": []
   },
   "outputs": [
    {
     "name": "stdout",
     "output_type": "stream",
     "text": [
      "60000\n",
      "10000\n"
     ]
    }
   ],
   "source": [
    "print(len(x_train))\n",
    "print(len(x_test))"
   ]
  },
  {
   "cell_type": "code",
   "execution_count": 4,
   "id": "11a08e5e",
   "metadata": {
    "execution": {
     "iopub.execute_input": "2022-02-28T05:37:04.904954Z",
     "iopub.status.busy": "2022-02-28T05:37:04.904038Z",
     "iopub.status.idle": "2022-02-28T05:37:04.908423Z",
     "shell.execute_reply": "2022-02-28T05:37:04.907940Z",
     "shell.execute_reply.started": "2022-02-28T05:30:35.948009Z"
    },
    "papermill": {
     "duration": 0.032907,
     "end_time": "2022-02-28T05:37:04.908549",
     "exception": false,
     "start_time": "2022-02-28T05:37:04.875642",
     "status": "completed"
    },
    "tags": []
   },
   "outputs": [
    {
     "name": "stdout",
     "output_type": "stream",
     "text": [
      "x_train: (60000, 28, 28)\n",
      "y_train: (60000,)\n",
      "x_test: (10000, 28, 28)\n",
      "y_test: (10000,)\n"
     ]
    }
   ],
   "source": [
    "print(\"x_train:\", x_train.shape)\n",
    "print(\"y_train:\", y_train.shape)\n",
    "print(\"x_test:\", x_test.shape)\n",
    "print(\"y_test:\", y_test.shape)"
   ]
  },
  {
   "cell_type": "code",
   "execution_count": 5,
   "id": "eab8355c",
   "metadata": {
    "execution": {
     "iopub.execute_input": "2022-02-28T05:37:04.965049Z",
     "iopub.status.busy": "2022-02-28T05:37:04.963558Z",
     "iopub.status.idle": "2022-02-28T05:37:05.013164Z",
     "shell.execute_reply": "2022-02-28T05:37:05.013658Z",
     "shell.execute_reply.started": "2022-02-28T05:30:35.959484Z"
    },
    "papermill": {
     "duration": 0.081898,
     "end_time": "2022-02-28T05:37:05.013818",
     "exception": false,
     "start_time": "2022-02-28T05:37:04.931920",
     "status": "completed"
    },
    "tags": []
   },
   "outputs": [
    {
     "data": {
      "text/html": [
       "\n",
       "    <style>\n",
       "        #ipyplot-html-viewer-toggle-FcY535nkDndck4dSfYoAe4 {\n",
       "            position: absolute;\n",
       "            top: -9999px;\n",
       "            left: -9999px;\n",
       "            visibility: hidden;\n",
       "        }\n",
       "\n",
       "        #ipyplot-html-viewer-label-FcY535nkDndck4dSfYoAe4 { \n",
       "            position: relative;\n",
       "            display: inline-block;\n",
       "            cursor: pointer;\n",
       "            color: blue;\n",
       "            text-decoration: underline;\n",
       "        }\n",
       "\n",
       "        #ipyplot-html-viewer-textarea-FcY535nkDndck4dSfYoAe4 {\n",
       "            background: lightgrey;\n",
       "            width: 100%;\n",
       "            height: 0px;\n",
       "            display: none;\n",
       "        }\n",
       "\n",
       "        #ipyplot-html-viewer-toggle-FcY535nkDndck4dSfYoAe4:checked ~ #ipyplot-html-viewer-textarea-FcY535nkDndck4dSfYoAe4 {\n",
       "            height: 200px;\n",
       "            display: block;\n",
       "        }\n",
       "\n",
       "        #ipyplot-html-viewer-toggle-FcY535nkDndck4dSfYoAe4:checked + #ipyplot-html-viewer-label-FcY535nkDndck4dSfYoAe4:after {\n",
       "            content: \"hide html\";\n",
       "            position: absolute;\n",
       "            top: 0;\n",
       "            left: 0;\n",
       "            right: 0;\n",
       "            bottom: 0;\n",
       "            background: white;\n",
       "            cursor: pointer;\n",
       "            color: blue;\n",
       "            text-decoration: underline;\n",
       "        }\n",
       "    </style>\n",
       "    <div>\n",
       "        <input type=\"checkbox\" id=\"ipyplot-html-viewer-toggle-FcY535nkDndck4dSfYoAe4\">\n",
       "        <label id=\"ipyplot-html-viewer-label-FcY535nkDndck4dSfYoAe4\" for=\"ipyplot-html-viewer-toggle-FcY535nkDndck4dSfYoAe4\">show html</label>\n",
       "        <textarea id=\"ipyplot-html-viewer-textarea-FcY535nkDndck4dSfYoAe4\" readonly>\n",
       "            \n",
       "        <style>\n",
       "        #ipyplot-imgs-container-div-N6k857HRDvuhnXdPsXH7Lz {\n",
       "            width: 100%;\n",
       "            height: 100%;\n",
       "            margin: 0%;\n",
       "            overflow: auto;\n",
       "            position: relative;\n",
       "            overflow-y: scroll;\n",
       "        }\n",
       "\n",
       "        div.ipyplot-placeholder-div-N6k857HRDvuhnXdPsXH7Lz {\n",
       "            width: 120px;\n",
       "            display: inline-block;\n",
       "            margin: 3px;\n",
       "            position: relative;\n",
       "        }\n",
       "\n",
       "        div.ipyplot-content-div-N6k857HRDvuhnXdPsXH7Lz {\n",
       "            width: 120px;\n",
       "            background: white;\n",
       "            display: inline-block;\n",
       "            vertical-align: top;\n",
       "            text-align: center;\n",
       "            position: relative;\n",
       "            border: 2px solid #ddd;\n",
       "            top: 0;\n",
       "            left: 0;\n",
       "        }\n",
       "\n",
       "        div.ipyplot-content-div-N6k857HRDvuhnXdPsXH7Lz span.ipyplot-img-close {\n",
       "            display: none;\n",
       "        }\n",
       "\n",
       "        div.ipyplot-content-div-N6k857HRDvuhnXdPsXH7Lz span {\n",
       "            width: 100%;\n",
       "            height: 100%;\n",
       "            position: absolute;\n",
       "            top: 0;\n",
       "            left: 0;\n",
       "        }\n",
       "\n",
       "        div.ipyplot-content-div-N6k857HRDvuhnXdPsXH7Lz img {\n",
       "            width: 120px;\n",
       "        }\n",
       "\n",
       "        div.ipyplot-content-div-N6k857HRDvuhnXdPsXH7Lz span.ipyplot-img-close:hover {\n",
       "            cursor: zoom-out;\n",
       "        }\n",
       "        div.ipyplot-content-div-N6k857HRDvuhnXdPsXH7Lz span.ipyplot-img-expand:hover {\n",
       "            cursor: zoom-in;\n",
       "        }\n",
       "\n",
       "        div[id^=ipyplot-content-div-N6k857HRDvuhnXdPsXH7Lz]:target {\n",
       "            transform: scale(2.5);\n",
       "            transform-origin: left top;\n",
       "            z-index: 5000;\n",
       "            top: 0;\n",
       "            left: 0;\n",
       "            position: absolute;\n",
       "        }\n",
       "\n",
       "        div[id^=ipyplot-content-div-N6k857HRDvuhnXdPsXH7Lz]:target span.ipyplot-img-close {\n",
       "            display: block;\n",
       "        }\n",
       "\n",
       "        div[id^=ipyplot-content-div-N6k857HRDvuhnXdPsXH7Lz]:target span.ipyplot-img-expand {\n",
       "            display: none;\n",
       "        }\n",
       "        </style>\n",
       "    <div id=\"ipyplot-imgs-container-div-N6k857HRDvuhnXdPsXH7Lz\">\n",
       "    <div class=\"ipyplot-placeholder-div-N6k857HRDvuhnXdPsXH7Lz\">\n",
       "        <div id=\"ipyplot-content-div-N6k857HRDvuhnXdPsXH7Lz-YKosLqWRF4oTFsawd7SLjs\" class=\"ipyplot-content-div-N6k857HRDvuhnXdPsXH7Lz\">\n",
       "            <h4 style=\"font-size: 12px; word-wrap: break-word;\">0</h4>\n",
       "            <img src=\"data:image/png;base64,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\"/>\n",
       "            <a href=\"#!\">\n",
       "                <span class=\"ipyplot-img-close\"/>\n",
       "            </a>\n",
       "            <a href=\"#ipyplot-content-div-N6k857HRDvuhnXdPsXH7Lz-YKosLqWRF4oTFsawd7SLjs\">\n",
       "                <span class=\"ipyplot-img-expand\"/>\n",
       "            </a>\n",
       "        </div>\n",
       "    </div>\n",
       "    \n",
       "    <div class=\"ipyplot-placeholder-div-N6k857HRDvuhnXdPsXH7Lz\">\n",
       "        <div id=\"ipyplot-content-div-N6k857HRDvuhnXdPsXH7Lz-MVhUwGx43YY48GJMu6xHgX\" class=\"ipyplot-content-div-N6k857HRDvuhnXdPsXH7Lz\">\n",
       "            <h4 style=\"font-size: 12px; word-wrap: break-word;\">1</h4>\n",
       "            <img src=\"data:image/png;base64,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\"/>\n",
       "            <a href=\"#!\">\n",
       "                <span class=\"ipyplot-img-close\"/>\n",
       "            </a>\n",
       "            <a href=\"#ipyplot-content-div-N6k857HRDvuhnXdPsXH7Lz-MVhUwGx43YY48GJMu6xHgX\">\n",
       "                <span class=\"ipyplot-img-expand\"/>\n",
       "            </a>\n",
       "        </div>\n",
       "    </div>\n",
       "    \n",
       "    <div class=\"ipyplot-placeholder-div-N6k857HRDvuhnXdPsXH7Lz\">\n",
       "        <div id=\"ipyplot-content-div-N6k857HRDvuhnXdPsXH7Lz-4RhEXhnVE9MNVVaAmg23r4\" class=\"ipyplot-content-div-N6k857HRDvuhnXdPsXH7Lz\">\n",
       "            <h4 style=\"font-size: 12px; word-wrap: break-word;\">2</h4>\n",
       "            <img src=\"data:image/png;base64,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\"/>\n",
       "            <a href=\"#!\">\n",
       "                <span class=\"ipyplot-img-close\"/>\n",
       "            </a>\n",
       "            <a href=\"#ipyplot-content-div-N6k857HRDvuhnXdPsXH7Lz-4RhEXhnVE9MNVVaAmg23r4\">\n",
       "                <span class=\"ipyplot-img-expand\"/>\n",
       "            </a>\n",
       "        </div>\n",
       "    </div>\n",
       "    \n",
       "    <div class=\"ipyplot-placeholder-div-N6k857HRDvuhnXdPsXH7Lz\">\n",
       "        <div id=\"ipyplot-content-div-N6k857HRDvuhnXdPsXH7Lz-7YjodWC3iUGiXAGTwGitBe\" class=\"ipyplot-content-div-N6k857HRDvuhnXdPsXH7Lz\">\n",
       "            <h4 style=\"font-size: 12px; word-wrap: break-word;\">3</h4>\n",
       "            <img src=\"data:image/png;base64,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\"/>\n",
       "            <a href=\"#!\">\n",
       "                <span class=\"ipyplot-img-close\"/>\n",
       "            </a>\n",
       "            <a href=\"#ipyplot-content-div-N6k857HRDvuhnXdPsXH7Lz-7YjodWC3iUGiXAGTwGitBe\">\n",
       "                <span class=\"ipyplot-img-expand\"/>\n",
       "            </a>\n",
       "        </div>\n",
       "    </div>\n",
       "    \n",
       "    <div class=\"ipyplot-placeholder-div-N6k857HRDvuhnXdPsXH7Lz\">\n",
       "        <div id=\"ipyplot-content-div-N6k857HRDvuhnXdPsXH7Lz-7E6L234Bea2iDFE3tZHbSL\" class=\"ipyplot-content-div-N6k857HRDvuhnXdPsXH7Lz\">\n",
       "            <h4 style=\"font-size: 12px; word-wrap: break-word;\">4</h4>\n",
       "            <img src=\"data:image/png;base64,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\"/>\n",
       "            <a href=\"#!\">\n",
       "                <span class=\"ipyplot-img-close\"/>\n",
       "            </a>\n",
       "            <a href=\"#ipyplot-content-div-N6k857HRDvuhnXdPsXH7Lz-7E6L234Bea2iDFE3tZHbSL\">\n",
       "                <span class=\"ipyplot-img-expand\"/>\n",
       "            </a>\n",
       "        </div>\n",
       "    </div>\n",
       "    \n",
       "    <div class=\"ipyplot-placeholder-div-N6k857HRDvuhnXdPsXH7Lz\">\n",
       "        <div id=\"ipyplot-content-div-N6k857HRDvuhnXdPsXH7Lz-BTThDhfsPCJLJPZDsrThfs\" class=\"ipyplot-content-div-N6k857HRDvuhnXdPsXH7Lz\">\n",
       "            <h4 style=\"font-size: 12px; word-wrap: break-word;\">5</h4>\n",
       "            <img src=\"data:image/png;base64,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\"/>\n",
       "            <a href=\"#!\">\n",
       "                <span class=\"ipyplot-img-close\"/>\n",
       "            </a>\n",
       "            <a href=\"#ipyplot-content-div-N6k857HRDvuhnXdPsXH7Lz-BTThDhfsPCJLJPZDsrThfs\">\n",
       "                <span class=\"ipyplot-img-expand\"/>\n",
       "            </a>\n",
       "        </div>\n",
       "    </div>\n",
       "    \n",
       "    <div class=\"ipyplot-placeholder-div-N6k857HRDvuhnXdPsXH7Lz\">\n",
       "        <div id=\"ipyplot-content-div-N6k857HRDvuhnXdPsXH7Lz-PX2HD4Pns72t2Q9g8mX8VC\" class=\"ipyplot-content-div-N6k857HRDvuhnXdPsXH7Lz\">\n",
       "            <h4 style=\"font-size: 12px; word-wrap: break-word;\">6</h4>\n",
       "            <img src=\"data:image/png;base64,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\"/>\n",
       "            <a href=\"#!\">\n",
       "                <span class=\"ipyplot-img-close\"/>\n",
       "            </a>\n",
       "            <a href=\"#ipyplot-content-div-N6k857HRDvuhnXdPsXH7Lz-PX2HD4Pns72t2Q9g8mX8VC\">\n",
       "                <span class=\"ipyplot-img-expand\"/>\n",
       "            </a>\n",
       "        </div>\n",
       "    </div>\n",
       "    \n",
       "    <div class=\"ipyplot-placeholder-div-N6k857HRDvuhnXdPsXH7Lz\">\n",
       "        <div id=\"ipyplot-content-div-N6k857HRDvuhnXdPsXH7Lz-e5CVkbYskb8ibxc6DR4fo5\" class=\"ipyplot-content-div-N6k857HRDvuhnXdPsXH7Lz\">\n",
       "            <h4 style=\"font-size: 12px; word-wrap: break-word;\">7</h4>\n",
       "            <img src=\"data:image/png;base64,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\"/>\n",
       "            <a href=\"#!\">\n",
       "                <span class=\"ipyplot-img-close\"/>\n",
       "            </a>\n",
       "            <a href=\"#ipyplot-content-div-N6k857HRDvuhnXdPsXH7Lz-e5CVkbYskb8ibxc6DR4fo5\">\n",
       "                <span class=\"ipyplot-img-expand\"/>\n",
       "            </a>\n",
       "        </div>\n",
       "    </div>\n",
       "    \n",
       "    <div class=\"ipyplot-placeholder-div-N6k857HRDvuhnXdPsXH7Lz\">\n",
       "        <div id=\"ipyplot-content-div-N6k857HRDvuhnXdPsXH7Lz-3tenAWG6iH5FZHKW3fLoHu\" class=\"ipyplot-content-div-N6k857HRDvuhnXdPsXH7Lz\">\n",
       "            <h4 style=\"font-size: 12px; word-wrap: break-word;\">8</h4>\n",
       "            <img src=\"data:image/png;base64,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\"/>\n",
       "            <a href=\"#!\">\n",
       "                <span class=\"ipyplot-img-close\"/>\n",
       "            </a>\n",
       "            <a href=\"#ipyplot-content-div-N6k857HRDvuhnXdPsXH7Lz-3tenAWG6iH5FZHKW3fLoHu\">\n",
       "                <span class=\"ipyplot-img-expand\"/>\n",
       "            </a>\n",
       "        </div>\n",
       "    </div>\n",
       "    \n",
       "    <div class=\"ipyplot-placeholder-div-N6k857HRDvuhnXdPsXH7Lz\">\n",
       "        <div id=\"ipyplot-content-div-N6k857HRDvuhnXdPsXH7Lz-VnEWfpzCpYWFXZmwarxJLj\" class=\"ipyplot-content-div-N6k857HRDvuhnXdPsXH7Lz\">\n",
       "            <h4 style=\"font-size: 12px; word-wrap: break-word;\">9</h4>\n",
       "            <img src=\"data:image/png;base64,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\"/>\n",
       "            <a href=\"#!\">\n",
       "                <span class=\"ipyplot-img-close\"/>\n",
       "            </a>\n",
       "            <a href=\"#ipyplot-content-div-N6k857HRDvuhnXdPsXH7Lz-VnEWfpzCpYWFXZmwarxJLj\">\n",
       "                <span class=\"ipyplot-img-expand\"/>\n",
       "            </a>\n",
       "        </div>\n",
       "    </div>\n",
       "    \n",
       "    <div class=\"ipyplot-placeholder-div-N6k857HRDvuhnXdPsXH7Lz\">\n",
       "        <div id=\"ipyplot-content-div-N6k857HRDvuhnXdPsXH7Lz-gtVCi9FzWD6FV6vX4f6Vjn\" class=\"ipyplot-content-div-N6k857HRDvuhnXdPsXH7Lz\">\n",
       "            <h4 style=\"font-size: 12px; word-wrap: break-word;\">10</h4>\n",
       "            <img src=\"data:image/png;base64,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\"/>\n",
       "            <a href=\"#!\">\n",
       "                <span class=\"ipyplot-img-close\"/>\n",
       "            </a>\n",
       "            <a href=\"#ipyplot-content-div-N6k857HRDvuhnXdPsXH7Lz-gtVCi9FzWD6FV6vX4f6Vjn\">\n",
       "                <span class=\"ipyplot-img-expand\"/>\n",
       "            </a>\n",
       "        </div>\n",
       "    </div>\n",
       "    \n",
       "    <div class=\"ipyplot-placeholder-div-N6k857HRDvuhnXdPsXH7Lz\">\n",
       "        <div id=\"ipyplot-content-div-N6k857HRDvuhnXdPsXH7Lz-KawpojUF4zANeyrVgqQFRF\" class=\"ipyplot-content-div-N6k857HRDvuhnXdPsXH7Lz\">\n",
       "            <h4 style=\"font-size: 12px; word-wrap: break-word;\">11</h4>\n",
       "            <img src=\"data:image/png;base64,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\"/>\n",
       "            <a href=\"#!\">\n",
       "                <span class=\"ipyplot-img-close\"/>\n",
       "            </a>\n",
       "            <a href=\"#ipyplot-content-div-N6k857HRDvuhnXdPsXH7Lz-KawpojUF4zANeyrVgqQFRF\">\n",
       "                <span class=\"ipyplot-img-expand\"/>\n",
       "            </a>\n",
       "        </div>\n",
       "    </div>\n",
       "    \n",
       "    <div class=\"ipyplot-placeholder-div-N6k857HRDvuhnXdPsXH7Lz\">\n",
       "        <div id=\"ipyplot-content-div-N6k857HRDvuhnXdPsXH7Lz-nDyW63tKzi43apEwkMhvmo\" class=\"ipyplot-content-div-N6k857HRDvuhnXdPsXH7Lz\">\n",
       "            <h4 style=\"font-size: 12px; word-wrap: break-word;\">12</h4>\n",
       "            <img src=\"data:image/png;base64,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\"/>\n",
       "            <a href=\"#!\">\n",
       "                <span class=\"ipyplot-img-close\"/>\n",
       "            </a>\n",
       "            <a href=\"#ipyplot-content-div-N6k857HRDvuhnXdPsXH7Lz-nDyW63tKzi43apEwkMhvmo\">\n",
       "                <span class=\"ipyplot-img-expand\"/>\n",
       "            </a>\n",
       "        </div>\n",
       "    </div>\n",
       "    \n",
       "    <div class=\"ipyplot-placeholder-div-N6k857HRDvuhnXdPsXH7Lz\">\n",
       "        <div id=\"ipyplot-content-div-N6k857HRDvuhnXdPsXH7Lz-SYW8MZRjfGfSthHR3iusmz\" class=\"ipyplot-content-div-N6k857HRDvuhnXdPsXH7Lz\">\n",
       "            <h4 style=\"font-size: 12px; word-wrap: break-word;\">13</h4>\n",
       "            <img src=\"data:image/png;base64,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\"/>\n",
       "            <a href=\"#!\">\n",
       "                <span class=\"ipyplot-img-close\"/>\n",
       "            </a>\n",
       "            <a href=\"#ipyplot-content-div-N6k857HRDvuhnXdPsXH7Lz-SYW8MZRjfGfSthHR3iusmz\">\n",
       "                <span class=\"ipyplot-img-expand\"/>\n",
       "            </a>\n",
       "        </div>\n",
       "    </div>\n",
       "    \n",
       "    <div class=\"ipyplot-placeholder-div-N6k857HRDvuhnXdPsXH7Lz\">\n",
       "        <div id=\"ipyplot-content-div-N6k857HRDvuhnXdPsXH7Lz-JzT8B9GsvSH78mfJg38LNM\" class=\"ipyplot-content-div-N6k857HRDvuhnXdPsXH7Lz\">\n",
       "            <h4 style=\"font-size: 12px; word-wrap: break-word;\">14</h4>\n",
       "            <img src=\"data:image/png;base64,iVBORw0KGgoAAAANSUhEUgAAAHgAAAB4CAAAAAAcD2kOAAAI/klEQVR4nO2Y627cSJKFz4mITF7qIsmWL+PuXuwAi3n/l1pgphvbbVtSVZHMiNgfLMvybca907MLLOr7IVSVSH5MRkRmJIELFy5cuHDhwoULFy5cuHDhwoX///APu0z+H4jNFBmRkfndevsjxHWo9LZ4cwe+c/h/hFj7/chlOs1E/K+OeNw/23J+KCemx79eLFqqSUbI1YsXexzv3t/D5793QjFBRERk/DNiHa6u99XnGVevX+3y/reh5vTw98Sbbc1lntvcMr9HTOAr2cKyffnjy017OMTV61f79n4sMt/JV49dqde3Y5zujycivkv89bvpxv3Ln37az/d3bf/y5ab18HbX2/TtU/Yv3mzj/t37+/Dl9z9qkiIUrd3u+e3t7X4Zhjbu+oJu2Gw2Yz/ll4lNETUdf/y3N1t/33e6zKf/gdhq7btaa7e9ebHvq7E0xeG0nJp243bb5qV9fo7Wcb/fXb354WU/v92MOh34LfHjfJb4LGTajdur3bbv6rC9GcSlU1+m+9mjZRl2V/GQX4htfP7mhz/dvrzd6+nXbZ93v31T/E2s3+xubp9djX2ptSsNRasvh/cPYUYddsekL/7pOaXf3f70lz+/frbvcNh2cvq5+z1igqK1Hzf7m9tn12OnJsTSvGj4fDxmlVKG3QRkHp4+I3b97ub5y1dvXt9sSwyay6+b8kH8lYL5IkO0DuOmH/p+s7veDVUFHh6pqphn6VirinvW0g2HiMxMgKKq/bC9ebWv2RxGtOl+NxgBewwnn+i+rETa5vbl7XYoVmo1eiJ9WZZIiIh1oyrhEBvH/d3R3SMiIaV2tR83u924/IYULdKN202n+PaIvxzw/vW//3jVM5HefM7wtsxzaw02Xm+2JdsitLrZHo6npTV3z7RuGIZhHPqCo59cbRSpQ18exf8Q0W6zf/6nH69rLD5Px9a8tdba0uY5TLMMxeFpWrp+nOZlac09YP24GfuhK3E6npayGVlSrJg8Ta7PlnCCJCkkCVrpdzdX26GKt3nxJDMCVvqY5ya9wenNPQGFltZaa+EJ6/qx77qiLsw2He7RaUuQchZ/Ua0ARETUzFQoWrp+92xX/OgPhzlJkGDp+iptaqF9HumtRWaCrNXdPTOppZTCaBEpReP4bu4rppYUwBIAvwywqJqVWmtRVev6YbMbcTgd3t8tNgxVSKm7m13NeZ6XuZ0ikBGR1GpWwhOgUMhsASJULY54GAY9zo6nI/7kOYuaWbHa9V01tdKPw9B3fvC7t/dLn6UACR2vbwe26XD/9u3DkiIRnlKopAgoFGSGBxIUVfrDpOOmO81BfZpcQq4BJVW1mJVSuq5WXcW9ss3t1IIkgPBMln5U79Tv/DSlCSJSoI3KXIszPSIyQY1gAjL5sMxBtfgo1mKqKiKiqmZmxczMTEWtq0XZvHkrO9axMLzF0iJpJnFgm45pykwm4EWUQiQzMzORBMl0Dzn5EpOzlCfiMnS1WFE1NTNTMxWCFIqaMn2eF+hQi5kg2hLTNM2LigizTac0IykZbRIxVaZn8FwcyIiYm8uMxORiXXsU9+Om77tSzcyKmqkaER5JUgTpbTousul3nXhblmVxOT08aFq6t2VZIoIqYEamlGLwFkkVFRWmL97mxZV9lSXFKswIEdGuH/puFauZqqoKs7ElSGY0tnluGjRDW06naXIe7t/FXDA/HKelJSAAGR4pQMKbpwBkJjLC3T24FpyoiN2KDdttJxkQK6YiKsjICEG0pSVUxJvApyXQpsPix8NpOs2xKOexNy7vf7k7LRmhEcmIQBKJ8ISImpJMkFo0bRx6KcrMsNc2PH/9atvu3t63FDIRQQAUgfuygGZCJDKCWA7B+fBwWlqg+OltLQqf7h8mBzIzU5AEMxqTlFKLKpBMSHaUsr/e5b0x3e227n74jz9fn/76nz8flszwWDdBIOG+ODQhCE+qqmBucXp4OAWo4ccisiZOKlSE55JcE0pEay3GzEgJUKx026uN31VBhA3d9vrFm9sDp9nmiNbWNS3WYiCpVjQdKaUUITMzQRFTYS4JQEQ7USFFVERECACkqNZalOtIIFZqt90Pbeyrqtgpu8PD/TBnGdmQ3qJ5ZHgiIyJCSt9Z+pJSahEwfDqdFqyRWlPFSjWlgFSu4owEqWK2bh4QgKiVbrMblrv9djur/VedtOdbOSzVoJIR7pmrNDNhdegN3lK0mJAIX5pDVZiZpIiUUkzBdZ6gyvrwkYQIgcd2RLSM+345PLu5id5+Kffzcv98UEpXqklmZAIR7pGgWD8MBeEhoioiJDJBUsBz2mpRXasGgAgZHi0yMpCRCOSH1UDHXb/s9ldXfrS3dpznh5v9djOKUZUIgJnR3EHR0g9DYUSsMVShipAE1/7PTNWEAAKxrkkI9+bh4X6uagBr5Ly1FrTaw5ZI0g93u9127LuqRAJEZnMnRa3ve2OuYq5TueijWMxEhQJEIDKBVeyr2D0+dBgZEezGbvn5l7vT0oyICe3h3WYculpNiCSITI8ARax0VRmZpFAgpMpaOCBwHj+IjEAkkiQiwiM9w31tDlZxBq0r/u5vf/31tJgBzSctpRRTFa5dJxORCUJoZsIMrKtsYu2IlAIiCVnfPOSHaILnqSQjz/ny2FwlxCSnw/HoYZrp4UEhSGK92pPugFRZ80lEsFYQSBU5Ny6rNDPySUORj/3UZ03GOn2CaZnRvH3XqwsKMh4/r+L1yfw+WEVhLb+ysfwmj0emx1n8u6GJEOzWGxaKAEwkkIlMgsT6YRVSRBDhmUhQIB/u5HwG1rYRWPOdEFLW/cl6dwTWpgBI5jrTqaiq8twonSNJ4vGF2SfidQXhOcbnpPh48bOYa5eJjxchKAq21lqmBSig6Lpw4qz9tpjnCfBxD82nrwefiuWrYkIQTBiQGUEH4lGMr4q5LoEfxJ+YvhCDFH4pphJtWZbAuuarCEV4fhmYa1TWWfmJmERmfLrZ4eOfp1/5uAfCxxiff4K7e5yPPHfUHy04TzdPs5Yf0vjzXRa+9p0fg5BP/kfg02nlwoULFy5cuHDhwoULFy5cuHDhwr+A/wYPzXUsTbxV+QAAAABJRU5ErkJggg==\"/>\n",
       "            <a href=\"#!\">\n",
       "                <span class=\"ipyplot-img-close\"/>\n",
       "            </a>\n",
       "            <a href=\"#ipyplot-content-div-N6k857HRDvuhnXdPsXH7Lz-JzT8B9GsvSH78mfJg38LNM\">\n",
       "                <span class=\"ipyplot-img-expand\"/>\n",
       "            </a>\n",
       "        </div>\n",
       "    </div>\n",
       "    \n",
       "    <div class=\"ipyplot-placeholder-div-N6k857HRDvuhnXdPsXH7Lz\">\n",
       "        <div id=\"ipyplot-content-div-N6k857HRDvuhnXdPsXH7Lz-WmCX4vikRxR6XSDdUrq4pe\" class=\"ipyplot-content-div-N6k857HRDvuhnXdPsXH7Lz\">\n",
       "            <h4 style=\"font-size: 12px; word-wrap: break-word;\">15</h4>\n",
       "            <img src=\"data:image/png;base64,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\"/>\n",
       "            <a href=\"#!\">\n",
       "                <span class=\"ipyplot-img-close\"/>\n",
       "            </a>\n",
       "            <a href=\"#ipyplot-content-div-N6k857HRDvuhnXdPsXH7Lz-WmCX4vikRxR6XSDdUrq4pe\">\n",
       "                <span class=\"ipyplot-img-expand\"/>\n",
       "            </a>\n",
       "        </div>\n",
       "    </div>\n",
       "    \n",
       "    <div class=\"ipyplot-placeholder-div-N6k857HRDvuhnXdPsXH7Lz\">\n",
       "        <div id=\"ipyplot-content-div-N6k857HRDvuhnXdPsXH7Lz-6nNmFnEukpqx9HFXj7J6WX\" class=\"ipyplot-content-div-N6k857HRDvuhnXdPsXH7Lz\">\n",
       "            <h4 style=\"font-size: 12px; word-wrap: break-word;\">16</h4>\n",
       "            <img src=\"data:image/png;base64,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\"/>\n",
       "            <a href=\"#!\">\n",
       "                <span class=\"ipyplot-img-close\"/>\n",
       "            </a>\n",
       "            <a href=\"#ipyplot-content-div-N6k857HRDvuhnXdPsXH7Lz-6nNmFnEukpqx9HFXj7J6WX\">\n",
       "                <span class=\"ipyplot-img-expand\"/>\n",
       "            </a>\n",
       "        </div>\n",
       "    </div>\n",
       "    \n",
       "    <div class=\"ipyplot-placeholder-div-N6k857HRDvuhnXdPsXH7Lz\">\n",
       "        <div id=\"ipyplot-content-div-N6k857HRDvuhnXdPsXH7Lz-g3UxzuPdyKeLsoJj2E4giR\" class=\"ipyplot-content-div-N6k857HRDvuhnXdPsXH7Lz\">\n",
       "            <h4 style=\"font-size: 12px; word-wrap: break-word;\">17</h4>\n",
       "            <img src=\"data:image/png;base64,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\"/>\n",
       "            <a href=\"#!\">\n",
       "                <span class=\"ipyplot-img-close\"/>\n",
       "            </a>\n",
       "            <a href=\"#ipyplot-content-div-N6k857HRDvuhnXdPsXH7Lz-g3UxzuPdyKeLsoJj2E4giR\">\n",
       "                <span class=\"ipyplot-img-expand\"/>\n",
       "            </a>\n",
       "        </div>\n",
       "    </div>\n",
       "    </div>\n",
       "        </textarea>\n",
       "    </div>\n",
       "    "
      ],
      "text/plain": [
       "<IPython.core.display.HTML object>"
      ]
     },
     "metadata": {},
     "output_type": "display_data"
    },
    {
     "data": {
      "text/html": [
       "\n",
       "        <style>\n",
       "        #ipyplot-imgs-container-div-N6k857HRDvuhnXdPsXH7Lz {\n",
       "            width: 100%;\n",
       "            height: 100%;\n",
       "            margin: 0%;\n",
       "            overflow: auto;\n",
       "            position: relative;\n",
       "            overflow-y: scroll;\n",
       "        }\n",
       "\n",
       "        div.ipyplot-placeholder-div-N6k857HRDvuhnXdPsXH7Lz {\n",
       "            width: 120px;\n",
       "            display: inline-block;\n",
       "            margin: 3px;\n",
       "            position: relative;\n",
       "        }\n",
       "\n",
       "        div.ipyplot-content-div-N6k857HRDvuhnXdPsXH7Lz {\n",
       "            width: 120px;\n",
       "            background: white;\n",
       "            display: inline-block;\n",
       "            vertical-align: top;\n",
       "            text-align: center;\n",
       "            position: relative;\n",
       "            border: 2px solid #ddd;\n",
       "            top: 0;\n",
       "            left: 0;\n",
       "        }\n",
       "\n",
       "        div.ipyplot-content-div-N6k857HRDvuhnXdPsXH7Lz span.ipyplot-img-close {\n",
       "            display: none;\n",
       "        }\n",
       "\n",
       "        div.ipyplot-content-div-N6k857HRDvuhnXdPsXH7Lz span {\n",
       "            width: 100%;\n",
       "            height: 100%;\n",
       "            position: absolute;\n",
       "            top: 0;\n",
       "            left: 0;\n",
       "        }\n",
       "\n",
       "        div.ipyplot-content-div-N6k857HRDvuhnXdPsXH7Lz img {\n",
       "            width: 120px;\n",
       "        }\n",
       "\n",
       "        div.ipyplot-content-div-N6k857HRDvuhnXdPsXH7Lz span.ipyplot-img-close:hover {\n",
       "            cursor: zoom-out;\n",
       "        }\n",
       "        div.ipyplot-content-div-N6k857HRDvuhnXdPsXH7Lz span.ipyplot-img-expand:hover {\n",
       "            cursor: zoom-in;\n",
       "        }\n",
       "\n",
       "        div[id^=ipyplot-content-div-N6k857HRDvuhnXdPsXH7Lz]:target {\n",
       "            transform: scale(2.5);\n",
       "            transform-origin: left top;\n",
       "            z-index: 5000;\n",
       "            top: 0;\n",
       "            left: 0;\n",
       "            position: absolute;\n",
       "        }\n",
       "\n",
       "        div[id^=ipyplot-content-div-N6k857HRDvuhnXdPsXH7Lz]:target span.ipyplot-img-close {\n",
       "            display: block;\n",
       "        }\n",
       "\n",
       "        div[id^=ipyplot-content-div-N6k857HRDvuhnXdPsXH7Lz]:target span.ipyplot-img-expand {\n",
       "            display: none;\n",
       "        }\n",
       "        </style>\n",
       "    <div id=\"ipyplot-imgs-container-div-N6k857HRDvuhnXdPsXH7Lz\">\n",
       "    <div class=\"ipyplot-placeholder-div-N6k857HRDvuhnXdPsXH7Lz\">\n",
       "        <div id=\"ipyplot-content-div-N6k857HRDvuhnXdPsXH7Lz-YKosLqWRF4oTFsawd7SLjs\" class=\"ipyplot-content-div-N6k857HRDvuhnXdPsXH7Lz\">\n",
       "            <h4 style=\"font-size: 12px; word-wrap: break-word;\">0</h4>\n",
       "            <img src=\"data:image/png;base64,iVBORw0KGgoAAAANSUhEUgAAAHgAAAB4CAAAAAAcD2kOAAAS80lEQVR4nO16a5MbR7Ldycyq6gcawGCGIz5WUqw3riMcN+L6//8Xf3TY1ooiOZwB0I+qzPSHaoCkuKtLjdZfHKoIkgMOuk/XIzPPOdnAn+PP8ef4c/w5vnHQv+AeLEJuql/e13/7ovAvAJauDTaNn4CpTug3oZ8DTPjyrmmzbcuTztff/xPg6+r6M4F/dbvU7w5dxnj+fMr0n0z4jwETUZDU7g437bIcxxmAu8O/5eg8C7ieHCKS2HWbzXY3hGnaztEBK4vCHfxpxp89hNfP9DxgIoAMAIXY3twetn0XPUxjnhyukykAGH2GWqHcr4tPf2zGEtrh9tV3Ny37wvNio5FnsWzXyeECWx/jugbPBV4vl6bb3ty/PkRfJs7ZGmPPkXBE3eivr/jsP58VTvX5Kbbb/eHu7hDLFKgozS5Uhs1wXOZ5WY+4X/7xy89roD1nj9dH57jZHW4Ph4PkyGQumYLYfDo9nh4+fpbHvpx93W165oyJAFDq94fDzc2OFwY5YuEUUObx+CHZUuwfXckA1Yj7A3vMqd/d3Oy3A0U4HLFwCGyaT40tGXPRL78vIkzu7mr6vD2+bFfoht1uO2wQzADExR1GMYpnlWFacrF1EIuElCIjl1xycfdnAPv6B9xstsOm78BFHRRkmhYLTdOB2sPxfJ7mnJe8zBmcmrbdbFrJ42mcJrg+b8Ze4yK0/TD0bQNvihMzpvmppG1oQ7sfx9PxeB6ncTozFe6G7bDfb2R6/PB0JHfY82ZccZtuGPouBcSYnJgseF5QIHHjOp8eH4+n8/kcWbIM+5vdzWEjUytBYE76zMNFRNxvhmHoExNYghGTbcYlxiaEIOTsasRBQghtCcNuP2y7hrH1EAk0PxtYYtru9ruhEygMEogJxt2ClEjVbVkKODqlblssdP0mBT0RxUPfBwlT/r3Aa53l2A6Hw81+aEQBBQkzh7iZl6yl5Kx5yXOGJGmdmEJMwZdx8Xa740GIz8szZyxpuH1xd9j2ic1hznAOqXct5/PT2ZZ5zqpOMYBCShKIfCnL0SQduo1NC8IzgUN/+O7l/c3QJTIHuJYfYZTIqpqLOEfA4RybFMRNPYpIu73dhI+JiJ4JHG9e//jmL3ebFEAOOAMOYgFrKRTTvKgToEWdhMxNVWVI4cXL71qVfDx+8x7/iss0t9//25v7u00UkIMcDoezA9IibealGAi2TNOiNpupArKP3Ys3L+TJT++Pzz3V6ebNX1/fdCkwyEFw+Do4SaelqBMhj6fjeZqXXIpx3Ox2u7v7XQnl+O70nJQJAKE/vHgxCPGV2ri7wQHmSG5qIPLcCBG5KRFx7A93+8NNMyKPx/NzqxOJhCDicHcjquyGneCVdJsRyMUNEtO05OLSHu5ut73oNE5LeTb1cS15aRzsrg6uMyeuM4ejfpbk0vTzklUhaXe7a6VMHz6eMr4d+FcUyvJ0HmMUd1MjEicQMTG7m5m7+8pvYqtF1Q0cN0PHZXp8/3Auzyd7rnmeFwJcixG5EBGB3QE3c4fDHeBIMLjBiaRro2sZj6dF/xjL/GwxrO4xEZFfpusOEDEJAXAibpqggS9a49nARExEBCKCu+JCaYmJa1Q7wciJhGhVNcQSUxPljwAzCwvzCmzubmaqBokxrAkFIDCxM8PcPaiAY9d3kfFsYGIJQbjO2OHmqkXzohQ6B8MNNdsZsYvD3JEDA6Hp2hT42cDMIQRm+EUQuWkp85I5xkRwt2uWdTfA3d0KyF1iSk3Kvwf4cz1OElMMVFfYqxw2LTkTOwuZOuouEBFcyYmgSyGAQur6wb85VxOuJAAAOMSUgitMzUBETu5mqgySSMUAEDMRAa5VAqg6OBinbtj572EghKvskhibJomam5rRVRC6O3EI8EJORMwMuLoxk3jJxULLCM1mW+bfs8frjAnU912bYrDLHtMq5IiZmLl+IiIigsHdSUR1GjVaVEhqm99VnSowhdTs726GNjHX+LyoR5YADlJBa9r2+oFjkqynh7nJvRVwjN+8x17vBYDSsL9/9WLbRTCbEzkR1SwlSTgyjEDsuMQUkYTYiJfHt6cu38iiYPldnIvIHaA4vHj18nbbRGMCMapDQCxwMUkCIye2CkwAGJJSyHr+8NgRxymrP4tzSbPZbTdNlBov6zOxOLM5R4GRr1O+mC3MwuRlHq1L8TguWb9dwhBdFLZrzkX9cnjWX4PFFUayAgMAmJnggJu6UepmLid8+Hg8fzOhpxXYAc+nh/7wNKkTsXh1FggCh7k5qG4tOQESmNzVLRMvsr1PC07T21/efxy/8XDVJa2h4/kUmsPTVNyJGKBrAcRaKBTEBCKwiJC5mc5KOexleHz88OHnt+8+LN+81ET4lJbLknNWpctKOMAcmNxUi5s7e90HFiEw3E3hcd9vZJwf3r9/fCpfx/EnAv0F27keFXjYHO5vh+hK6n79/oWCMH+6w/Vng4FSQDxLPh/P0/IrD+R6RgGsNH2F/fwh0su//fXH77fIyOqXtGJUuBZmInaCX28Gd4cROHYkHZdpWsoXROCacC7A7l84Ytex+eG//7dXhw1nz2rklV+gliiYgysZ8ZXlrwyMOLQsrVgu9pVtfCHINd//M5d9/8O//8ddyHkxNSPn+m2ryQ3uDK/5eSX5th6+0BCnwAAx27fWYwJVkgVqXr1583pXnuZsdt15N7iDqkVOn1bKHWbrpFgIqWnaFPjCMr+wzvFJC30C9hhTalKMIXT/9c0+wUrO7nRZGXevdbluFgMgJnJD5dmVEBBCt7v5eDyuwKuf7p9j/2qVKfWb7Xbbb9q2//FNm32elkyQSjEAd1NzIgaDCWtlJDdzU3OAmFyh0t/en54eLpyLVmPT6SvEdTSb/c3t3eFmt930t7cy0jwuSkxMNam4u5mDnZxwqR31P828cmEvKLy5Ox1/ab4i9F+AXjeAqN/dHG5f3N8dbnbbvk2SbSl2kaYr8Hr96kwbrqSeHUTM5ErK/c3p/RAvwA7/FSYxszARsYQY4rC7ubk5HG72u2HTBbipczB3NWZmAObEXGGY2TWbg8AsgchqH4Fh5tJs97vuAvy1q01BYkwhsEjTD5t+u91tN5tN13ddI2RmEDYruTgFYQKcKALuRiKCUqbFnDk2IUV2c5g7wc25HXZDG/6ZdgoxpqbpUgoh9vu7w347DG0jQSQGmJmBmKGeVclNCCDhIDBThChuZTwXl9Bwn9oANVNVkJtz6rebNuAfAYcYY0pN1/VNE0Mabu/vD9tNl9jVAIK6eT0/RHAonIiISQLcGCGKZc9T9pDEKKQAVSOvyYQTNn0jl3AikhBjYCJQDDHGmFLbdW0SiZubFy/2Q9cGaMnmBDdTJ2Zy4yaYq4Hr/jJEKAQxDSG4xxiE3BSqNZYN4MB9l2SdMXFoNzf7oREQxxiihBCa1KRA4GbYdUnIDaZmDndTNXeHxBSwzKOCQzBTpiDMEthpWTxTSE3DupAXMzOvcjFK16V1xsSx3d795fX9JhJJjEGYiUOIzGbOsQmWYeJWtApvVS1L9rTrB558LC7EpkpMMQZmwPvCyiGGQFnditVkDTCJtE24qMXQDLev//pf3uwSUYhRmFB9DdesBmJdrDAuj23mupzOpQ27FDHSGsrKBo4CAJJamMTAbtlMi4OEGUQE8RhkBaa0ffHqL99//2YfiaoINDcCuZdcVM3cFQ4zq0VT2Kf5cWzDMBA4mYsIE7mbFnd35MVIRITUSlE1hwDkRnTtpCAAaO9+/OEvP3x3GEJtQpPXNh2BBYCTG7DGIhGJ0DItDx9CFt6HuN86nIiZSeeMktVUzTkSYEtWtU913U2Ri9pKBLrv/va3V/eHLrI7zMmtJva1nrrZNbcRCacmzKfy8BMm+LQfNsl1KQ6Cl0XzNC2FOIRYSoTnstKjtZZopmUuakAAwua7v/7bi20KMDc4uetaUZzIV1plq4XHLKmPofHpYy7Cxbu2h54nc5gu8zSfT1ORpmsbUyUvZjUBE9WoLzQvxQEEpn539/L1TfI16eMTcE0SoItPipqMJWhMKeTp48+Qrk/Iy6zuludpms7jpAEhqhIRamm6Mn93o3XLwx3tX9wd9hss5VITiWtmv2Qn97V95E5Wra2wf61PS/llmqanPds8u7tZKaUoJY9dky6qscpkrqwIXtlXFA2vZP/ydmgkz7MRExMxpNK11a0jgpWSS3YFsXmZs4V7vnv/89t3b9/+/X4b2GqbnIUDdxJCk0LNg+BqDDDXau8AS0hJNLyM+/t9J56n0UREWJz5wvOImIMINM9wdXMWt2wEfnH7/dv/8fS/H/infZ9SEAE4tl3XN33XRGG6dtXB1Ry6LqfE1MYSds1+1wWykheT4C74FGsVOAoVzwR3q2tenJuh8+7xf/KSx2PbtF0TiKRBhDT90AV2q7y2rvSntrUDJLFpUg4SAsGUV3JqcGNjWc2EGnykJa/h52Z14izd/sUrGj2Epuu7yCxNPwybvmuTkMHtwo5ptfpQPWXikNqmhCzLMk1TMA5O5GbVjOaqSMRdnXwZz1NWBQGmZkZ0puDbH/jNaVZK/dClwCG2bdu0TWRykNc282o7rW6uuxNJSG1nYfR4Pp/HxiXWtGgOllh5T6jMWOfxvKivXoqpAZSD9z++GI+nUWM39CkGCUGEmeBaWby7Ozn4Wuqri86x6XqE0cI4TjMzBGZwVXMWC0xE4u4EU53PYzaWsEpRc1gOsRnETo9PWbpNl1IQohpT1bCu2wxyItCVDZo5habrOSyUc1E1N4WbVs/XrTAIYiYE0zLnon7h0KtrRiF0LTWpWST1bUjC5EVhVf7bBRisKtU8IbAWFJemn0OYKasTw5ZcD4PUXKXu4CJCMNN8dR64Pj+TCMGdQuuFJQm5uVsuxbQOW7syIBYmOJGweGFdVNqttWHmRcFCeZ6dmFlEcElVxCxgd1cnXhMu8+otMets7NQkEFtdr5zVAdOSi1XlBkdl+CQhBiHQrNINnsPMS1Z312V2lkCQSFZ5oa2ZCw5wLXz1bxCBQaoLcxCq2+5qJWcjZpScs/qV8PvK6twdhqVQ6q2EiaZxHCcvVpO4u8NVy2fAXBssLBX6Ks3UnWO1Z4u6qZZcjERItRRzh7m7q5sTiWjVrVAnDpHC5PHp48Nu4BThBtds0FLKpT5d1CmYpE5/bS05TJ3MlL2oqpmaqhrBYQYikLO5V+rDEsxdY4JwbVyESenh3dsNhi5SXha1Areiq9Kq/v8qAvkiDC82sSo4C5mZVnXmBlcFjILBa/JyLQZ2uFspkCACLTmHJdvDu583kjY9z55dzdYeJAsxizATM5iIeFX+ayY3U/X6QkndIr96UsTkcFetFEYBM8DMQkOA5XlaQgaePrztJLVN9EqLtLYGP2+gXkp5dVeuklhrggKuZ6gqdWKu54Xtk/3nqL0wnc/H4xKAPD78RGpl7MkoiqlqVlsLhgrxWsmpUttPwNd8sxoQuBwBZmaY1iLoTgKWIMJBmoAynR7eHXMAfH6g6Xh8uD8Mmyaxm+Z5yQZzInDt3FEtqpVB0KU94e5UDyBVx4jrwSVm8mJwkBCLOUgkxBglBpTzwy8/nUoAsDwuHx8+vvvu5cvv7kIiaA7CpQqW9Vzz2t4CyC/GOK6gTHxxEVFb5yAz1APqsZLE0LSJyJbx6f3P/2e0AKDoSMfz09O5SCMkTByiEZVV7xPZFZgurkUlE9c8ykR8ddRWa8NWE4IZtHJN6Hz68P7du/djFeYOPMLMmMp+SCEwKAVVtZW+4EtgWr2HGuGVHF6ozcXNqx9WsgPXojRNQfPp8Zf/9cvj2RFWnmAju+ann4dt1/fDMPTidrnRBbhapnShA05McNXVS6qGx0UyAOCgVGuL6zyOCsYyPn58//efTg6ECwkroy3Ht123HfaHl6/b1ArAfOnFX9LXWhXdclEjIi9LVq99zapw1t2vtZjcQIBNx49PY9Y8Hh8+Pj49nFFFW3VBl3x+EI7b7d39HLY7MLFIYL6GMV3eTiS4UnUQ3TRnI6p67bPgr0naVJ0C6/nh/YencZ5Ojw8fT6UoPrMifH3f7Gk759D1tE3EYdW7aw+nGjdOBM/LlBUEW+Y5G8hNi30BDLea20hYzx/ffXg6T+Pp6ePT+krdVx7IcmQIzT/3kTikpqk9UzNQCAItxQBYnsbFAHhecjFcdN7n2c69Hmxisun4+Hie5nk6nS6v8oWvvLxyhp7+PiQhCm3fNiEImRbn1ASUeS5O0GU8zwbAVVUdtNrDnyLK1/U2gMjzPE1LLiUv1/f4CL8ezCGkGJhAodv0bYqBtSwqbZewjGM2QJfzebL13v4pfn49Li8Am6la1QOXr30N/PloN32bUmDNi0rbJyzncTFAl/FcfvPK/3T8NjCka0IMZCUrN21EnuZsgJb5t6/7w8CIQYTJVY1DFFzp3D/0eP+VwKu0NXfilc7j0oH6fwpcv+TX7/5hwD/Hn+P/3/F/AYh7nFRcKxuqAAAAAElFTkSuQmCC\"/>\n",
       "            <a href=\"#!\">\n",
       "                <span class=\"ipyplot-img-close\"/>\n",
       "            </a>\n",
       "            <a href=\"#ipyplot-content-div-N6k857HRDvuhnXdPsXH7Lz-YKosLqWRF4oTFsawd7SLjs\">\n",
       "                <span class=\"ipyplot-img-expand\"/>\n",
       "            </a>\n",
       "        </div>\n",
       "    </div>\n",
       "    \n",
       "    <div class=\"ipyplot-placeholder-div-N6k857HRDvuhnXdPsXH7Lz\">\n",
       "        <div id=\"ipyplot-content-div-N6k857HRDvuhnXdPsXH7Lz-MVhUwGx43YY48GJMu6xHgX\" class=\"ipyplot-content-div-N6k857HRDvuhnXdPsXH7Lz\">\n",
       "            <h4 style=\"font-size: 12px; word-wrap: break-word;\">1</h4>\n",
       "            <img src=\"data:image/png;base64,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\"/>\n",
       "            <a href=\"#!\">\n",
       "                <span class=\"ipyplot-img-close\"/>\n",
       "            </a>\n",
       "            <a href=\"#ipyplot-content-div-N6k857HRDvuhnXdPsXH7Lz-MVhUwGx43YY48GJMu6xHgX\">\n",
       "                <span class=\"ipyplot-img-expand\"/>\n",
       "            </a>\n",
       "        </div>\n",
       "    </div>\n",
       "    \n",
       "    <div class=\"ipyplot-placeholder-div-N6k857HRDvuhnXdPsXH7Lz\">\n",
       "        <div id=\"ipyplot-content-div-N6k857HRDvuhnXdPsXH7Lz-4RhEXhnVE9MNVVaAmg23r4\" class=\"ipyplot-content-div-N6k857HRDvuhnXdPsXH7Lz\">\n",
       "            <h4 style=\"font-size: 12px; word-wrap: break-word;\">2</h4>\n",
       "            <img src=\"data:image/png;base64,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\"/>\n",
       "            <a href=\"#!\">\n",
       "                <span class=\"ipyplot-img-close\"/>\n",
       "            </a>\n",
       "            <a href=\"#ipyplot-content-div-N6k857HRDvuhnXdPsXH7Lz-4RhEXhnVE9MNVVaAmg23r4\">\n",
       "                <span class=\"ipyplot-img-expand\"/>\n",
       "            </a>\n",
       "        </div>\n",
       "    </div>\n",
       "    \n",
       "    <div class=\"ipyplot-placeholder-div-N6k857HRDvuhnXdPsXH7Lz\">\n",
       "        <div id=\"ipyplot-content-div-N6k857HRDvuhnXdPsXH7Lz-7YjodWC3iUGiXAGTwGitBe\" class=\"ipyplot-content-div-N6k857HRDvuhnXdPsXH7Lz\">\n",
       "            <h4 style=\"font-size: 12px; word-wrap: break-word;\">3</h4>\n",
       "            <img src=\"data:image/png;base64,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\"/>\n",
       "            <a href=\"#!\">\n",
       "                <span class=\"ipyplot-img-close\"/>\n",
       "            </a>\n",
       "            <a href=\"#ipyplot-content-div-N6k857HRDvuhnXdPsXH7Lz-7YjodWC3iUGiXAGTwGitBe\">\n",
       "                <span class=\"ipyplot-img-expand\"/>\n",
       "            </a>\n",
       "        </div>\n",
       "    </div>\n",
       "    \n",
       "    <div class=\"ipyplot-placeholder-div-N6k857HRDvuhnXdPsXH7Lz\">\n",
       "        <div id=\"ipyplot-content-div-N6k857HRDvuhnXdPsXH7Lz-7E6L234Bea2iDFE3tZHbSL\" class=\"ipyplot-content-div-N6k857HRDvuhnXdPsXH7Lz\">\n",
       "            <h4 style=\"font-size: 12px; word-wrap: break-word;\">4</h4>\n",
       "            <img src=\"data:image/png;base64,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\"/>\n",
       "            <a href=\"#!\">\n",
       "                <span class=\"ipyplot-img-close\"/>\n",
       "            </a>\n",
       "            <a href=\"#ipyplot-content-div-N6k857HRDvuhnXdPsXH7Lz-7E6L234Bea2iDFE3tZHbSL\">\n",
       "                <span class=\"ipyplot-img-expand\"/>\n",
       "            </a>\n",
       "        </div>\n",
       "    </div>\n",
       "    \n",
       "    <div class=\"ipyplot-placeholder-div-N6k857HRDvuhnXdPsXH7Lz\">\n",
       "        <div id=\"ipyplot-content-div-N6k857HRDvuhnXdPsXH7Lz-BTThDhfsPCJLJPZDsrThfs\" class=\"ipyplot-content-div-N6k857HRDvuhnXdPsXH7Lz\">\n",
       "            <h4 style=\"font-size: 12px; word-wrap: break-word;\">5</h4>\n",
       "            <img src=\"data:image/png;base64,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\"/>\n",
       "            <a href=\"#!\">\n",
       "                <span class=\"ipyplot-img-close\"/>\n",
       "            </a>\n",
       "            <a href=\"#ipyplot-content-div-N6k857HRDvuhnXdPsXH7Lz-BTThDhfsPCJLJPZDsrThfs\">\n",
       "                <span class=\"ipyplot-img-expand\"/>\n",
       "            </a>\n",
       "        </div>\n",
       "    </div>\n",
       "    \n",
       "    <div class=\"ipyplot-placeholder-div-N6k857HRDvuhnXdPsXH7Lz\">\n",
       "        <div id=\"ipyplot-content-div-N6k857HRDvuhnXdPsXH7Lz-PX2HD4Pns72t2Q9g8mX8VC\" class=\"ipyplot-content-div-N6k857HRDvuhnXdPsXH7Lz\">\n",
       "            <h4 style=\"font-size: 12px; word-wrap: break-word;\">6</h4>\n",
       "            <img src=\"data:image/png;base64,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\"/>\n",
       "            <a href=\"#!\">\n",
       "                <span class=\"ipyplot-img-close\"/>\n",
       "            </a>\n",
       "            <a href=\"#ipyplot-content-div-N6k857HRDvuhnXdPsXH7Lz-PX2HD4Pns72t2Q9g8mX8VC\">\n",
       "                <span class=\"ipyplot-img-expand\"/>\n",
       "            </a>\n",
       "        </div>\n",
       "    </div>\n",
       "    \n",
       "    <div class=\"ipyplot-placeholder-div-N6k857HRDvuhnXdPsXH7Lz\">\n",
       "        <div id=\"ipyplot-content-div-N6k857HRDvuhnXdPsXH7Lz-e5CVkbYskb8ibxc6DR4fo5\" class=\"ipyplot-content-div-N6k857HRDvuhnXdPsXH7Lz\">\n",
       "            <h4 style=\"font-size: 12px; word-wrap: break-word;\">7</h4>\n",
       "            <img src=\"data:image/png;base64,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\"/>\n",
       "            <a href=\"#!\">\n",
       "                <span class=\"ipyplot-img-close\"/>\n",
       "            </a>\n",
       "            <a href=\"#ipyplot-content-div-N6k857HRDvuhnXdPsXH7Lz-e5CVkbYskb8ibxc6DR4fo5\">\n",
       "                <span class=\"ipyplot-img-expand\"/>\n",
       "            </a>\n",
       "        </div>\n",
       "    </div>\n",
       "    \n",
       "    <div class=\"ipyplot-placeholder-div-N6k857HRDvuhnXdPsXH7Lz\">\n",
       "        <div id=\"ipyplot-content-div-N6k857HRDvuhnXdPsXH7Lz-3tenAWG6iH5FZHKW3fLoHu\" class=\"ipyplot-content-div-N6k857HRDvuhnXdPsXH7Lz\">\n",
       "            <h4 style=\"font-size: 12px; word-wrap: break-word;\">8</h4>\n",
       "            <img src=\"data:image/png;base64,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\"/>\n",
       "            <a href=\"#!\">\n",
       "                <span class=\"ipyplot-img-close\"/>\n",
       "            </a>\n",
       "            <a href=\"#ipyplot-content-div-N6k857HRDvuhnXdPsXH7Lz-3tenAWG6iH5FZHKW3fLoHu\">\n",
       "                <span class=\"ipyplot-img-expand\"/>\n",
       "            </a>\n",
       "        </div>\n",
       "    </div>\n",
       "    \n",
       "    <div class=\"ipyplot-placeholder-div-N6k857HRDvuhnXdPsXH7Lz\">\n",
       "        <div id=\"ipyplot-content-div-N6k857HRDvuhnXdPsXH7Lz-VnEWfpzCpYWFXZmwarxJLj\" class=\"ipyplot-content-div-N6k857HRDvuhnXdPsXH7Lz\">\n",
       "            <h4 style=\"font-size: 12px; word-wrap: break-word;\">9</h4>\n",
       "            <img src=\"data:image/png;base64,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\"/>\n",
       "            <a href=\"#!\">\n",
       "                <span class=\"ipyplot-img-close\"/>\n",
       "            </a>\n",
       "            <a href=\"#ipyplot-content-div-N6k857HRDvuhnXdPsXH7Lz-VnEWfpzCpYWFXZmwarxJLj\">\n",
       "                <span class=\"ipyplot-img-expand\"/>\n",
       "            </a>\n",
       "        </div>\n",
       "    </div>\n",
       "    \n",
       "    <div class=\"ipyplot-placeholder-div-N6k857HRDvuhnXdPsXH7Lz\">\n",
       "        <div id=\"ipyplot-content-div-N6k857HRDvuhnXdPsXH7Lz-gtVCi9FzWD6FV6vX4f6Vjn\" class=\"ipyplot-content-div-N6k857HRDvuhnXdPsXH7Lz\">\n",
       "            <h4 style=\"font-size: 12px; word-wrap: break-word;\">10</h4>\n",
       "            <img src=\"data:image/png;base64,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\"/>\n",
       "            <a href=\"#!\">\n",
       "                <span class=\"ipyplot-img-close\"/>\n",
       "            </a>\n",
       "            <a href=\"#ipyplot-content-div-N6k857HRDvuhnXdPsXH7Lz-gtVCi9FzWD6FV6vX4f6Vjn\">\n",
       "                <span class=\"ipyplot-img-expand\"/>\n",
       "            </a>\n",
       "        </div>\n",
       "    </div>\n",
       "    \n",
       "    <div class=\"ipyplot-placeholder-div-N6k857HRDvuhnXdPsXH7Lz\">\n",
       "        <div id=\"ipyplot-content-div-N6k857HRDvuhnXdPsXH7Lz-KawpojUF4zANeyrVgqQFRF\" class=\"ipyplot-content-div-N6k857HRDvuhnXdPsXH7Lz\">\n",
       "            <h4 style=\"font-size: 12px; word-wrap: break-word;\">11</h4>\n",
       "            <img src=\"data:image/png;base64,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\"/>\n",
       "            <a href=\"#!\">\n",
       "                <span class=\"ipyplot-img-close\"/>\n",
       "            </a>\n",
       "            <a href=\"#ipyplot-content-div-N6k857HRDvuhnXdPsXH7Lz-KawpojUF4zANeyrVgqQFRF\">\n",
       "                <span class=\"ipyplot-img-expand\"/>\n",
       "            </a>\n",
       "        </div>\n",
       "    </div>\n",
       "    \n",
       "    <div class=\"ipyplot-placeholder-div-N6k857HRDvuhnXdPsXH7Lz\">\n",
       "        <div id=\"ipyplot-content-div-N6k857HRDvuhnXdPsXH7Lz-nDyW63tKzi43apEwkMhvmo\" class=\"ipyplot-content-div-N6k857HRDvuhnXdPsXH7Lz\">\n",
       "            <h4 style=\"font-size: 12px; word-wrap: break-word;\">12</h4>\n",
       "            <img src=\"data:image/png;base64,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\"/>\n",
       "            <a href=\"#!\">\n",
       "                <span class=\"ipyplot-img-close\"/>\n",
       "            </a>\n",
       "            <a href=\"#ipyplot-content-div-N6k857HRDvuhnXdPsXH7Lz-nDyW63tKzi43apEwkMhvmo\">\n",
       "                <span class=\"ipyplot-img-expand\"/>\n",
       "            </a>\n",
       "        </div>\n",
       "    </div>\n",
       "    \n",
       "    <div class=\"ipyplot-placeholder-div-N6k857HRDvuhnXdPsXH7Lz\">\n",
       "        <div id=\"ipyplot-content-div-N6k857HRDvuhnXdPsXH7Lz-SYW8MZRjfGfSthHR3iusmz\" class=\"ipyplot-content-div-N6k857HRDvuhnXdPsXH7Lz\">\n",
       "            <h4 style=\"font-size: 12px; word-wrap: break-word;\">13</h4>\n",
       "            <img src=\"data:image/png;base64,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\"/>\n",
       "            <a href=\"#!\">\n",
       "                <span class=\"ipyplot-img-close\"/>\n",
       "            </a>\n",
       "            <a href=\"#ipyplot-content-div-N6k857HRDvuhnXdPsXH7Lz-SYW8MZRjfGfSthHR3iusmz\">\n",
       "                <span class=\"ipyplot-img-expand\"/>\n",
       "            </a>\n",
       "        </div>\n",
       "    </div>\n",
       "    \n",
       "    <div class=\"ipyplot-placeholder-div-N6k857HRDvuhnXdPsXH7Lz\">\n",
       "        <div id=\"ipyplot-content-div-N6k857HRDvuhnXdPsXH7Lz-JzT8B9GsvSH78mfJg38LNM\" class=\"ipyplot-content-div-N6k857HRDvuhnXdPsXH7Lz\">\n",
       "            <h4 style=\"font-size: 12px; word-wrap: break-word;\">14</h4>\n",
       "            <img src=\"data:image/png;base64,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\"/>\n",
       "            <a href=\"#!\">\n",
       "                <span class=\"ipyplot-img-close\"/>\n",
       "            </a>\n",
       "            <a href=\"#ipyplot-content-div-N6k857HRDvuhnXdPsXH7Lz-JzT8B9GsvSH78mfJg38LNM\">\n",
       "                <span class=\"ipyplot-img-expand\"/>\n",
       "            </a>\n",
       "        </div>\n",
       "    </div>\n",
       "    \n",
       "    <div class=\"ipyplot-placeholder-div-N6k857HRDvuhnXdPsXH7Lz\">\n",
       "        <div id=\"ipyplot-content-div-N6k857HRDvuhnXdPsXH7Lz-WmCX4vikRxR6XSDdUrq4pe\" class=\"ipyplot-content-div-N6k857HRDvuhnXdPsXH7Lz\">\n",
       "            <h4 style=\"font-size: 12px; word-wrap: break-word;\">15</h4>\n",
       "            <img src=\"data:image/png;base64,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\"/>\n",
       "            <a href=\"#!\">\n",
       "                <span class=\"ipyplot-img-close\"/>\n",
       "            </a>\n",
       "            <a href=\"#ipyplot-content-div-N6k857HRDvuhnXdPsXH7Lz-WmCX4vikRxR6XSDdUrq4pe\">\n",
       "                <span class=\"ipyplot-img-expand\"/>\n",
       "            </a>\n",
       "        </div>\n",
       "    </div>\n",
       "    \n",
       "    <div class=\"ipyplot-placeholder-div-N6k857HRDvuhnXdPsXH7Lz\">\n",
       "        <div id=\"ipyplot-content-div-N6k857HRDvuhnXdPsXH7Lz-6nNmFnEukpqx9HFXj7J6WX\" class=\"ipyplot-content-div-N6k857HRDvuhnXdPsXH7Lz\">\n",
       "            <h4 style=\"font-size: 12px; word-wrap: break-word;\">16</h4>\n",
       "            <img src=\"data:image/png;base64,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\"/>\n",
       "            <a href=\"#!\">\n",
       "                <span class=\"ipyplot-img-close\"/>\n",
       "            </a>\n",
       "            <a href=\"#ipyplot-content-div-N6k857HRDvuhnXdPsXH7Lz-6nNmFnEukpqx9HFXj7J6WX\">\n",
       "                <span class=\"ipyplot-img-expand\"/>\n",
       "            </a>\n",
       "        </div>\n",
       "    </div>\n",
       "    \n",
       "    <div class=\"ipyplot-placeholder-div-N6k857HRDvuhnXdPsXH7Lz\">\n",
       "        <div id=\"ipyplot-content-div-N6k857HRDvuhnXdPsXH7Lz-g3UxzuPdyKeLsoJj2E4giR\" class=\"ipyplot-content-div-N6k857HRDvuhnXdPsXH7Lz\">\n",
       "            <h4 style=\"font-size: 12px; word-wrap: break-word;\">17</h4>\n",
       "            <img src=\"data:image/png;base64,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\"/>\n",
       "            <a href=\"#!\">\n",
       "                <span class=\"ipyplot-img-close\"/>\n",
       "            </a>\n",
       "            <a href=\"#ipyplot-content-div-N6k857HRDvuhnXdPsXH7Lz-g3UxzuPdyKeLsoJj2E4giR\">\n",
       "                <span class=\"ipyplot-img-expand\"/>\n",
       "            </a>\n",
       "        </div>\n",
       "    </div>\n",
       "    </div>"
      ],
      "text/plain": [
       "<IPython.core.display.HTML object>"
      ]
     },
     "metadata": {},
     "output_type": "display_data"
    }
   ],
   "source": [
    "ipyplot.plot_images(x_train, max_images=18, img_width=120)"
   ]
  },
  {
   "cell_type": "code",
   "execution_count": 6,
   "id": "db464b42",
   "metadata": {
    "execution": {
     "iopub.execute_input": "2022-02-28T05:37:05.081726Z",
     "iopub.status.busy": "2022-02-28T05:37:05.080750Z",
     "iopub.status.idle": "2022-02-28T05:37:05.084627Z",
     "shell.execute_reply": "2022-02-28T05:37:05.085329Z",
     "shell.execute_reply.started": "2022-02-28T05:30:36.008724Z"
    },
    "papermill": {
     "duration": 0.041024,
     "end_time": "2022-02-28T05:37:05.085529",
     "exception": false,
     "start_time": "2022-02-28T05:37:05.044505",
     "status": "completed"
    },
    "tags": []
   },
   "outputs": [
    {
     "name": "stdout",
     "output_type": "stream",
     "text": [
      "(60000, 784)\n",
      "(10000, 784)\n"
     ]
    }
   ],
   "source": [
    "x_train = x_train.reshape(len(x_train),784)\n",
    "x_test = x_test.reshape(len(x_test),784)\n",
    "print(x_train.shape)\n",
    "print(x_test.shape)"
   ]
  },
  {
   "cell_type": "code",
   "execution_count": 7,
   "id": "0c2e9406",
   "metadata": {
    "execution": {
     "iopub.execute_input": "2022-02-28T05:37:05.156912Z",
     "iopub.status.busy": "2022-02-28T05:37:05.156105Z",
     "iopub.status.idle": "2022-02-28T05:37:05.159618Z",
     "shell.execute_reply": "2022-02-28T05:37:05.160312Z",
     "shell.execute_reply.started": "2022-02-28T05:30:36.016038Z"
    },
    "papermill": {
     "duration": 0.042833,
     "end_time": "2022-02-28T05:37:05.160525",
     "exception": false,
     "start_time": "2022-02-28T05:37:05.117692",
     "status": "completed"
    },
    "tags": []
   },
   "outputs": [
    {
     "name": "stdout",
     "output_type": "stream",
     "text": [
      "(60000, 1)\n",
      "(10000, 1)\n"
     ]
    }
   ],
   "source": [
    "y_train = y_train.reshape(len(y_train),1)\n",
    "y_test = y_test.reshape(len(y_test),1)\n",
    "print(y_train.shape)\n",
    "print(y_test.shape)"
   ]
  },
  {
   "cell_type": "code",
   "execution_count": 8,
   "id": "033f6a1a",
   "metadata": {
    "execution": {
     "iopub.execute_input": "2022-02-28T05:37:05.231310Z",
     "iopub.status.busy": "2022-02-28T05:37:05.230495Z",
     "iopub.status.idle": "2022-02-28T05:37:13.138465Z",
     "shell.execute_reply": "2022-02-28T05:37:13.138982Z",
     "shell.execute_reply.started": "2022-02-28T05:30:36.026365Z"
    },
    "papermill": {
     "duration": 7.946435,
     "end_time": "2022-02-28T05:37:13.139155",
     "exception": false,
     "start_time": "2022-02-28T05:37:05.192720",
     "status": "completed"
    },
    "tags": []
   },
   "outputs": [
    {
     "name": "stdout",
     "output_type": "stream",
     "text": [
      "Number Of Labels: 10\n"
     ]
    }
   ],
   "source": [
    "num_labels = len(cp.unique(y_train))\n",
    "print(\"Number Of Labels:\",num_labels)"
   ]
  },
  {
   "cell_type": "code",
   "execution_count": 9,
   "id": "5f794fe7",
   "metadata": {
    "execution": {
     "iopub.execute_input": "2022-02-28T05:37:13.209989Z",
     "iopub.status.busy": "2022-02-28T05:37:13.208666Z",
     "iopub.status.idle": "2022-02-28T05:37:32.989350Z",
     "shell.execute_reply": "2022-02-28T05:37:32.988555Z",
     "shell.execute_reply.started": "2022-02-28T05:30:43.317488Z"
    },
    "papermill": {
     "duration": 19.818606,
     "end_time": "2022-02-28T05:37:32.989534",
     "exception": false,
     "start_time": "2022-02-28T05:37:13.170928",
     "status": "completed"
    },
    "tags": []
   },
   "outputs": [
    {
     "name": "stdout",
     "output_type": "stream",
     "text": [
      "[W] [05:37:19.068149] L-BFGS: max iterations reached\n",
      "[W] [05:37:19.068491] Maximum iterations reached before solver is converged. To increase model accuracy you can increase the number of iterations (max_iter) or improve the scaling of the input data.\n",
      "[W] [05:37:20.601575] L-BFGS: max iterations reached\n",
      "[W] [05:37:20.605196] Maximum iterations reached before solver is converged. To increase model accuracy you can increase the number of iterations (max_iter) or improve the scaling of the input data.\n",
      "[W] [05:37:22.267793] L-BFGS: max iterations reached\n",
      "[W] [05:37:22.268705] Maximum iterations reached before solver is converged. To increase model accuracy you can increase the number of iterations (max_iter) or improve the scaling of the input data.\n",
      "[W] [05:37:23.809636] L-BFGS: max iterations reached\n",
      "[W] [05:37:23.810319] Maximum iterations reached before solver is converged. To increase model accuracy you can increase the number of iterations (max_iter) or improve the scaling of the input data.\n",
      "[W] [05:37:25.325479] L-BFGS: max iterations reached\n",
      "[W] [05:37:25.326258] Maximum iterations reached before solver is converged. To increase model accuracy you can increase the number of iterations (max_iter) or improve the scaling of the input data.\n",
      "[W] [05:37:26.794801] L-BFGS: max iterations reached\n",
      "[W] [05:37:26.795585] Maximum iterations reached before solver is converged. To increase model accuracy you can increase the number of iterations (max_iter) or improve the scaling of the input data.\n",
      "[W] [05:37:28.333025] L-BFGS: max iterations reached\n",
      "[W] [05:37:28.333849] Maximum iterations reached before solver is converged. To increase model accuracy you can increase the number of iterations (max_iter) or improve the scaling of the input data.\n",
      "[W] [05:37:29.979018] L-BFGS: max iterations reached\n",
      "[W] [05:37:29.979725] Maximum iterations reached before solver is converged. To increase model accuracy you can increase the number of iterations (max_iter) or improve the scaling of the input data.\n",
      "[W] [05:37:31.463800] L-BFGS: max iterations reached\n",
      "[W] [05:37:31.464776] Maximum iterations reached before solver is converged. To increase model accuracy you can increase the number of iterations (max_iter) or improve the scaling of the input data.\n",
      "[W] [05:37:32.974792] L-BFGS: max iterations reached\n",
      "[W] [05:37:32.975766] Maximum iterations reached before solver is converged. To increase model accuracy you can increase the number of iterations (max_iter) or improve the scaling of the input data.\n"
     ]
    },
    {
     "data": {
      "text/plain": [
       "OneVsRestClassifier()"
      ]
     },
     "execution_count": 9,
     "metadata": {},
     "output_type": "execute_result"
    }
   ],
   "source": [
    "cls = OneVsRestClassifier(LogisticRegression())\n",
    "cls.fit(x_train.astype('float32'),y_train.astype('float32'))"
   ]
  },
  {
   "cell_type": "code",
   "execution_count": 10,
   "id": "730a8dfe",
   "metadata": {
    "execution": {
     "iopub.execute_input": "2022-02-28T05:37:33.071014Z",
     "iopub.status.busy": "2022-02-28T05:37:33.069483Z",
     "iopub.status.idle": "2022-02-28T05:37:33.213252Z",
     "shell.execute_reply": "2022-02-28T05:37:33.212598Z",
     "shell.execute_reply.started": "2022-02-28T05:31:02.313308Z"
    },
    "papermill": {
     "duration": 0.186869,
     "end_time": "2022-02-28T05:37:33.213426",
     "exception": false,
     "start_time": "2022-02-28T05:37:33.026557",
     "status": "completed"
    },
    "tags": []
   },
   "outputs": [],
   "source": [
    "y_pred = cls.predict(x_test.astype('float32'))"
   ]
  },
  {
   "cell_type": "code",
   "execution_count": 11,
   "id": "df1ed31d",
   "metadata": {
    "execution": {
     "iopub.execute_input": "2022-02-28T05:37:33.296853Z",
     "iopub.status.busy": "2022-02-28T05:37:33.293710Z",
     "iopub.status.idle": "2022-02-28T05:37:33.299573Z",
     "shell.execute_reply": "2022-02-28T05:37:33.300238Z",
     "shell.execute_reply.started": "2022-02-28T05:31:02.446054Z"
    },
    "papermill": {
     "duration": 0.046291,
     "end_time": "2022-02-28T05:37:33.300416",
     "exception": false,
     "start_time": "2022-02-28T05:37:33.254125",
     "status": "completed"
    },
    "tags": []
   },
   "outputs": [
    {
     "name": "stdout",
     "output_type": "stream",
     "text": [
      "[9. 2. 1. ... 8. 1. 5.]\n",
      "<class 'numpy.ndarray'>\n"
     ]
    }
   ],
   "source": [
    "print(y_pred)\n",
    "print(type(y_pred))"
   ]
  },
  {
   "cell_type": "code",
   "execution_count": 12,
   "id": "7eca6b4e",
   "metadata": {
    "execution": {
     "iopub.execute_input": "2022-02-28T05:37:33.381687Z",
     "iopub.status.busy": "2022-02-28T05:37:33.380589Z",
     "iopub.status.idle": "2022-02-28T05:37:33.389019Z",
     "shell.execute_reply": "2022-02-28T05:37:33.389537Z",
     "shell.execute_reply.started": "2022-02-28T05:31:02.455755Z"
    },
    "papermill": {
     "duration": 0.052229,
     "end_time": "2022-02-28T05:37:33.389715",
     "exception": false,
     "start_time": "2022-02-28T05:37:33.337486",
     "status": "completed"
    },
    "tags": []
   },
   "outputs": [
    {
     "name": "stdout",
     "output_type": "stream",
     "text": [
      "[9 2 1 ... 8 1 5]\n",
      "<class 'numpy.ndarray'>\n"
     ]
    }
   ],
   "source": [
    "y_test = y_test.reshape(1,len(y_test))[0]\n",
    "print(y_test)\n",
    "print(type(y_test))"
   ]
  },
  {
   "cell_type": "code",
   "execution_count": 13,
   "id": "a754d21b",
   "metadata": {
    "execution": {
     "iopub.execute_input": "2022-02-28T05:37:33.472272Z",
     "iopub.status.busy": "2022-02-28T05:37:33.470999Z",
     "iopub.status.idle": "2022-02-28T05:37:33.473344Z",
     "shell.execute_reply": "2022-02-28T05:37:33.474053Z",
     "shell.execute_reply.started": "2022-02-28T05:31:02.467677Z"
    },
    "papermill": {
     "duration": 0.047183,
     "end_time": "2022-02-28T05:37:33.474270",
     "exception": false,
     "start_time": "2022-02-28T05:37:33.427087",
     "status": "completed"
    },
    "tags": []
   },
   "outputs": [],
   "source": [
    "from sklearn.metrics import accuracy_score, confusion_matrix, classification_report, plot_confusion_matrix"
   ]
  },
  {
   "cell_type": "code",
   "execution_count": 14,
   "id": "61df7b10",
   "metadata": {
    "execution": {
     "iopub.execute_input": "2022-02-28T05:37:33.556317Z",
     "iopub.status.busy": "2022-02-28T05:37:33.555206Z",
     "iopub.status.idle": "2022-02-28T05:37:33.562333Z",
     "shell.execute_reply": "2022-02-28T05:37:33.561749Z",
     "shell.execute_reply.started": "2022-02-28T05:31:02.476807Z"
    },
    "papermill": {
     "duration": 0.049799,
     "end_time": "2022-02-28T05:37:33.562490",
     "exception": false,
     "start_time": "2022-02-28T05:37:33.512691",
     "status": "completed"
    },
    "tags": []
   },
   "outputs": [
    {
     "data": {
      "text/plain": [
       "0.837"
      ]
     },
     "execution_count": 14,
     "metadata": {},
     "output_type": "execute_result"
    }
   ],
   "source": [
    "accuracy_score(y_test,y_pred)"
   ]
  },
  {
   "cell_type": "code",
   "execution_count": 15,
   "id": "27aa51fd",
   "metadata": {
    "execution": {
     "iopub.execute_input": "2022-02-28T05:37:33.648909Z",
     "iopub.status.busy": "2022-02-28T05:37:33.647878Z",
     "iopub.status.idle": "2022-02-28T05:37:33.695327Z",
     "shell.execute_reply": "2022-02-28T05:37:33.695871Z",
     "shell.execute_reply.started": "2022-02-28T05:31:02.486460Z"
    },
    "papermill": {
     "duration": 0.095373,
     "end_time": "2022-02-28T05:37:33.696059",
     "exception": false,
     "start_time": "2022-02-28T05:37:33.600686",
     "status": "completed"
    },
    "tags": []
   },
   "outputs": [
    {
     "data": {
      "text/plain": [
       "array([[814,   7,  12,  54,  10,   0,  89,   0,  13,   1],\n",
       "       [  4, 952,   7,  27,   3,   0,   2,   1,   4,   0],\n",
       "       [ 21,   5, 732,  11, 144,   0,  74,   0,  13,   0],\n",
       "       [ 24,  26,  17, 852,  40,   0,  35,   1,   5,   0],\n",
       "       [  0,   1, 114,  41, 777,   1,  60,   0,   6,   0],\n",
       "       [  1,   1,   0,   0,   1, 893,   0,  48,  17,  39],\n",
       "       [143,   6, 130,  49, 116,   0, 524,   0,  32,   0],\n",
       "       [  0,   0,   0,   0,   0,  31,   0, 940,   1,  28],\n",
       "       [  6,   4,   7,   9,   5,   8,  12,   5, 943,   1],\n",
       "       [  0,   0,   0,   0,   0,  17,   3,  37,   0, 943]])"
      ]
     },
     "execution_count": 15,
     "metadata": {},
     "output_type": "execute_result"
    }
   ],
   "source": [
    "confusion_matrix(y_test,y_pred)"
   ]
  },
  {
   "cell_type": "code",
   "execution_count": 16,
   "id": "d1f2403b",
   "metadata": {
    "execution": {
     "iopub.execute_input": "2022-02-28T05:37:33.778816Z",
     "iopub.status.busy": "2022-02-28T05:37:33.777670Z",
     "iopub.status.idle": "2022-02-28T05:37:33.811756Z",
     "shell.execute_reply": "2022-02-28T05:37:33.812488Z",
     "shell.execute_reply.started": "2022-02-28T05:31:02.528832Z"
    },
    "papermill": {
     "duration": 0.078893,
     "end_time": "2022-02-28T05:37:33.812710",
     "exception": false,
     "start_time": "2022-02-28T05:37:33.733817",
     "status": "completed"
    },
    "tags": []
   },
   "outputs": [
    {
     "name": "stdout",
     "output_type": "stream",
     "text": [
      "              precision    recall  f1-score   support\n",
      "\n",
      "           0       0.80      0.81      0.81      1000\n",
      "           1       0.95      0.95      0.95      1000\n",
      "           2       0.72      0.73      0.73      1000\n",
      "           3       0.82      0.85      0.83      1000\n",
      "           4       0.71      0.78      0.74      1000\n",
      "           5       0.94      0.89      0.92      1000\n",
      "           6       0.66      0.52      0.58      1000\n",
      "           7       0.91      0.94      0.93      1000\n",
      "           8       0.91      0.94      0.93      1000\n",
      "           9       0.93      0.94      0.94      1000\n",
      "\n",
      "    accuracy                           0.84     10000\n",
      "   macro avg       0.83      0.84      0.83     10000\n",
      "weighted avg       0.83      0.84      0.83     10000\n",
      "\n"
     ]
    }
   ],
   "source": [
    "print(classification_report(y_test,y_pred,zero_division=0))"
   ]
  }
 ],
 "metadata": {
  "kernelspec": {
   "display_name": "Python 3",
   "language": "python",
   "name": "python3"
  },
  "language_info": {
   "codemirror_mode": {
    "name": "ipython",
    "version": 3
   },
   "file_extension": ".py",
   "mimetype": "text/x-python",
   "name": "python",
   "nbconvert_exporter": "python",
   "pygments_lexer": "ipython3",
   "version": "3.7.12"
  },
  "papermill": {
   "default_parameters": {},
   "duration": 62.496997,
   "end_time": "2022-02-28T05:37:37.068247",
   "environment_variables": {},
   "exception": null,
   "input_path": "__notebook__.ipynb",
   "output_path": "__notebook__.ipynb",
   "parameters": {},
   "start_time": "2022-02-28T05:36:34.571250",
   "version": "2.3.3"
  }
 },
 "nbformat": 4,
 "nbformat_minor": 5
}
