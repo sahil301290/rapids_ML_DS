{
  "cells": [
    {
      "cell_type": "markdown",
      "metadata": {
        "id": "view-in-github",
        "colab_type": "text"
      },
      "source": [
        "<a href=\"https://colab.research.google.com/github/sahil301290/rapids_ML_DS/blob/main/Unit_4_NLP_19_Lesk.ipynb\" target=\"_parent\"><img src=\"https://colab.research.google.com/assets/colab-badge.svg\" alt=\"Open In Colab\"/></a>"
      ]
    },
    {
      "cell_type": "markdown",
      "id": "shaped-norway",
      "metadata": {
        "id": "shaped-norway"
      },
      "source": [
        "## Word-Sense Disambiguation"
      ]
    },
    {
      "cell_type": "code",
      "execution_count": 1,
      "id": "genetic-terror",
      "metadata": {
        "colab": {
          "base_uri": "https://localhost:8080/"
        },
        "id": "genetic-terror",
        "outputId": "c13c3e2b-1186-4789-f86c-996561d00114"
      },
      "outputs": [
        {
          "output_type": "stream",
          "name": "stdout",
          "text": [
            "Requirement already satisfied: nltk in /usr/local/lib/python3.7/dist-packages (3.2.5)\n",
            "Requirement already satisfied: six in /usr/local/lib/python3.7/dist-packages (from nltk) (1.15.0)\n",
            "[nltk_data] Downloading package wordnet to /root/nltk_data...\n",
            "[nltk_data]   Package wordnet is already up-to-date!\n"
          ]
        }
      ],
      "source": [
        "!pip install nltk\n",
        "from nltk import download\n",
        "download('wordnet')\n",
        "from nltk.corpus import wordnet as wn\n",
        "from nltk import wsd"
      ]
    },
    {
      "cell_type": "code",
      "execution_count": 2,
      "id": "adult-bangladesh",
      "metadata": {
        "id": "adult-bangladesh"
      },
      "outputs": [],
      "source": [
        "X = 'The die is cast.'\n",
        "Y = 'Roll the die to get a 6.'\n",
        "Z = 'What is dead may never die.'"
      ]
    },
    {
      "cell_type": "code",
      "execution_count": 3,
      "id": "antique-burlington",
      "metadata": {
        "colab": {
          "base_uri": "https://localhost:8080/"
        },
        "id": "antique-burlington",
        "outputId": "fca6c9ea-0cee-4047-a168-d0c906b99d75"
      },
      "outputs": [
        {
          "output_type": "execute_result",
          "data": {
            "text/plain": [
              "[Synset('die.n.01'),\n",
              " Synset('die.n.02'),\n",
              " Synset('die.n.03'),\n",
              " Synset('die.v.01'),\n",
              " Synset('die.v.02'),\n",
              " Synset('die.v.03'),\n",
              " Synset('fail.v.04'),\n",
              " Synset('die.v.05'),\n",
              " Synset('die.v.06'),\n",
              " Synset('die.v.07'),\n",
              " Synset('die.v.08'),\n",
              " Synset('die.v.09'),\n",
              " Synset('die.v.10'),\n",
              " Synset('die.v.11')]"
            ]
          },
          "metadata": {},
          "execution_count": 3
        }
      ],
      "source": [
        "wn.synsets('die')"
      ]
    },
    {
      "cell_type": "code",
      "execution_count": 4,
      "id": "governing-montana",
      "metadata": {
        "colab": {
          "base_uri": "https://localhost:8080/"
        },
        "id": "governing-montana",
        "outputId": "3f16860d-df1e-429a-b709-609cd3b7caa0"
      },
      "outputs": [
        {
          "output_type": "execute_result",
          "data": {
            "text/plain": [
              "[Synset('die.n.01'), Synset('die.n.02'), Synset('die.n.03')]"
            ]
          },
          "metadata": {},
          "execution_count": 4
        }
      ],
      "source": [
        "wn.synsets('die', pos=wn.NOUN)"
      ]
    },
    {
      "cell_type": "code",
      "execution_count": 5,
      "id": "located-bookmark",
      "metadata": {
        "colab": {
          "base_uri": "https://localhost:8080/"
        },
        "id": "located-bookmark",
        "outputId": "6d021f9c-8212-43a0-f433-b01c2091bcb7"
      },
      "outputs": [
        {
          "output_type": "stream",
          "name": "stdout",
          "text": [
            "a small cube with 1 to 6 spots on the six faces; used in gambling to generate random numbers\n",
            "a device used for shaping metal\n",
            "a cutting tool that is fitted into a diestock and used for cutting male (external) screw threads on screws or bolts or pipes or rods\n"
          ]
        }
      ],
      "source": [
        "for syn in wn.synsets('die', pos=wn.NOUN):\n",
        "    print(syn.definition())"
      ]
    },
    {
      "cell_type": "code",
      "execution_count": 6,
      "id": "after-party",
      "metadata": {
        "colab": {
          "base_uri": "https://localhost:8080/"
        },
        "id": "after-party",
        "outputId": "ab5eb49a-92c7-4696-cfee-a1770e2d1a4e"
      },
      "outputs": [
        {
          "output_type": "stream",
          "name": "stdout",
          "text": [
            "pass from physical life and lose all bodily attributes and functions necessary to sustain life\n",
            "suffer or face the pain of death\n",
            "be brought to or as if to the point of death by an intense emotion such as embarrassment, amusement, or shame\n",
            "stop operating or functioning\n",
            "feel indifferent towards\n",
            "languish as with love or desire\n",
            "cut or shape with a die\n",
            "to be on base at the end of an inning, of a player\n",
            "lose sparkle or bouquet\n",
            "disappear or come to an end\n",
            "suffer spiritual death; be damned (in the religious sense)\n"
          ]
        }
      ],
      "source": [
        "for syn in wn.synsets('die', pos=wn.VERB):\n",
        "    print(syn.definition())"
      ]
    },
    {
      "cell_type": "markdown",
      "id": "bacterial-effect",
      "metadata": {
        "id": "bacterial-effect"
      },
      "source": [
        "## Word-Sense Disambiguation with Lesk Algorithm"
      ]
    },
    {
      "cell_type": "code",
      "execution_count": 7,
      "id": "threaded-tourism",
      "metadata": {
        "colab": {
          "base_uri": "https://localhost:8080/"
        },
        "id": "threaded-tourism",
        "outputId": "e87a732a-4488-48d4-d5e0-221022bf37d0"
      },
      "outputs": [
        {
          "output_type": "stream",
          "name": "stdout",
          "text": [
            "The die is cast.\n"
          ]
        },
        {
          "output_type": "execute_result",
          "data": {
            "text/plain": [
              "Synset('die.v.07')"
            ]
          },
          "metadata": {},
          "execution_count": 7
        }
      ],
      "source": [
        "print(X)\n",
        "wsd.lesk(X.split(), 'die')"
      ]
    },
    {
      "cell_type": "code",
      "execution_count": 8,
      "id": "fluid-cargo",
      "metadata": {
        "colab": {
          "base_uri": "https://localhost:8080/",
          "height": 35
        },
        "id": "fluid-cargo",
        "outputId": "2b472f9f-4d13-4875-ae4c-bc73f85b35f5"
      },
      "outputs": [
        {
          "output_type": "execute_result",
          "data": {
            "text/plain": [
              "'cut or shape with a die'"
            ],
            "application/vnd.google.colaboratory.intrinsic+json": {
              "type": "string"
            }
          },
          "metadata": {},
          "execution_count": 8
        }
      ],
      "source": [
        "_.definition()"
      ]
    },
    {
      "cell_type": "code",
      "execution_count": 9,
      "id": "independent-melissa",
      "metadata": {
        "colab": {
          "base_uri": "https://localhost:8080/",
          "height": 35
        },
        "id": "independent-melissa",
        "outputId": "780bd604-ec09-45c6-ec70-a61f516e4391"
      },
      "outputs": [
        {
          "output_type": "execute_result",
          "data": {
            "text/plain": [
              "'a cutting tool that is fitted into a diestock and used for cutting male (external) screw threads on screws or bolts or pipes or rods'"
            ],
            "application/vnd.google.colaboratory.intrinsic+json": {
              "type": "string"
            }
          },
          "metadata": {},
          "execution_count": 9
        }
      ],
      "source": [
        "wsd.lesk(X.split(), 'die', pos=wn.NOUN).definition()"
      ]
    },
    {
      "cell_type": "code",
      "execution_count": 10,
      "id": "progressive-origin",
      "metadata": {
        "colab": {
          "base_uri": "https://localhost:8080/",
          "height": 52
        },
        "id": "progressive-origin",
        "outputId": "027a0cdc-a94e-4f69-893e-264ded047b6f"
      },
      "outputs": [
        {
          "output_type": "stream",
          "name": "stdout",
          "text": [
            "Roll the die to get a 6.\n"
          ]
        },
        {
          "output_type": "execute_result",
          "data": {
            "text/plain": [
              "'to be on base at the end of an inning, of a player'"
            ],
            "application/vnd.google.colaboratory.intrinsic+json": {
              "type": "string"
            }
          },
          "metadata": {},
          "execution_count": 10
        }
      ],
      "source": [
        "print(Y)\n",
        "wsd.lesk(Y.split(), 'die').definition()"
      ]
    },
    {
      "cell_type": "code",
      "execution_count": 11,
      "id": "proof-while",
      "metadata": {
        "colab": {
          "base_uri": "https://localhost:8080/",
          "height": 35
        },
        "id": "proof-while",
        "outputId": "d65c65f5-f70f-4da5-ee0f-6f561fe223d9"
      },
      "outputs": [
        {
          "output_type": "execute_result",
          "data": {
            "text/plain": [
              "'a small cube with 1 to 6 spots on the six faces; used in gambling to generate random numbers'"
            ],
            "application/vnd.google.colaboratory.intrinsic+json": {
              "type": "string"
            }
          },
          "metadata": {},
          "execution_count": 11
        }
      ],
      "source": [
        "wsd.lesk(Y.split(), 'die', pos=wn.NOUN).definition()"
      ]
    },
    {
      "cell_type": "code",
      "execution_count": 12,
      "id": "middle-object",
      "metadata": {
        "colab": {
          "base_uri": "https://localhost:8080/",
          "height": 52
        },
        "id": "middle-object",
        "outputId": "36158721-21b8-46da-d287-42f718f4da40"
      },
      "outputs": [
        {
          "output_type": "stream",
          "name": "stdout",
          "text": [
            "What is dead may never die.\n"
          ]
        },
        {
          "output_type": "execute_result",
          "data": {
            "text/plain": [
              "'a cutting tool that is fitted into a diestock and used for cutting male (external) screw threads on screws or bolts or pipes or rods'"
            ],
            "application/vnd.google.colaboratory.intrinsic+json": {
              "type": "string"
            }
          },
          "metadata": {},
          "execution_count": 12
        }
      ],
      "source": [
        "print(Z)\n",
        "wsd.lesk(Z.split(), 'die').definition()"
      ]
    },
    {
      "cell_type": "code",
      "execution_count": 13,
      "id": "organizational-joint",
      "metadata": {
        "colab": {
          "base_uri": "https://localhost:8080/",
          "height": 35
        },
        "id": "organizational-joint",
        "outputId": "01ccd8b8-e9c1-47fa-a6c8-7d5c3f43447d"
      },
      "outputs": [
        {
          "output_type": "execute_result",
          "data": {
            "text/plain": [
              "'stop operating or functioning'"
            ],
            "application/vnd.google.colaboratory.intrinsic+json": {
              "type": "string"
            }
          },
          "metadata": {},
          "execution_count": 13
        }
      ],
      "source": [
        "wsd.lesk(Z.split(), 'die', pos=wn.VERB).definition()"
      ]
    },
    {
      "cell_type": "markdown",
      "id": "valuable-harbor",
      "metadata": {
        "id": "valuable-harbor"
      },
      "source": [
        "## Automatic POS Tagging + Lesk with spaCy"
      ]
    },
    {
      "cell_type": "code",
      "execution_count": 14,
      "id": "defensive-trailer",
      "metadata": {
        "colab": {
          "base_uri": "https://localhost:8080/"
        },
        "id": "defensive-trailer",
        "outputId": "4a11c2e3-1c6d-4c9d-d86e-d2f72925bfb3"
      },
      "outputs": [
        {
          "output_type": "stream",
          "name": "stdout",
          "text": [
            "Requirement already satisfied: spacy in /usr/local/lib/python3.7/dist-packages (2.2.4)\n",
            "Requirement already satisfied: plac<1.2.0,>=0.9.6 in /usr/local/lib/python3.7/dist-packages (from spacy) (1.1.3)\n",
            "Requirement already satisfied: catalogue<1.1.0,>=0.0.7 in /usr/local/lib/python3.7/dist-packages (from spacy) (1.0.0)\n",
            "Requirement already satisfied: setuptools in /usr/local/lib/python3.7/dist-packages (from spacy) (57.4.0)\n",
            "Requirement already satisfied: thinc==7.4.0 in /usr/local/lib/python3.7/dist-packages (from spacy) (7.4.0)\n",
            "Requirement already satisfied: tqdm<5.0.0,>=4.38.0 in /usr/local/lib/python3.7/dist-packages (from spacy) (4.64.0)\n",
            "Requirement already satisfied: numpy>=1.15.0 in /usr/local/lib/python3.7/dist-packages (from spacy) (1.21.6)\n",
            "Requirement already satisfied: preshed<3.1.0,>=3.0.2 in /usr/local/lib/python3.7/dist-packages (from spacy) (3.0.6)\n",
            "Requirement already satisfied: requests<3.0.0,>=2.13.0 in /usr/local/lib/python3.7/dist-packages (from spacy) (2.23.0)\n",
            "Requirement already satisfied: cymem<2.1.0,>=2.0.2 in /usr/local/lib/python3.7/dist-packages (from spacy) (2.0.6)\n",
            "Requirement already satisfied: wasabi<1.1.0,>=0.4.0 in /usr/local/lib/python3.7/dist-packages (from spacy) (0.9.1)\n",
            "Requirement already satisfied: blis<0.5.0,>=0.4.0 in /usr/local/lib/python3.7/dist-packages (from spacy) (0.4.1)\n",
            "Requirement already satisfied: murmurhash<1.1.0,>=0.28.0 in /usr/local/lib/python3.7/dist-packages (from spacy) (1.0.7)\n",
            "Requirement already satisfied: srsly<1.1.0,>=1.0.2 in /usr/local/lib/python3.7/dist-packages (from spacy) (1.0.5)\n",
            "Requirement already satisfied: importlib-metadata>=0.20 in /usr/local/lib/python3.7/dist-packages (from catalogue<1.1.0,>=0.0.7->spacy) (4.11.3)\n",
            "Requirement already satisfied: typing-extensions>=3.6.4 in /usr/local/lib/python3.7/dist-packages (from importlib-metadata>=0.20->catalogue<1.1.0,>=0.0.7->spacy) (4.2.0)\n",
            "Requirement already satisfied: zipp>=0.5 in /usr/local/lib/python3.7/dist-packages (from importlib-metadata>=0.20->catalogue<1.1.0,>=0.0.7->spacy) (3.8.0)\n",
            "Requirement already satisfied: urllib3!=1.25.0,!=1.25.1,<1.26,>=1.21.1 in /usr/local/lib/python3.7/dist-packages (from requests<3.0.0,>=2.13.0->spacy) (1.24.3)\n",
            "Requirement already satisfied: chardet<4,>=3.0.2 in /usr/local/lib/python3.7/dist-packages (from requests<3.0.0,>=2.13.0->spacy) (3.0.4)\n",
            "Requirement already satisfied: idna<3,>=2.5 in /usr/local/lib/python3.7/dist-packages (from requests<3.0.0,>=2.13.0->spacy) (2.10)\n",
            "Requirement already satisfied: certifi>=2017.4.17 in /usr/local/lib/python3.7/dist-packages (from requests<3.0.0,>=2.13.0->spacy) (2021.10.8)\n"
          ]
        }
      ],
      "source": [
        "!pip install spacy"
      ]
    },
    {
      "cell_type": "code",
      "execution_count": 15,
      "id": "cellular-reflection",
      "metadata": {
        "id": "cellular-reflection"
      },
      "outputs": [],
      "source": [
        "from spacy.cli import download\n",
        "from spacy import load\n",
        "# download('en_core_web_sm')\n",
        "nlp = load('en_core_web_sm')"
      ]
    },
    {
      "cell_type": "code",
      "execution_count": 16,
      "id": "radical-melbourne",
      "metadata": {
        "id": "radical-melbourne"
      },
      "outputs": [],
      "source": [
        "import warnings\n",
        "\n",
        "POS_MAP = {\n",
        "    'VERB': wn.VERB,\n",
        "    'NOUN': wn.NOUN,\n",
        "    'PROPN': wn.NOUN\n",
        "}\n",
        "\n",
        "\n",
        "def lesk(doc, word):\n",
        "    found = False\n",
        "    for token in doc:\n",
        "        if token.text == word:\n",
        "            word = token\n",
        "            found = True\n",
        "            break\n",
        "    if not found:\n",
        "        raise ValueError(f'Word \\\"{word}\\\" does not appear in the document: {doc.text}.')\n",
        "    pos = POS_MAP.get(word.pos_, False)\n",
        "    if not pos:\n",
        "        warnings.warn(f'POS tag for {word.text} not found in wordnet. Falling back to default Lesk behaviour.')\n",
        "    args = [c.text for c in doc], word.text\n",
        "    kwargs = dict(pos=pos)\n",
        "    return wsd.lesk(*args, **kwargs)"
      ]
    },
    {
      "cell_type": "code",
      "execution_count": 17,
      "id": "monetary-disaster",
      "metadata": {
        "id": "monetary-disaster"
      },
      "outputs": [],
      "source": [
        "doc = nlp('Roll the die to get a 6.')"
      ]
    },
    {
      "cell_type": "code",
      "execution_count": 18,
      "id": "surgical-chrome",
      "metadata": {
        "colab": {
          "base_uri": "https://localhost:8080/"
        },
        "id": "surgical-chrome",
        "outputId": "8a3677e1-2008-4338-d705-998a4164e380"
      },
      "outputs": [
        {
          "output_type": "execute_result",
          "data": {
            "text/plain": [
              "Synset('die.n.01')"
            ]
          },
          "metadata": {},
          "execution_count": 18
        }
      ],
      "source": [
        "lesk(doc, 'die')"
      ]
    },
    {
      "cell_type": "code",
      "execution_count": 19,
      "id": "cordless-bankruptcy",
      "metadata": {
        "colab": {
          "base_uri": "https://localhost:8080/",
          "height": 35
        },
        "id": "cordless-bankruptcy",
        "outputId": "e8f18870-0286-4e14-a1dd-74627c2cf1db"
      },
      "outputs": [
        {
          "output_type": "execute_result",
          "data": {
            "text/plain": [
              "'a small cube with 1 to 6 spots on the six faces; used in gambling to generate random numbers'"
            ],
            "application/vnd.google.colaboratory.intrinsic+json": {
              "type": "string"
            }
          },
          "metadata": {},
          "execution_count": 19
        }
      ],
      "source": [
        "lesk(doc, 'die').definition()"
      ]
    },
    {
      "cell_type": "code",
      "execution_count": 20,
      "id": "excess-consultancy",
      "metadata": {
        "colab": {
          "base_uri": "https://localhost:8080/",
          "height": 35
        },
        "id": "excess-consultancy",
        "outputId": "b451397f-8955-4aa4-d382-ca595bfe7126"
      },
      "outputs": [
        {
          "output_type": "execute_result",
          "data": {
            "text/plain": [
              "\"a widely used search engine that uses text-matching techniques to find web pages that are important and relevant to a user's search\""
            ],
            "application/vnd.google.colaboratory.intrinsic+json": {
              "type": "string"
            }
          },
          "metadata": {},
          "execution_count": 20
        }
      ],
      "source": [
        "lesk(nlp('I work at google.'), 'google').definition()"
      ]
    },
    {
      "cell_type": "code",
      "execution_count": 21,
      "id": "infectious-binary",
      "metadata": {
        "colab": {
          "base_uri": "https://localhost:8080/",
          "height": 35
        },
        "id": "infectious-binary",
        "outputId": "36d8385d-3a66-43ae-c552-c0cebf123409"
      },
      "outputs": [
        {
          "output_type": "execute_result",
          "data": {
            "text/plain": [
              "'search the internet (for information) using the Google search engine'"
            ],
            "application/vnd.google.colaboratory.intrinsic+json": {
              "type": "string"
            }
          },
          "metadata": {},
          "execution_count": 21
        }
      ],
      "source": [
        "lesk(nlp('I will google it.'), 'google').definition()"
      ]
    }
  ],
  "metadata": {
    "kernelspec": {
      "display_name": "Python 3",
      "language": "python",
      "name": "python3"
    },
    "language_info": {
      "codemirror_mode": {
        "name": "ipython",
        "version": 3
      },
      "file_extension": ".py",
      "mimetype": "text/x-python",
      "name": "python",
      "nbconvert_exporter": "python",
      "pygments_lexer": "ipython3",
      "version": "3.8.5"
    },
    "colab": {
      "name": "Unit_4_NLP_19_Lesk.ipynb",
      "provenance": [],
      "include_colab_link": true
    }
  },
  "nbformat": 4,
  "nbformat_minor": 5
}