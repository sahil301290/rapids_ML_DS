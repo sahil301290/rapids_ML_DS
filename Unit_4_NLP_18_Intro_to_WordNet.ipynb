{
  "cells": [
    {
      "cell_type": "markdown",
      "metadata": {
        "id": "view-in-github",
        "colab_type": "text"
      },
      "source": [
        "<a href=\"https://colab.research.google.com/github/sahil301290/rapids_ML_DS/blob/main/Unit_4_NLP_18_Intro_to_WordNet.ipynb\" target=\"_parent\"><img src=\"https://colab.research.google.com/assets/colab-badge.svg\" alt=\"Open In Colab\"/></a>"
      ]
    },
    {
      "cell_type": "markdown",
      "id": "anonymous-canadian",
      "metadata": {
        "id": "anonymous-canadian"
      },
      "source": [
        "## [WordNet®](https://wordnet.princeton.edu/) Tutorial\n",
        "\n",
        "### Navigating Wornet Relationships"
      ]
    },
    {
      "cell_type": "code",
      "execution_count": 1,
      "id": "widespread-traveler",
      "metadata": {
        "colab": {
          "base_uri": "https://localhost:8080/"
        },
        "id": "widespread-traveler",
        "outputId": "6a0bb8cf-fa79-4eb6-e388-3713627c28d9"
      },
      "outputs": [
        {
          "output_type": "stream",
          "name": "stdout",
          "text": [
            "Requirement already satisfied: nltk in /usr/local/lib/python3.7/dist-packages (3.2.5)\n",
            "Requirement already satisfied: six in /usr/local/lib/python3.7/dist-packages (from nltk) (1.15.0)\n"
          ]
        }
      ],
      "source": [
        "!pip install nltk"
      ]
    },
    {
      "cell_type": "code",
      "execution_count": 2,
      "id": "vocational-clearance",
      "metadata": {
        "id": "vocational-clearance"
      },
      "outputs": [],
      "source": [
        "from nltk import download"
      ]
    },
    {
      "cell_type": "code",
      "execution_count": 3,
      "id": "sensitive-albany",
      "metadata": {
        "colab": {
          "base_uri": "https://localhost:8080/"
        },
        "id": "sensitive-albany",
        "outputId": "f12fd012-43a9-4260-c8b3-d15926d117f3"
      },
      "outputs": [
        {
          "output_type": "stream",
          "name": "stdout",
          "text": [
            "[nltk_data] Downloading package wordnet to /root/nltk_data...\n",
            "[nltk_data]   Unzipping corpora/wordnet.zip.\n"
          ]
        },
        {
          "output_type": "execute_result",
          "data": {
            "text/plain": [
              "True"
            ]
          },
          "metadata": {},
          "execution_count": 3
        }
      ],
      "source": [
        "download('wordnet')"
      ]
    },
    {
      "cell_type": "code",
      "execution_count": 4,
      "id": "weird-memory",
      "metadata": {
        "id": "weird-memory"
      },
      "outputs": [],
      "source": [
        "from nltk.corpus import wordnet"
      ]
    },
    {
      "cell_type": "code",
      "execution_count": 5,
      "id": "developing-failure",
      "metadata": {
        "colab": {
          "base_uri": "https://localhost:8080/"
        },
        "id": "developing-failure",
        "outputId": "49044237-55e7-4837-b499-1c0ff030e18b"
      },
      "outputs": [
        {
          "output_type": "execute_result",
          "data": {
            "text/plain": [
              "[Synset('tractor.n.01'), Synset('tractor.n.02')]"
            ]
          },
          "metadata": {},
          "execution_count": 5
        }
      ],
      "source": [
        "# Synsets\n",
        "\n",
        "tractor = wordnet.synsets('tractor')\n",
        "tractor"
      ]
    },
    {
      "cell_type": "code",
      "execution_count": 6,
      "id": "seasonal-hungary",
      "metadata": {
        "colab": {
          "base_uri": "https://localhost:8080/"
        },
        "id": "seasonal-hungary",
        "outputId": "852709f4-9399-4cdf-d0f8-451749ba34b5"
      },
      "outputs": [
        {
          "output_type": "execute_result",
          "data": {
            "text/plain": [
              "['a wheeled vehicle with large wheels; used in farming and other applications',\n",
              " 'a truck that has a cab but no body; used for pulling large trailers or vans']"
            ]
          },
          "metadata": {},
          "execution_count": 6
        }
      ],
      "source": [
        "# Definitions of senses\n",
        "\n",
        "[syn.definition() for syn in tractor]"
      ]
    },
    {
      "cell_type": "code",
      "execution_count": 7,
      "id": "active-norwegian",
      "metadata": {
        "colab": {
          "base_uri": "https://localhost:8080/"
        },
        "id": "active-norwegian",
        "outputId": "3b7fec88-0070-4afe-d360-9ad67ff9ab0a"
      },
      "outputs": [
        {
          "output_type": "execute_result",
          "data": {
            "text/plain": [
              "[Synset('self-propelled_vehicle.n.01')]"
            ]
          },
          "metadata": {},
          "execution_count": 7
        }
      ],
      "source": [
        "# Hypernyms: Relation between a concept and its superordinate\n",
        "\n",
        "tractor = wordnet.synset('tractor.n.01')\n",
        "tractor.hypernyms()"
      ]
    },
    {
      "cell_type": "code",
      "execution_count": 8,
      "id": "arctic-customer",
      "metadata": {
        "colab": {
          "base_uri": "https://localhost:8080/"
        },
        "id": "arctic-customer",
        "outputId": "886dcaee-6de7-4fcb-fd5f-0cf0e2005222"
      },
      "outputs": [
        {
          "output_type": "execute_result",
          "data": {
            "text/plain": [
              "[Synset('wheeled_vehicle.n.01')]"
            ]
          },
          "metadata": {},
          "execution_count": 8
        }
      ],
      "source": [
        "self_propelled_vehicle = wordnet.synset('self-propelled_vehicle.n.01')\n",
        "self_propelled_vehicle.hypernyms()"
      ]
    },
    {
      "cell_type": "code",
      "execution_count": 9,
      "id": "invalid-lease",
      "metadata": {
        "colab": {
          "base_uri": "https://localhost:8080/"
        },
        "id": "invalid-lease",
        "outputId": "d3d8f57d-8865-41d2-d9b2-16bf8c7d6c16"
      },
      "outputs": [
        {
          "output_type": "execute_result",
          "data": {
            "text/plain": [
              "[Synset('axle.n.01'),\n",
              " Synset('brake.n.01'),\n",
              " Synset('splasher.n.01'),\n",
              " Synset('wheel.n.01')]"
            ]
          },
          "metadata": {},
          "execution_count": 9
        }
      ],
      "source": [
        "# Meronyms: Relation between a part and its whole\n",
        "\n",
        "wheeled_vehicle = wordnet.synset('wheeled_vehicle.n.01')\n",
        "wheeled_vehicle.part_meronyms()"
      ]
    },
    {
      "cell_type": "code",
      "execution_count": 10,
      "id": "brown-weekend",
      "metadata": {
        "colab": {
          "base_uri": "https://localhost:8080/"
        },
        "id": "brown-weekend",
        "outputId": "b4f8a9dd-961b-43a5-b8ae-3bb45d7e1066"
      },
      "outputs": [
        {
          "output_type": "execute_result",
          "data": {
            "text/plain": [
              "[Synset('baby_buggy.n.01'),\n",
              " Synset('bicycle.n.01'),\n",
              " Synset('boneshaker.n.01'),\n",
              " Synset('car.n.02'),\n",
              " Synset('handcart.n.01'),\n",
              " Synset('horse-drawn_vehicle.n.01'),\n",
              " Synset('motor_scooter.n.01'),\n",
              " Synset('rolling_stock.n.01'),\n",
              " Synset('scooter.n.02'),\n",
              " Synset('self-propelled_vehicle.n.01'),\n",
              " Synset('skateboard.n.01'),\n",
              " Synset('trailer.n.04'),\n",
              " Synset('tricycle.n.01'),\n",
              " Synset('unicycle.n.01'),\n",
              " Synset('wagon.n.01'),\n",
              " Synset('wagon.n.04'),\n",
              " Synset('welcome_wagon.n.01')]"
            ]
          },
          "metadata": {},
          "execution_count": 10
        }
      ],
      "source": [
        "# Hyponyms: Relation between a concept and its subordinate\n",
        "\n",
        "wheeled_vehicle.hyponyms()"
      ]
    },
    {
      "cell_type": "code",
      "execution_count": 11,
      "id": "theoretical-bargain",
      "metadata": {
        "colab": {
          "base_uri": "https://localhost:8080/"
        },
        "id": "theoretical-bargain",
        "outputId": "c869e293-413d-4995-a581-79a7512fc4ed"
      },
      "outputs": [
        {
          "output_type": "execute_result",
          "data": {
            "text/plain": [
              "[Synset('wheeled_vehicle.n.01')]"
            ]
          },
          "metadata": {},
          "execution_count": 11
        }
      ],
      "source": [
        "# Holonyms: Relation between whole and its parts\n",
        "\n",
        "axle = wordnet.synset('axle.n.01')\n",
        "axle.part_holonyms()"
      ]
    },
    {
      "cell_type": "code",
      "execution_count": 12,
      "id": "identical-shoulder",
      "metadata": {
        "colab": {
          "base_uri": "https://localhost:8080/"
        },
        "id": "identical-shoulder",
        "outputId": "383f48cf-d35f-4c98-baf6-cf606cd33a0b"
      },
      "outputs": [
        {
          "output_type": "execute_result",
          "data": {
            "text/plain": [
              "[Synset('armored_vehicle.n.01'),\n",
              " Synset('carrier.n.02'),\n",
              " Synset('forklift.n.01'),\n",
              " Synset('locomotive.n.01'),\n",
              " Synset('motor_vehicle.n.01'),\n",
              " Synset('personnel_carrier.n.01'),\n",
              " Synset('reconnaissance_vehicle.n.01'),\n",
              " Synset('recreational_vehicle.n.01'),\n",
              " Synset('streetcar.n.01'),\n",
              " Synset('tracked_vehicle.n.01'),\n",
              " Synset('tractor.n.01'),\n",
              " Synset('weapons_carrier.n.01')]"
            ]
          },
          "metadata": {},
          "execution_count": 12
        }
      ],
      "source": [
        "self_propelled_vehicle.hyponyms()"
      ]
    },
    {
      "cell_type": "code",
      "execution_count": 13,
      "id": "quick-strengthening",
      "metadata": {
        "colab": {
          "base_uri": "https://localhost:8080/"
        },
        "id": "quick-strengthening",
        "outputId": "fbb5f51b-de6c-45c2-a0a8-3d42709b4760"
      },
      "outputs": [
        {
          "output_type": "execute_result",
          "data": {
            "text/plain": [
              "[Synset('amphibian.n.01'),\n",
              " Synset('bloodmobile.n.01'),\n",
              " Synset('car.n.01'),\n",
              " Synset('doodlebug.n.01'),\n",
              " Synset('four-wheel_drive.n.01'),\n",
              " Synset('go-kart.n.01'),\n",
              " Synset('golfcart.n.01'),\n",
              " Synset('hearse.n.01'),\n",
              " Synset('motorcycle.n.01'),\n",
              " Synset('snowplow.n.01'),\n",
              " Synset('truck.n.01')]"
            ]
          },
          "metadata": {},
          "execution_count": 13
        }
      ],
      "source": [
        "motor_vehicle = wordnet.synset('motor_vehicle.n.01')\n",
        "motor_vehicle.hyponyms()"
      ]
    },
    {
      "cell_type": "code",
      "execution_count": 14,
      "id": "egyptian-appliance",
      "metadata": {
        "colab": {
          "base_uri": "https://localhost:8080/"
        },
        "id": "egyptian-appliance",
        "outputId": "3731eb3f-9dad-4130-e624-8cd9c7d7a21c"
      },
      "outputs": [
        {
          "output_type": "execute_result",
          "data": {
            "text/plain": [
              "[Synset('accelerator.n.01'),\n",
              " Synset('air_bag.n.01'),\n",
              " Synset('auto_accessory.n.01'),\n",
              " Synset('automobile_engine.n.01'),\n",
              " Synset('automobile_horn.n.01'),\n",
              " Synset('buffer.n.06'),\n",
              " Synset('bumper.n.02'),\n",
              " Synset('car_door.n.01'),\n",
              " Synset('car_mirror.n.01'),\n",
              " Synset('car_seat.n.01'),\n",
              " Synset('car_window.n.01'),\n",
              " Synset('fender.n.01'),\n",
              " Synset('first_gear.n.01'),\n",
              " Synset('floorboard.n.02'),\n",
              " Synset('gasoline_engine.n.01'),\n",
              " Synset('glove_compartment.n.01'),\n",
              " Synset('grille.n.02'),\n",
              " Synset('high_gear.n.01'),\n",
              " Synset('hood.n.09'),\n",
              " Synset('luggage_compartment.n.01'),\n",
              " Synset('rear_window.n.01'),\n",
              " Synset('reverse.n.02'),\n",
              " Synset('roof.n.02'),\n",
              " Synset('running_board.n.01'),\n",
              " Synset('stabilizer_bar.n.01'),\n",
              " Synset('sunroof.n.01'),\n",
              " Synset('tail_fin.n.02'),\n",
              " Synset('third_gear.n.01'),\n",
              " Synset('window.n.02')]"
            ]
          },
          "metadata": {},
          "execution_count": 14
        }
      ],
      "source": [
        "car = wordnet.synset('car.n.01')\n",
        "car.part_meronyms()"
      ]
    }
  ],
  "metadata": {
    "kernelspec": {
      "display_name": "Python 3",
      "language": "python",
      "name": "python3"
    },
    "language_info": {
      "codemirror_mode": {
        "name": "ipython",
        "version": 3
      },
      "file_extension": ".py",
      "mimetype": "text/x-python",
      "name": "python",
      "nbconvert_exporter": "python",
      "pygments_lexer": "ipython3",
      "version": "3.8.5"
    },
    "colab": {
      "name": "Unit_4_NLP_18_Intro-to-WordNet.ipynb",
      "provenance": [],
      "include_colab_link": true
    }
  },
  "nbformat": 4,
  "nbformat_minor": 5
}