{
 "cells": [
  {
   "cell_type": "code",
   "execution_count": 1,
   "id": "8a46b939",
   "metadata": {
    "_cell_guid": "b1076dfc-b9ad-4769-8c92-a6c4dae69d19",
    "_uuid": "8f2839f25d086af736a60e9eeb907d3b93b6e0e5",
    "execution": {
     "iopub.execute_input": "2022-02-21T01:05:39.405008Z",
     "iopub.status.busy": "2022-02-21T01:05:39.398013Z",
     "iopub.status.idle": "2022-02-21T01:05:45.417881Z",
     "shell.execute_reply": "2022-02-21T01:05:45.418319Z",
     "shell.execute_reply.started": "2022-02-21T00:59:37.763674Z"
    },
    "papermill": {
     "duration": 6.04181,
     "end_time": "2022-02-21T01:05:45.418576",
     "exception": false,
     "start_time": "2022-02-21T01:05:39.376766",
     "status": "completed"
    },
    "tags": []
   },
   "outputs": [
    {
     "data": {
      "text/html": [
       "<div>\n",
       "<style scoped>\n",
       "    .dataframe tbody tr th:only-of-type {\n",
       "        vertical-align: middle;\n",
       "    }\n",
       "\n",
       "    .dataframe tbody tr th {\n",
       "        vertical-align: top;\n",
       "    }\n",
       "\n",
       "    .dataframe thead th {\n",
       "        text-align: right;\n",
       "    }\n",
       "</style>\n",
       "<table border=\"1\" class=\"dataframe\">\n",
       "  <thead>\n",
       "    <tr style=\"text-align: right;\">\n",
       "      <th></th>\n",
       "      <th>CRIM</th>\n",
       "      <th>ZN</th>\n",
       "      <th>INDUS</th>\n",
       "      <th>CHAS</th>\n",
       "      <th>NOX</th>\n",
       "      <th>RM</th>\n",
       "      <th>AGE</th>\n",
       "      <th>DIS</th>\n",
       "      <th>RAD</th>\n",
       "      <th>TAX</th>\n",
       "      <th>PTRATIO</th>\n",
       "      <th>B</th>\n",
       "      <th>LSTAT</th>\n",
       "      <th>target</th>\n",
       "    </tr>\n",
       "  </thead>\n",
       "  <tbody>\n",
       "    <tr>\n",
       "      <th>0</th>\n",
       "      <td>0.00632</td>\n",
       "      <td>18.0</td>\n",
       "      <td>2.31</td>\n",
       "      <td>0.0</td>\n",
       "      <td>0.538</td>\n",
       "      <td>6.575</td>\n",
       "      <td>65.2</td>\n",
       "      <td>4.0900</td>\n",
       "      <td>1.0</td>\n",
       "      <td>296.0</td>\n",
       "      <td>15.3</td>\n",
       "      <td>396.90</td>\n",
       "      <td>4.98</td>\n",
       "      <td>24.0</td>\n",
       "    </tr>\n",
       "    <tr>\n",
       "      <th>1</th>\n",
       "      <td>0.02731</td>\n",
       "      <td>0.0</td>\n",
       "      <td>7.07</td>\n",
       "      <td>0.0</td>\n",
       "      <td>0.469</td>\n",
       "      <td>6.421</td>\n",
       "      <td>78.9</td>\n",
       "      <td>4.9671</td>\n",
       "      <td>2.0</td>\n",
       "      <td>242.0</td>\n",
       "      <td>17.8</td>\n",
       "      <td>396.90</td>\n",
       "      <td>9.14</td>\n",
       "      <td>21.6</td>\n",
       "    </tr>\n",
       "    <tr>\n",
       "      <th>2</th>\n",
       "      <td>0.02729</td>\n",
       "      <td>0.0</td>\n",
       "      <td>7.07</td>\n",
       "      <td>0.0</td>\n",
       "      <td>0.469</td>\n",
       "      <td>7.185</td>\n",
       "      <td>61.1</td>\n",
       "      <td>4.9671</td>\n",
       "      <td>2.0</td>\n",
       "      <td>242.0</td>\n",
       "      <td>17.8</td>\n",
       "      <td>392.83</td>\n",
       "      <td>4.03</td>\n",
       "      <td>34.7</td>\n",
       "    </tr>\n",
       "    <tr>\n",
       "      <th>3</th>\n",
       "      <td>0.03237</td>\n",
       "      <td>0.0</td>\n",
       "      <td>2.18</td>\n",
       "      <td>0.0</td>\n",
       "      <td>0.458</td>\n",
       "      <td>6.998</td>\n",
       "      <td>45.8</td>\n",
       "      <td>6.0622</td>\n",
       "      <td>3.0</td>\n",
       "      <td>222.0</td>\n",
       "      <td>18.7</td>\n",
       "      <td>394.63</td>\n",
       "      <td>2.94</td>\n",
       "      <td>33.4</td>\n",
       "    </tr>\n",
       "    <tr>\n",
       "      <th>4</th>\n",
       "      <td>0.06905</td>\n",
       "      <td>0.0</td>\n",
       "      <td>2.18</td>\n",
       "      <td>0.0</td>\n",
       "      <td>0.458</td>\n",
       "      <td>7.147</td>\n",
       "      <td>54.2</td>\n",
       "      <td>6.0622</td>\n",
       "      <td>3.0</td>\n",
       "      <td>222.0</td>\n",
       "      <td>18.7</td>\n",
       "      <td>396.90</td>\n",
       "      <td>5.33</td>\n",
       "      <td>36.2</td>\n",
       "    </tr>\n",
       "  </tbody>\n",
       "</table>\n",
       "</div>"
      ],
      "text/plain": [
       "      CRIM    ZN  INDUS  CHAS    NOX     RM   AGE     DIS  RAD    TAX  \\\n",
       "0  0.00632  18.0   2.31   0.0  0.538  6.575  65.2  4.0900  1.0  296.0   \n",
       "1  0.02731   0.0   7.07   0.0  0.469  6.421  78.9  4.9671  2.0  242.0   \n",
       "2  0.02729   0.0   7.07   0.0  0.469  7.185  61.1  4.9671  2.0  242.0   \n",
       "3  0.03237   0.0   2.18   0.0  0.458  6.998  45.8  6.0622  3.0  222.0   \n",
       "4  0.06905   0.0   2.18   0.0  0.458  7.147  54.2  6.0622  3.0  222.0   \n",
       "\n",
       "   PTRATIO       B  LSTAT  target  \n",
       "0     15.3  396.90   4.98    24.0  \n",
       "1     17.8  396.90   9.14    21.6  \n",
       "2     17.8  392.83   4.03    34.7  \n",
       "3     18.7  394.63   2.94    33.4  \n",
       "4     18.7  396.90   5.33    36.2  "
      ]
     },
     "execution_count": 1,
     "metadata": {},
     "output_type": "execute_result"
    }
   ],
   "source": [
    "import cudf as pd\n",
    "from sklearn.datasets import load_boston\n",
    "boston = load_boston()\n",
    "df = pd.DataFrame(data=boston.data, columns = ['CRIM', 'ZN', 'INDUS', 'CHAS', 'NOX', 'RM', 'AGE', 'DIS', 'RAD',\n",
    "        'TAX', 'PTRATIO', 'B', 'LSTAT'])\n",
    "df['target'] = boston.target\n",
    "df.head(5)"
   ]
  },
  {
   "cell_type": "code",
   "execution_count": 2,
   "id": "de4f1d73",
   "metadata": {
    "execution": {
     "iopub.execute_input": "2022-02-21T01:05:45.457837Z",
     "iopub.status.busy": "2022-02-21T01:05:45.457019Z",
     "iopub.status.idle": "2022-02-21T01:05:45.707107Z",
     "shell.execute_reply": "2022-02-21T01:05:45.706542Z",
     "shell.execute_reply.started": "2022-02-21T00:59:40.649282Z"
    },
    "papermill": {
     "duration": 0.272836,
     "end_time": "2022-02-21T01:05:45.707246",
     "exception": false,
     "start_time": "2022-02-21T01:05:45.434410",
     "status": "completed"
    },
    "tags": []
   },
   "outputs": [],
   "source": [
    "import cupy as np\n",
    "X=df.iloc[:,0:13]\n",
    "Y=df.iloc[:,13]\n",
    "Y=np.array(Y)\n",
    "Y=Y.reshape(-1,1)"
   ]
  },
  {
   "cell_type": "code",
   "execution_count": 3,
   "id": "f543c4b0",
   "metadata": {
    "execution": {
     "iopub.execute_input": "2022-02-21T01:05:45.744881Z",
     "iopub.status.busy": "2022-02-21T01:05:45.743963Z",
     "iopub.status.idle": "2022-02-21T01:05:45.749158Z",
     "shell.execute_reply": "2022-02-21T01:05:45.748659Z",
     "shell.execute_reply.started": "2022-02-21T00:59:40.663076Z"
    },
    "papermill": {
     "duration": 0.026029,
     "end_time": "2022-02-21T01:05:45.749280",
     "exception": false,
     "start_time": "2022-02-21T01:05:45.723251",
     "status": "completed"
    },
    "tags": []
   },
   "outputs": [],
   "source": [
    "from sklearn.preprocessing import StandardScaler\n",
    "scaler=StandardScaler()\n",
    "X_scaled=scaler.fit_transform(X.as_matrix())"
   ]
  },
  {
   "cell_type": "code",
   "execution_count": 4,
   "id": "2997887a",
   "metadata": {
    "execution": {
     "iopub.execute_input": "2022-02-21T01:05:45.783972Z",
     "iopub.status.busy": "2022-02-21T01:05:45.783171Z",
     "iopub.status.idle": "2022-02-21T01:05:45.789397Z",
     "shell.execute_reply": "2022-02-21T01:05:45.789815Z",
     "shell.execute_reply.started": "2022-02-21T00:59:40.679191Z"
    },
    "papermill": {
     "duration": 0.02481,
     "end_time": "2022-02-21T01:05:45.789960",
     "exception": false,
     "start_time": "2022-02-21T01:05:45.765150",
     "status": "completed"
    },
    "tags": []
   },
   "outputs": [
    {
     "data": {
      "text/plain": [
       "array([[-0.41978194,  0.28482986, -1.2879095 , ..., -1.45900038,\n",
       "         0.44105193, -1.0755623 ],\n",
       "       [-0.41733926, -0.48772236, -0.59338101, ..., -0.30309415,\n",
       "         0.44105193, -0.49243937],\n",
       "       [-0.41734159, -0.48772236, -0.59338101, ..., -0.30309415,\n",
       "         0.39642699, -1.2087274 ],\n",
       "       ...,\n",
       "       [-0.41344658, -0.48772236,  0.11573841, ...,  1.17646583,\n",
       "         0.44105193, -0.98304761],\n",
       "       [-0.40776407, -0.48772236,  0.11573841, ...,  1.17646583,\n",
       "         0.4032249 , -0.86530163],\n",
       "       [-0.41500016, -0.48772236,  0.11573841, ...,  1.17646583,\n",
       "         0.44105193, -0.66905833]])"
      ]
     },
     "execution_count": 4,
     "metadata": {},
     "output_type": "execute_result"
    }
   ],
   "source": [
    "X_scaled"
   ]
  },
  {
   "cell_type": "code",
   "execution_count": 5,
   "id": "21ed32b0",
   "metadata": {
    "execution": {
     "iopub.execute_input": "2022-02-21T01:05:45.825805Z",
     "iopub.status.busy": "2022-02-21T01:05:45.824919Z",
     "iopub.status.idle": "2022-02-21T01:05:46.104939Z",
     "shell.execute_reply": "2022-02-21T01:05:46.104474Z",
     "shell.execute_reply.started": "2022-02-21T00:59:40.691632Z"
    },
    "papermill": {
     "duration": 0.298511,
     "end_time": "2022-02-21T01:05:46.105091",
     "exception": false,
     "start_time": "2022-02-21T01:05:45.806580",
     "status": "completed"
    },
    "tags": []
   },
   "outputs": [],
   "source": [
    "from sklearn.model_selection import train_test_split\n",
    "X_train, X_test, y_train, y_test = train_test_split(X_scaled, Y, test_size=0.3, random_state=42)"
   ]
  },
  {
   "cell_type": "code",
   "execution_count": 6,
   "id": "c299c940",
   "metadata": {
    "execution": {
     "iopub.execute_input": "2022-02-21T01:05:46.141701Z",
     "iopub.status.busy": "2022-02-21T01:05:46.140993Z",
     "iopub.status.idle": "2022-02-21T01:05:46.144157Z",
     "shell.execute_reply": "2022-02-21T01:05:46.144845Z",
     "shell.execute_reply.started": "2022-02-21T00:59:40.702217Z"
    },
    "papermill": {
     "duration": 0.024286,
     "end_time": "2022-02-21T01:05:46.145022",
     "exception": false,
     "start_time": "2022-02-21T01:05:46.120736",
     "status": "completed"
    },
    "tags": []
   },
   "outputs": [
    {
     "name": "stdout",
     "output_type": "stream",
     "text": [
      "(354, 13)\n",
      "(152, 13)\n",
      "(354, 1)\n",
      "(152, 1)\n"
     ]
    }
   ],
   "source": [
    "print(X_train.shape)\n",
    "print(X_test.shape)\n",
    "print(y_train.shape)\n",
    "print(y_test.shape)"
   ]
  },
  {
   "cell_type": "code",
   "execution_count": 7,
   "id": "cb859d58",
   "metadata": {
    "execution": {
     "iopub.execute_input": "2022-02-21T01:05:46.181389Z",
     "iopub.status.busy": "2022-02-21T01:05:46.180608Z",
     "iopub.status.idle": "2022-02-21T01:05:46.647063Z",
     "shell.execute_reply": "2022-02-21T01:05:46.646127Z",
     "shell.execute_reply.started": "2022-02-21T00:59:40.714149Z"
    },
    "papermill": {
     "duration": 0.485886,
     "end_time": "2022-02-21T01:05:46.647211",
     "exception": false,
     "start_time": "2022-02-21T01:05:46.161325",
     "status": "completed"
    },
    "tags": []
   },
   "outputs": [],
   "source": [
    "import cuml\n",
    "from cuml import Ridge"
   ]
  },
  {
   "cell_type": "code",
   "execution_count": 8,
   "id": "d902b391",
   "metadata": {
    "execution": {
     "iopub.execute_input": "2022-02-21T01:05:46.685433Z",
     "iopub.status.busy": "2022-02-21T01:05:46.684832Z",
     "iopub.status.idle": "2022-02-21T01:05:48.379456Z",
     "shell.execute_reply": "2022-02-21T01:05:48.378877Z",
     "shell.execute_reply.started": "2022-02-21T00:59:40.854784Z"
    },
    "papermill": {
     "duration": 1.716226,
     "end_time": "2022-02-21T01:05:48.379587",
     "exception": false,
     "start_time": "2022-02-21T01:05:46.663361",
     "status": "completed"
    },
    "tags": []
   },
   "outputs": [],
   "source": [
    "alpha = np.array([1e-5])\n",
    "ridge = Ridge(alpha = alpha, fit_intercept = True, normalize = False, solver = \"eig\")"
   ]
  },
  {
   "cell_type": "code",
   "execution_count": 9,
   "id": "dc978a26",
   "metadata": {
    "execution": {
     "iopub.execute_input": "2022-02-21T01:05:48.416395Z",
     "iopub.status.busy": "2022-02-21T01:05:48.415547Z",
     "iopub.status.idle": "2022-02-21T01:05:50.926598Z",
     "shell.execute_reply": "2022-02-21T01:05:50.927249Z",
     "shell.execute_reply.started": "2022-02-21T00:59:41.392782Z"
    },
    "papermill": {
     "duration": 2.531992,
     "end_time": "2022-02-21T01:05:50.927452",
     "exception": false,
     "start_time": "2022-02-21T01:05:48.395460",
     "status": "completed"
    },
    "tags": []
   },
   "outputs": [
    {
     "name": "stdout",
     "output_type": "stream",
     "text": [
      "Coefficients:\n",
      "[-1.14691398  0.83432582  0.33940664  0.79163618 -1.78472664  2.84783956\n",
      " -0.30429309 -2.9156248   2.11139957 -1.46519873 -1.96963459  1.07567768\n",
      " -3.90310711]\n",
      "Intercept:\n",
      "22.509454717075215\n"
     ]
    }
   ],
   "source": [
    "result_ridge = ridge.fit(X_train, y_train)\n",
    "print(\"Coefficients:\")\n",
    "print(result_ridge.coef_)\n",
    "print(\"Intercept:\")\n",
    "print(result_ridge.intercept_)"
   ]
  },
  {
   "cell_type": "code",
   "execution_count": 10,
   "id": "0293f1df",
   "metadata": {
    "execution": {
     "iopub.execute_input": "2022-02-21T01:05:50.966135Z",
     "iopub.status.busy": "2022-02-21T01:05:50.965318Z",
     "iopub.status.idle": "2022-02-21T01:05:50.968664Z",
     "shell.execute_reply": "2022-02-21T01:05:50.969039Z",
     "shell.execute_reply.started": "2022-02-21T00:59:42.094396Z"
    },
    "papermill": {
     "duration": 0.024252,
     "end_time": "2022-02-21T01:05:50.969198",
     "exception": false,
     "start_time": "2022-02-21T01:05:50.944946",
     "status": "completed"
    },
    "tags": []
   },
   "outputs": [],
   "source": [
    "preds = result_ridge.predict(X_test)"
   ]
  },
  {
   "cell_type": "code",
   "execution_count": 11,
   "id": "843c7c6f",
   "metadata": {
    "execution": {
     "iopub.execute_input": "2022-02-21T01:05:51.004654Z",
     "iopub.status.busy": "2022-02-21T01:05:51.003883Z",
     "iopub.status.idle": "2022-02-21T01:05:52.252343Z",
     "shell.execute_reply": "2022-02-21T01:05:52.253349Z",
     "shell.execute_reply.started": "2022-02-21T00:59:42.104665Z"
    },
    "papermill": {
     "duration": 1.268051,
     "end_time": "2022-02-21T01:05:52.253544",
     "exception": false,
     "start_time": "2022-02-21T01:05:50.985493",
     "status": "completed"
    },
    "tags": []
   },
   "outputs": [
    {
     "name": "stdout",
     "output_type": "stream",
     "text": [
      "MSE:\n",
      "139.59931994445407\n",
      "R2 Score:\n",
      "0.7112260015709102\n",
      "MAE:\n",
      "8.983415496553802\n"
     ]
    }
   ],
   "source": [
    "print(\"MSE:\")\n",
    "print(cuml.metrics.regression.mean_squared_error(y_test,preds))\n",
    "print(\"R2 Score:\")\n",
    "print(cuml.metrics.regression.r2_score(y_test,preds))\n",
    "print(\"MAE:\")\n",
    "print(cuml.metrics.regression.mean_absolute_error(y_test,preds))"
   ]
  },
  {
   "cell_type": "code",
   "execution_count": 12,
   "id": "ab4d6b05",
   "metadata": {
    "execution": {
     "iopub.execute_input": "2022-02-21T01:05:52.295648Z",
     "iopub.status.busy": "2022-02-21T01:05:52.294928Z",
     "iopub.status.idle": "2022-02-21T01:05:52.297733Z",
     "shell.execute_reply": "2022-02-21T01:05:52.297268Z",
     "shell.execute_reply.started": "2022-02-21T01:00:25.856499Z"
    },
    "papermill": {
     "duration": 0.026731,
     "end_time": "2022-02-21T01:05:52.297858",
     "exception": false,
     "start_time": "2022-02-21T01:05:52.271127",
     "status": "completed"
    },
    "tags": []
   },
   "outputs": [],
   "source": [
    "from cuml.linear_model import Lasso"
   ]
  },
  {
   "cell_type": "code",
   "execution_count": 13,
   "id": "b3026c79",
   "metadata": {
    "execution": {
     "iopub.execute_input": "2022-02-21T01:05:52.339021Z",
     "iopub.status.busy": "2022-02-21T01:05:52.338207Z",
     "iopub.status.idle": "2022-02-21T01:05:52.340897Z",
     "shell.execute_reply": "2022-02-21T01:05:52.340408Z",
     "shell.execute_reply.started": "2022-02-21T01:00:36.822040Z"
    },
    "papermill": {
     "duration": 0.02475,
     "end_time": "2022-02-21T01:05:52.341010",
     "exception": false,
     "start_time": "2022-02-21T01:05:52.316260",
     "status": "completed"
    },
    "tags": []
   },
   "outputs": [],
   "source": [
    "ls = Lasso(alpha = 0.1)"
   ]
  },
  {
   "cell_type": "code",
   "execution_count": 14,
   "id": "384c8820",
   "metadata": {
    "execution": {
     "iopub.execute_input": "2022-02-21T01:05:52.383696Z",
     "iopub.status.busy": "2022-02-21T01:05:52.379437Z",
     "iopub.status.idle": "2022-02-21T01:05:52.407381Z",
     "shell.execute_reply": "2022-02-21T01:05:52.407760Z",
     "shell.execute_reply.started": "2022-02-21T01:01:00.389134Z"
    },
    "papermill": {
     "duration": 0.048816,
     "end_time": "2022-02-21T01:05:52.407898",
     "exception": false,
     "start_time": "2022-02-21T01:05:52.359082",
     "status": "completed"
    },
    "tags": []
   },
   "outputs": [
    {
     "name": "stdout",
     "output_type": "stream",
     "text": [
      "Coefficients:\n",
      "[-0.82672061  0.39323408  0.          0.80490657 -1.28995831  2.93306839\n",
      " -0.11769109 -2.12965495  0.51459017 -0.04896216 -1.8254361   0.95338885\n",
      " -3.93544882]\n",
      "intercept:\n",
      "22.513044683878363\n"
     ]
    }
   ],
   "source": [
    "result_lasso = ls.fit(X_train, y_train)\n",
    "print(\"Coefficients:\")\n",
    "print(result_lasso.coef_)\n",
    "print(\"intercept:\")\n",
    "print(result_lasso.intercept_)"
   ]
  },
  {
   "cell_type": "code",
   "execution_count": 15,
   "id": "10e834e6",
   "metadata": {
    "execution": {
     "iopub.execute_input": "2022-02-21T01:05:52.448222Z",
     "iopub.status.busy": "2022-02-21T01:05:52.447443Z",
     "iopub.status.idle": "2022-02-21T01:05:52.452176Z",
     "shell.execute_reply": "2022-02-21T01:05:52.452598Z",
     "shell.execute_reply.started": "2022-02-21T01:01:20.452078Z"
    },
    "papermill": {
     "duration": 0.025893,
     "end_time": "2022-02-21T01:05:52.452720",
     "exception": false,
     "start_time": "2022-02-21T01:05:52.426827",
     "status": "completed"
    },
    "tags": []
   },
   "outputs": [],
   "source": [
    "preds = result_lasso.predict(X_test)"
   ]
  },
  {
   "cell_type": "code",
   "execution_count": 16,
   "id": "35ebcbd1",
   "metadata": {
    "execution": {
     "iopub.execute_input": "2022-02-21T01:05:52.491780Z",
     "iopub.status.busy": "2022-02-21T01:05:52.490565Z",
     "iopub.status.idle": "2022-02-21T01:05:52.499247Z",
     "shell.execute_reply": "2022-02-21T01:05:52.499777Z",
     "shell.execute_reply.started": "2022-02-21T01:01:35.091451Z"
    },
    "papermill": {
     "duration": 0.030448,
     "end_time": "2022-02-21T01:05:52.499948",
     "exception": false,
     "start_time": "2022-02-21T01:05:52.469500",
     "status": "completed"
    },
    "tags": []
   },
   "outputs": [
    {
     "name": "stdout",
     "output_type": "stream",
     "text": [
      "MSE:\n",
      "133.07640456326536\n",
      "R2 Score:\n",
      "0.6943175280788381\n",
      "MAE:\n",
      "8.773179529124079\n"
     ]
    }
   ],
   "source": [
    "print(\"MSE:\")\n",
    "print(cuml.metrics.regression.mean_squared_error(y_test,preds))\n",
    "print(\"R2 Score:\")\n",
    "print(cuml.metrics.regression.r2_score(y_test,preds))\n",
    "print(\"MAE:\")\n",
    "print(cuml.metrics.regression.mean_absolute_error(y_test,preds))"
   ]
  }
 ],
 "metadata": {
  "kernelspec": {
   "display_name": "Python 3",
   "language": "python",
   "name": "python3"
  },
  "language_info": {
   "codemirror_mode": {
    "name": "ipython",
    "version": 3
   },
   "file_extension": ".py",
   "mimetype": "text/x-python",
   "name": "python",
   "nbconvert_exporter": "python",
   "pygments_lexer": "ipython3",
   "version": "3.7.12"
  },
  "papermill": {
   "default_parameters": {},
   "duration": 23.628737,
   "end_time": "2022-02-21T01:05:54.814893",
   "environment_variables": {},
   "exception": null,
   "input_path": "__notebook__.ipynb",
   "output_path": "__notebook__.ipynb",
   "parameters": {},
   "start_time": "2022-02-21T01:05:31.186156",
   "version": "2.3.3"
  }
 },
 "nbformat": 4,
 "nbformat_minor": 5
}
