{
  "cells": [
    {
      "cell_type": "markdown",
      "metadata": {
        "id": "view-in-github",
        "colab_type": "text"
      },
      "source": [
        "<a href=\"https://colab.research.google.com/github/sahil301290/rapids_ML_DS/blob/main/Unit_4_NLP_3_Tokenisation.ipynb\" target=\"_parent\"><img src=\"https://colab.research.google.com/assets/colab-badge.svg\" alt=\"Open In Colab\"/></a>"
      ]
    },
    {
      "cell_type": "markdown",
      "metadata": {
        "id": "cZIT96aywFaN"
      },
      "source": [
        "# Tokenisation\n",
        "\n",
        "The notebook contains three types of tokenisation techniques:\n",
        "1. Word tokenisation\n",
        "2. Sentence tokenisation\n",
        "3. Tweet tokenisation\n",
        "4. Custom tokenisation using regular expressions"
      ]
    },
    {
      "cell_type": "markdown",
      "metadata": {
        "id": "-dt2zsy9wFaX"
      },
      "source": [
        "### 1. Word tokenisation"
      ]
    },
    {
      "cell_type": "code",
      "execution_count": 1,
      "metadata": {
        "colab": {
          "base_uri": "https://localhost:8080/"
        },
        "id": "HGgvUR08wFaY",
        "outputId": "bd965692-2ea2-4036-bcc3-54396fa9f03f"
      },
      "outputs": [
        {
          "output_type": "stream",
          "name": "stdout",
          "text": [
            "At nine o'clock I visited him myself. It looks like religious mania, and he'll soon think that he himself is God.\n"
          ]
        }
      ],
      "source": [
        "document = \"At nine o'clock I visited him myself. It looks like religious mania, and he'll soon think that he himself is God.\"\n",
        "print(document)"
      ]
    },
    {
      "cell_type": "markdown",
      "metadata": {
        "id": "wcQ3LPyGwFac"
      },
      "source": [
        "Tokenising on spaces using python"
      ]
    },
    {
      "cell_type": "code",
      "execution_count": 2,
      "metadata": {
        "colab": {
          "base_uri": "https://localhost:8080/"
        },
        "id": "UhMzxhmYwFad",
        "outputId": "fd8b7958-1370-4627-a8c7-9087bc87c506"
      },
      "outputs": [
        {
          "output_type": "stream",
          "name": "stdout",
          "text": [
            "['At', 'nine', \"o'clock\", 'I', 'visited', 'him', 'myself.', 'It', 'looks', 'like', 'religious', 'mania,', 'and', \"he'll\", 'soon', 'think', 'that', 'he', 'himself', 'is', 'God.']\n"
          ]
        }
      ],
      "source": [
        "print(document.split())"
      ]
    },
    {
      "cell_type": "markdown",
      "metadata": {
        "id": "YhTMXAzLwFae"
      },
      "source": [
        "Tokenising using nltk word tokeniser"
      ]
    },
    {
      "cell_type": "code",
      "execution_count": 3,
      "metadata": {
        "collapsed": true,
        "colab": {
          "base_uri": "https://localhost:8080/"
        },
        "id": "DLC-_yqdwFaf",
        "outputId": "f41f60aa-41bb-4e33-d15d-8aca0244eb5e"
      },
      "outputs": [
        {
          "output_type": "stream",
          "name": "stdout",
          "text": [
            "[nltk_data] Downloading package punkt to /root/nltk_data...\n",
            "[nltk_data]   Package punkt is already up-to-date!\n"
          ]
        }
      ],
      "source": [
        "from nltk.tokenize import word_tokenize\n",
        "import nltk\n",
        "nltk.download('punkt')\n",
        "words = word_tokenize(document)"
      ]
    },
    {
      "cell_type": "code",
      "execution_count": 4,
      "metadata": {
        "colab": {
          "base_uri": "https://localhost:8080/"
        },
        "id": "gUrWHYg2wFag",
        "outputId": "92df9e7f-c995-492f-f490-1f5e8b03e2e9"
      },
      "outputs": [
        {
          "output_type": "stream",
          "name": "stdout",
          "text": [
            "['At', 'nine', \"o'clock\", 'I', 'visited', 'him', 'myself', '.', 'It', 'looks', 'like', 'religious', 'mania', ',', 'and', 'he', \"'ll\", 'soon', 'think', 'that', 'he', 'himself', 'is', 'God', '.']\n"
          ]
        }
      ],
      "source": [
        "print(words)"
      ]
    },
    {
      "cell_type": "markdown",
      "metadata": {
        "id": "NIglBJGVwFah"
      },
      "source": [
        "NLTK's word tokeniser not only breaks on whitespaces but also breaks contraction words such as he'll into \"he\" and \"'ll\". On the other hand it doesn't break \"o'clock\" and treats it as a separate token."
      ]
    },
    {
      "cell_type": "markdown",
      "metadata": {
        "id": "oqYDp5AFwFai"
      },
      "source": [
        "### 2. Sentence tokeniser"
      ]
    },
    {
      "cell_type": "markdown",
      "metadata": {
        "id": "Ub7iL13CwFak"
      },
      "source": [
        "Tokenising based on sentence requires you to split on the period ('.'). Let's use nltk sentence tokeniser."
      ]
    },
    {
      "cell_type": "code",
      "execution_count": 5,
      "metadata": {
        "collapsed": true,
        "id": "X6UgcDqawFak"
      },
      "outputs": [],
      "source": [
        "from nltk.tokenize import sent_tokenize\n",
        "sentences = sent_tokenize(document)"
      ]
    },
    {
      "cell_type": "code",
      "execution_count": 6,
      "metadata": {
        "colab": {
          "base_uri": "https://localhost:8080/"
        },
        "id": "kwq4nPICwFal",
        "outputId": "62e2a107-2e40-4c46-d221-a0ef8248b7b0"
      },
      "outputs": [
        {
          "output_type": "stream",
          "name": "stdout",
          "text": [
            "[\"At nine o'clock I visited him myself.\", \"It looks like religious mania, and he'll soon think that he himself is God.\"]\n"
          ]
        }
      ],
      "source": [
        "print(sentences)"
      ]
    },
    {
      "cell_type": "markdown",
      "metadata": {
        "id": "kXumL2wdwFam"
      },
      "source": [
        "### 3. Tweet tokeniser"
      ]
    },
    {
      "cell_type": "markdown",
      "metadata": {
        "id": "avXXENOtwFam"
      },
      "source": [
        "A problem with word tokeniser is that it fails to tokeniser emojis and other complex special characters such as word with hashtags. Emojis are common these days and people use them all the time."
      ]
    },
    {
      "cell_type": "code",
      "execution_count": 7,
      "metadata": {
        "collapsed": true,
        "id": "e541JdOuwFan"
      },
      "outputs": [],
      "source": [
        "message = \"i recently watched this show called mindhunters:). i totally loved it 😍. it was gr8 <3. #bingewatching #nothingtodo 😎\""
      ]
    },
    {
      "cell_type": "code",
      "execution_count": 8,
      "metadata": {
        "scrolled": true,
        "colab": {
          "base_uri": "https://localhost:8080/"
        },
        "id": "gkcsR-RewFao",
        "outputId": "370bf75f-2ac6-47a1-ac49-ccff3e24cb15"
      },
      "outputs": [
        {
          "output_type": "stream",
          "name": "stdout",
          "text": [
            "['i', 'recently', 'watched', 'this', 'show', 'called', 'mindhunters', ':', ')', '.', 'i', 'totally', 'loved', 'it', '😍', '.', 'it', 'was', 'gr8', '<', '3', '.', '#', 'bingewatching', '#', 'nothingtodo', '😎']\n"
          ]
        }
      ],
      "source": [
        "print(word_tokenize(message))"
      ]
    },
    {
      "cell_type": "markdown",
      "metadata": {
        "id": "msRaW6Q7wFap"
      },
      "source": [
        "The word tokeniser breaks the emoji '<3' into '<' and '3' which is something that we don't want. Emojis have their own significance in areas like sentiment analysis where a happy face and sad face can salone prove to be a really good predictor of the sentiment. Similarly, the hashtags are broken into two tokens. A hashtag is used for searching specific topics or photos in social media apps such as Instagram and facebook. So there, you want to use the hashtag as is.\n",
        "\n",
        "Let's use the tweet tokeniser of nltk to tokenise this message."
      ]
    },
    {
      "cell_type": "code",
      "execution_count": 9,
      "metadata": {
        "collapsed": true,
        "id": "y2mPCjFHwFap"
      },
      "outputs": [],
      "source": [
        "from nltk.tokenize import TweetTokenizer\n",
        "tknzr = TweetTokenizer()"
      ]
    },
    {
      "cell_type": "code",
      "execution_count": 10,
      "metadata": {
        "colab": {
          "base_uri": "https://localhost:8080/"
        },
        "id": "ChhY0fnUwFaq",
        "outputId": "ed9f0c1b-56b4-4e6e-9fd1-bef10a8898b8"
      },
      "outputs": [
        {
          "output_type": "execute_result",
          "data": {
            "text/plain": [
              "['i',\n",
              " 'recently',\n",
              " 'watched',\n",
              " 'this',\n",
              " 'show',\n",
              " 'called',\n",
              " 'mindhunters',\n",
              " ':)',\n",
              " '.',\n",
              " 'i',\n",
              " 'totally',\n",
              " 'loved',\n",
              " 'it',\n",
              " '😍',\n",
              " '.',\n",
              " 'it',\n",
              " 'was',\n",
              " 'gr8',\n",
              " '<3',\n",
              " '.',\n",
              " '#bingewatching',\n",
              " '#nothingtodo',\n",
              " '😎']"
            ]
          },
          "metadata": {},
          "execution_count": 10
        }
      ],
      "source": [
        "tknzr.tokenize(message)"
      ]
    },
    {
      "cell_type": "markdown",
      "metadata": {
        "id": "ER1JePfNwFar"
      },
      "source": [
        "As you can see, it handles all the emojis and the hashtags pretty well.\n",
        "\n",
        "Now, there is a tokeniser that takes a regular expression and tokenises and returns result based on the pattern of regular expression.\n",
        "\n",
        "Let's look at how you can use regular expression tokeniser."
      ]
    },
    {
      "cell_type": "code",
      "execution_count": 11,
      "metadata": {
        "collapsed": true,
        "id": "vI09T4t8wFas"
      },
      "outputs": [],
      "source": [
        "from nltk.tokenize import regexp_tokenize\n",
        "message = \"i recently watched this show called mindhunters:). i totally loved it 😍. it was gr8 <3. #bingewatching #nothingtodo 😎\"\n",
        "pattern = \"#[\\w]+\""
      ]
    },
    {
      "cell_type": "code",
      "execution_count": 12,
      "metadata": {
        "colab": {
          "base_uri": "https://localhost:8080/"
        },
        "id": "EBOyxEnRwFas",
        "outputId": "9db3f2e1-d6bc-4aab-8319-eb22de4a6656"
      },
      "outputs": [
        {
          "output_type": "execute_result",
          "data": {
            "text/plain": [
              "['#bingewatching', '#nothingtodo']"
            ]
          },
          "metadata": {},
          "execution_count": 12
        }
      ],
      "source": [
        "regexp_tokenize(message, pattern)"
      ]
    }
  ],
  "metadata": {
    "kernelspec": {
      "display_name": "Python 3",
      "language": "python",
      "name": "python3"
    },
    "language_info": {
      "codemirror_mode": {
        "name": "ipython",
        "version": 3
      },
      "file_extension": ".py",
      "mimetype": "text/x-python",
      "name": "python",
      "nbconvert_exporter": "python",
      "pygments_lexer": "ipython3",
      "version": "3.6.5"
    },
    "colab": {
      "name": "Unit_4_NLP_3_Tokenisation.ipynb",
      "provenance": [],
      "include_colab_link": true
    }
  },
  "nbformat": 4,
  "nbformat_minor": 0
}