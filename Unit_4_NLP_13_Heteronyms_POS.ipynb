{
  "nbformat": 4,
  "nbformat_minor": 0,
  "metadata": {
    "colab": {
      "name": "Unit_4_NLP_13_Heteronyms_POS.ipynb",
      "provenance": [],
      "collapsed_sections": [],
      "include_colab_link": true
    },
    "kernelspec": {
      "name": "python3",
      "display_name": "Python 3"
    },
    "language_info": {
      "name": "python"
    }
  },
  "cells": [
    {
      "cell_type": "markdown",
      "metadata": {
        "id": "view-in-github",
        "colab_type": "text"
      },
      "source": [
        "<a href=\"https://colab.research.google.com/github/sahil301290/rapids_ML_DS/blob/main/Unit_4_NLP_13_Heteronyms_POS.ipynb\" target=\"_parent\"><img src=\"https://colab.research.google.com/assets/colab-badge.svg\" alt=\"Open In Colab\"/></a>"
      ]
    },
    {
      "cell_type": "markdown",
      "metadata": {
        "id": "C5jJ9kQzPjge"
      },
      "source": [
        "**Heteronyms** are the words that have same spelling but mean different things when pronounced differently. \n",
        "\n",
        "\n",
        "- Recall the word *lead* from the lecture. It can refer to the metal lead or the act of leadership. The two pronounciations have different meanings.\n",
        "\n",
        "- For machine translation systems or text to speech systems, the ability to identify the correct sense of the word is crucial.\n",
        "\n",
        "\n"
      ]
    },
    {
      "cell_type": "markdown",
      "metadata": {
        "id": "sHvYVoL7i7_a"
      },
      "source": [
        "Let us have a look at this example:\n",
        "\n",
        "https://translate.google.com/?sl=en&tl=hi&text=She%20wished%20she%20could%20desert%20him%20in%20the%20desert.%0A&op=translate\n",
        "\n",
        "Example taken from: http://www-personal.umich.edu/~cellis/heteronym.html\n"
      ]
    },
    {
      "cell_type": "code",
      "metadata": {
        "id": "foKQ_tmOEca0"
      },
      "source": [
        "# Import SpaCy library\n",
        "import spacy "
      ],
      "execution_count": 1,
      "outputs": []
    },
    {
      "cell_type": "code",
      "metadata": {
        "id": "YRtKtXi9kC72"
      },
      "source": [
        "# Load pre-trained SpaCy model for performing basic \n",
        "# NLP tasks such as POS tagging, parsing, etc.\n",
        "model = spacy.load(\"en_core_web_sm\")"
      ],
      "execution_count": 2,
      "outputs": []
    },
    {
      "cell_type": "markdown",
      "source": [
        "- ‘en’ stands for English language, which means you are working specifically on English language using the spaCy library.\n",
        "\n",
        "- ‘core’ stands for core NLP tasks such as lemmatization or PoS tagging, which means you are loading the pre-built models which can perform some of the core NLP-related tasks.\n",
        "\n",
        "- ‘web’ is the pre-built model of the spaCy library which you will use for NLP tasks that are trained from web source content such as blogs, social media and comments.\n",
        "\n",
        "- ‘sm’ means small models which are faster and use smaller pipelines but are comparatively less accurate. As a complement to ‘sm’, you can use ‘lg’ or ‘md’ for larger pipelines which will be more accurate than ‘sm’."
      ],
      "metadata": {
        "id": "6aPTk9F83GLB"
      }
    },
    {
      "cell_type": "code",
      "metadata": {
        "id": "yjtQ_cgdk3pn"
      },
      "source": [
        "#Use the model to process the input sentence\n",
        "tokens = model(\"She wished she could desert him in the desert.\")"
      ],
      "execution_count": 3,
      "outputs": []
    },
    {
      "cell_type": "markdown",
      "source": [
        "-  ‘token.pos_’ : it prints the part of speech\n",
        "\n",
        "- ‘token.tag_’ : it prints the PoS tags corresponding to each token in a given sentence. "
      ],
      "metadata": {
        "id": "U_4j0lB73ZNo"
      }
    },
    {
      "cell_type": "code",
      "metadata": {
        "colab": {
          "base_uri": "https://localhost:8080/"
        },
        "id": "gXtwtkrflcPF",
        "outputId": "6c547096-31f0-4b1c-cefe-22df1daed052"
      },
      "source": [
        "# Print the tokens and their respective PoS tags.\n",
        "for token in tokens:\n",
        "    print(token.text, \"--\", token.pos_, \"--\", token.tag_)"
      ],
      "execution_count": 4,
      "outputs": [
        {
          "output_type": "stream",
          "name": "stdout",
          "text": [
            "She -- PRON -- PRP\n",
            "wished -- VERB -- VBD\n",
            "she -- PRON -- PRP\n",
            "could -- VERB -- MD\n",
            "desert -- VERB -- VB\n",
            "him -- PRON -- PRP\n",
            "in -- ADP -- IN\n",
            "the -- DET -- DT\n",
            "desert -- NOUN -- NN\n",
            ". -- PUNCT -- .\n"
          ]
        }
      ]
    },
    {
      "cell_type": "markdown",
      "metadata": {
        "id": "G5YMNqqF-sHl"
      },
      "source": [
        "Note here that in the above example, the two instances of *desert* have different PoS tags and hence, the text to speech system can use this information to generate the correct pronounciation. \n",
        "\n",
        "The above task is a specific example of the larger NLP problem called Word Sense Disambiguation (WSD). For words that have more than one meaning, WSD is the problem of identifying the correct meaning of the word based on the context in which the word is used.\n",
        "\n"
      ]
    },
    {
      "cell_type": "markdown",
      "metadata": {
        "id": "gJMNHvrRx-rA"
      },
      "source": [
        "Note that this technique will not work when the different meanings have the same PoS tags.\n",
        "\n",
        "https://translate.google.com/?sl=en&tl=hi&text=The%20bass%20swam%20around%20the%20bass%20drum%20on%20the%20ocean%20floor.&op=translate"
      ]
    },
    {
      "cell_type": "code",
      "metadata": {
        "id": "Xd8l1zfNmgQz",
        "colab": {
          "base_uri": "https://localhost:8080/"
        },
        "outputId": "7361db4d-c41d-4dad-a55a-e8fb50f90b9b"
      },
      "source": [
        "# Let's take a new example.\n",
        "tokens = model(\"The bass swam around the bass drum on the ocean floor\")\n",
        "for token in tokens:\n",
        "    print(token.text, \"--\", token.pos_, \"--\", token.tag_)"
      ],
      "execution_count": 5,
      "outputs": [
        {
          "output_type": "stream",
          "name": "stdout",
          "text": [
            "The -- DET -- DT\n",
            "bass -- NOUN -- NN\n",
            "swam -- PROPN -- NNP\n",
            "around -- ADP -- IN\n",
            "the -- DET -- DT\n",
            "bass -- NOUN -- NN\n",
            "drum -- NOUN -- NN\n",
            "on -- ADP -- IN\n",
            "the -- DET -- DT\n",
            "ocean -- NOUN -- NN\n",
            "floor -- NOUN -- NN\n"
          ]
        }
      ]
    },
    {
      "cell_type": "markdown",
      "source": [
        "WSD is altogether a broader area to discover and it is an open problem in computational linguistics concerned with identifying which sense of a word is used in a sentence."
      ],
      "metadata": {
        "id": "f7vLmoE34k2R"
      }
    }
  ]
}